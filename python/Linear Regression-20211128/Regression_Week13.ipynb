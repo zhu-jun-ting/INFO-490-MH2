{
  "cells": [
    {
      "cell_type": "markdown",
      "metadata": {
        "id": "vMc9bk8cjDB0"
      },
      "source": [
        "#**Regression**\n",
        "As we may remember, there are two major machine learning techniques under the supervised ML category: **regression** and **classification**. Both use 'labeled' data to build a model for prediction (usually). If the prediction is a real valued number, it falls under the category of *regression*. If the prediction is a categorical or discrete values, it's called *classification*. And to add some confusion, *logistic* regression is a type of *classification*.\n",
        "\n",
        "#**Linear Regression**\n",
        "\n",
        "Linear regression is one of those words (like calculus or linear algebra) where we have probably have heard of it before (perhaps in a high school algebra class, or a college statistics class), but may not *know* (or forgotten) what it does or how it works.\n",
        "\n",
        "Recently, it seems to have made a comeback and the fields of data science and machine learning are trying to claim 'ownership' of it. Linear regression is a technique that goes back to the early 1800's and is strongly rooted in the field of statistics.\n",
        "\n",
        "#**Linear vs Polynomial Fitting**\n",
        "This lesson's focus is on regression, but specifically linear regression. Linear regression uses the equation of a line as its 'model'. Here a straight line is used to represent the data (the best it can).\n",
        "\n",
        "![](https://drive.google.com/uc?export=view&id=1jVlCo94YUV1rQooo_VTV6yfaKiaIqdk7)\n",
        "\n",
        "If the line needs to become a curve, it becomes *polynomial* regression. We will look at this later in the lesson.\n",
        "\n",
        "#**Single vs Multiple Independent Variables**\n",
        "\n",
        "When there is only one independent variable involved (also called the predictor, explanatory), it's called *simple* linear regression or *univariate* linear regression. If more than one independent variable is involved, it called *multiple (or multivariate)* linear regression. If regression is used without any qualifiers, it's usually simple, linear regression.\n",
        "\n",
        "In all possible configurations, mastering the simple linear regression model makes understanding all the others fall into place -- much of the techniques stay the same, just in 'higher' dimensions.\n",
        "\n",
        "#**A Simple Goal**\n",
        "The goal of linear regression is to find the best fitting line for a set of points/objects in a dataset. Once you have this line, it can be used to make predictions (assuming the line does a good job of modeling the data).\n",
        "\n",
        "![](https://drive.google.com/uc?export=view&id=1fvWUvDW1QhyttAvVVMmqnFY8x7KKq8gN)\n",
        "\n",
        "\n",
        "#**A Line, revisited**\n",
        "As we saw in a previous lesson, a line is defined by its slope and y intercept. The equation of line $y = mx + b$ is the heart of linear regression.\n",
        "\n",
        "If you think of this equation as a function, it could be written as\n",
        "```\n",
        "def f(x):\n",
        "  return m * x + b\n",
        "```\n",
        "\n",
        "* $y$ is the output of the function (the dependent, response, outcome variable)\n",
        "* $x$ is the input to the function (the independent, predictor, explanatory variable) \n",
        "* $m$ represents the slope\n",
        "* $b$ represents the $y$ intercept (the value when $x$ is zero)\n",
        "\n",
        "Note that this equation, $y = mx+b$ is sometime referred to as *polynomial* equation of degree 1 (i.e. first degree polynomial). If you had an equation that looked like $y = ax^2 + bx + c$, you would call it a quadratic equation. To solve this, you set $y$ to $0$ and use the quadratic equation to find the values of $x$. But we digress.\n",
        "\n",
        "There are different algorithms for linear regression (the focus of this lesson), but essentially, each is trying to determine or find a line's slope $(m)$ and its y-intercept $(b\\ or\\ y0)$."
      ]
    },
    {
      "cell_type": "markdown",
      "metadata": {
        "id": "WO6-UtfPkzyj"
      },
      "source": [
        "#**A dataset of 2 Points**\n",
        "\n",
        "![](https://drive.google.com/uc?export=view&id=1jb_PkAhoL1Mw2T5lz94x6YGJoeM5Ng3n)\n",
        "\n",
        "The simplest line (as shown above), can be derived by 2 points. The resulting line 'perfectly fits' the data (the 2 points). Each point is on the calculated line; the distance from the line to each point is zero. If the dataset has a small number of samples, we need to use additional metrics if we want to make any claims with statistical confidence.\n",
        "\n",
        "#**A dataset of 3 Points (or more)**\n",
        "\n",
        "When you add additional points to the data, calculating the slope and y-intercept is no longer trivial. You can pick any two points from the dataset to create a line; however, there will be no line that passes through all the other points (unless they are all one the line -- that is, they are some linear combination of the two selected points).\n",
        "\n",
        "The goal of linear regression is to find the best *fitting line*. We define 'best fitting' as the line that minimizes the sum of the squared distances between the y values in the dataset (the actual values) and the y values calculated from the fitted line ŷ (y-hat).\n",
        "\n",
        "\n",
        "![](https://drive.google.com/uc?export=view&id=1WzaI6D1LpqarHqZCFdyr_gtXWS0jqsrO)"
      ]
    },
    {
      "cell_type": "markdown",
      "metadata": {
        "id": "U7tvH6JGlUMO"
      },
      "source": [
        "#**The Objective Function**\n",
        "The sum of squared distances is called the sum of squared errors (SSE) or **residuals**. So the goal of linear regression is to minimize the following function (be sure to understand this, before moving on) for the n data observations:\n",
        "\n",
        "\n",
        "<div align=\"center\"> $SSE = \\sum_{i=1}^n (y_i - \\hat{y_i})^2$ </div>\n",
        "\n",
        "\n",
        "How do we do that? That is how can one select the line (defined by its slope and y-intercept) such that the SSE is minimized?\n",
        "\n",
        "Well, that **is** the field of linear regression. This lesson will look at different techniques to fit a line to a dataset that minimized the SSE and some ways to apply regression to a dataset. In math, statistics, and machine learning, they use different techniques to take the data and 'figure out' which line best models the data.\n",
        "\n",
        "Once we find the line that minimizes SSE, we can then calculate other statistics to help us understand the correlation (if any) between the data attributes (i.e. \"is there a linear relationship between x and y?\").\n",
        "\n",
        "#**A page out of Stats 101 (literally)**\n",
        "\n",
        "![](https://drive.google.com/uc?export=view&id=1BHCtqiIpk_CpYe058k09wqJFz-3d8Ag-)\n",
        "\n",
        "\n",
        "#**A Statistician's View of Linear Regression**\n",
        "The above image is taken from page 450 from Learning From Data ($2^{nd}$ edition). But any statistics book on linear regression will have the formulas necessary to find the slope and y- intercept of the regression line (the one that minimizes SSE).\n",
        "\n",
        "In this example, we are going to use the same dataset the book uses and go over the formulas (the dataset comes from a fictitious sociologist investigating the relationship between the number of years mothers attend college and the number of years their daughters attend college).\n",
        "\n",
        "![](https://drive.google.com/uc?export=view&id=15fJ0UbVmeoL74MmA80sCsXlgzgFFRPK1)\n",
        "\n",
        "Let's load up the data. The following function uses pandas to load the dataset, but then returns two parallel numpy arrays, one for the x (the independent variable) attribute and one for the y (the dependent variable) attribute."
      ]
    },
    {
      "cell_type": "code",
      "execution_count": 1,
      "metadata": {
        "id": "rrWDCyC3mCB9"
      },
      "outputs": [
        {
          "name": "stdout",
          "output_type": "stream",
          "text": [
            "   ID  Mother  Daughter  XY\n",
            "0   1       0         0   0\n",
            "1   2       0         1   0\n",
            "2   3       1         2   2\n",
            "3   4       2         3   6\n",
            "4   5       2         4   8\n"
          ]
        }
      ],
      "source": [
        "import pandas as pd\n",
        "import numpy as np\n",
        "def xy_from_file(p, x, y, show=False):\n",
        "    df = pd.read_csv(p)\n",
        "    if show:\n",
        "        df['XY'] = df[x] * df[y]\n",
        "        print(df.head())\n",
        "    x_values = df[x].values\n",
        "    y_values = df[y].values\n",
        "    return x_values, y_values\n",
        "xv, yv = xy_from_file(('data20-1.csv'), 'Mother', 'Daughter', show=True)"
      ]
    },
    {
      "cell_type": "markdown",
      "metadata": {
        "id": "QS-57EA1l1nS"
      },
      "source": [
        "#**All those ∑'s**\n",
        "\n",
        "Looking at Table 20-1, we now need to calculate the various summation quantities $(e.g. \\sum x, \\sum y, \\sum x^2, \\sum y^2, etc)$. These will be used for determining the slope and y-intercept of a line. Luckily we can use numpy to make this very straightforward:"
      ]
    },
    {
      "cell_type": "code",
      "execution_count": 2,
      "metadata": {
        "id": "ih-l9OZ1mFkZ"
      },
      "outputs": [
        {
          "name": "stdout",
          "output_type": "stream",
          "text": [
            "y = 1.500x + 0.500\n"
          ]
        }
      ],
      "source": [
        "def find_line(x,y):\n",
        "  \n",
        "    x_sum  = np.sum(x)              # ∑x\n",
        "    y_sum  = np.sum(y)              # ∑y\n",
        "    xy_sum = np.sum(x * y)          # ∑(xy)\n",
        "\n",
        "    x2_sum = np.sum(np.square(x))   # ∑(x2) \n",
        "    y2_sum = np.sum(np.square(y))   # ∑(y2)\n",
        "    \n",
        "    x_ave  = np.mean(x)\n",
        "    y_ave  = np.mean(y)\n",
        "\n",
        "    n = np.size(x)\n",
        "    dx = (n * xy_sum - x_sum * y_sum)\n",
        "    dy = (n * x2_sum - x_sum * x_sum)\n",
        "\n",
        "    slope = dx/dy\n",
        "    y0 = y_ave - slope * x_ave  # y0 is the same as b\n",
        "\n",
        "    print(\"y = {:.3f}x + {:.3f}\".format(slope, y0))\n",
        "\n",
        "xv, yv = xy_from_file(('data20-1.csv'), 'Mother', 'Daughter')\n",
        "find_line(xv, yv)"
      ]
    },
    {
      "cell_type": "markdown",
      "metadata": {
        "id": "qv09rfoJmsAo"
      },
      "source": [
        "#**Ready for plugin**\n",
        "\n",
        "![](https://drive.google.com/uc?export=view&id=1NiSSHm8YAUMsoEZAXJ7IhatP57bhhetJ)\n",
        "\n",
        "The above image gives all the necessary formulas for calculating the slope and y-intercept with the above calculations.\n",
        "Add the following code to find_line.\n",
        "\n",
        "```\n",
        "n = np.size(x)\n",
        "dx = (n * xy_sum - x_sum * y_sum)\n",
        "dy = (n * x2_sum - x_sum * x_sum)\n",
        "\n",
        "slope = dx/dy\n",
        "y0 = y_ave - slope * x_ave  # y0 is the same as b\n",
        "\n",
        "print(\"y = {:.3f}x + {:.3f}\".format(slope, y0))\n",
        "```\n",
        "\n",
        "The following should now work:\n",
        "\n",
        "```\n",
        "xv, yv = xy_from_file(('data20-1.csv'), 'Mother', 'Daughter')\n",
        "find_line(xv, yv)\n",
        "```"
      ]
    },
    {
      "cell_type": "code",
      "execution_count": 3,
      "metadata": {
        "id": "18qCUkz5m5Pf"
      },
      "outputs": [
        {
          "name": "stdout",
          "output_type": "stream",
          "text": [
            "y = 1.500x + 0.500\n"
          ]
        }
      ],
      "source": [
        "xv, yv = xy_from_file(('data20-1.csv'), 'Mother', 'Daughter')\n",
        "find_line(xv, yv)\n",
        "\n",
        "#You should see y = 1.500x + 0.500. Which confirms the example."
      ]
    },
    {
      "cell_type": "code",
      "execution_count": 4,
      "metadata": {},
      "outputs": [
        {
          "data": {
            "text/plain": [
              "(array([0, 0, 1, 2, 2, 3]), array([0, 1, 2, 3, 4, 5]))"
            ]
          },
          "execution_count": 4,
          "metadata": {},
          "output_type": "execute_result"
        }
      ],
      "source": [
        "xv, yv"
      ]
    },
    {
      "cell_type": "markdown",
      "metadata": {
        "id": "Mr0z1Nnqm--V"
      },
      "source": [
        "#**Measuring the Strength of the the Linear Relationship**\n",
        "\n",
        "Given any dataset, we can always fit a line to it. And by definition it will be the best fitting line. But the question of how well the dependent variable's variation is explained by the dependent variable needs to be addressed.\n",
        "\n",
        "The following image depicts some of the important calculations we can make to help answer that question:\n",
        "\n",
        "![](https://drive.google.com/uc?export=view&id=1NpWZi0JWAma__5dl35s-swgXmYMmXiCL)"
      ]
    },
    {
      "cell_type": "markdown",
      "metadata": {
        "id": "oenCQjmvnKVT"
      },
      "source": [
        "###**SST, SSE, MSE**\n",
        "\n",
        "SST is the total variation between the average y (dependent variable) and each point. It is the sum of the squared differences. Using NumPy it is simply:\n",
        "\n",
        "```\n",
        "SST = np.sum(np.square(y - y_ave))\n",
        "```\n",
        "\n",
        "SSE is the sum of the squared residuals. It is what the least squares method is minimizing. The **M**ean **S**quared **E**rrors is a scaled version of the SSE. It is the SSE divided by the number of observations. It will be a useful measurement in an upcoming lesson.\n",
        "\n",
        "###**R and R$^2$**\n",
        "\n",
        "As we saw, regression finds the best-fitting straight line; *correlation* is used to describe the strength of the relationship. The Pearson correlation coefficient, R, helps determine if two variables are strongly related. It basically measures how much of the variability of the dependent variable is explained by the independent variable. The Pearson correlation statistic measures this strength. It's range is -1 to +1. Values close to 0 imply the variables are unrelated.\n",
        "\n",
        "![](https://drive.google.com/uc?export=view&id=1kJTsM8rwjdmgjquT-847sG_JWEk0u4j2)\n",
        "\n",
        "$R^2$ is of course related to R but is easier to interpret. It is calculated via\n",
        "\n",
        "<div align=\"center\"> $R^2 = \\frac{Var(mean) - Var(line)}{Var(mean)}$ </div>\n",
        "\n",
        "\n",
        "Var(mean)\n",
        "* variance around the mean (looking at the y values)\n",
        "* sum of the squared differences from the mean (between the actual y and the mean) \n",
        "* SST (or SSM == SST/n)\n",
        "\n",
        "Var(line)\n",
        "* variance around the actual and predicted values\n",
        "* sum of the squared difference between actual value and predicted value \n",
        "* SSE (or MSE == SSE/n)\n",
        "\n",
        "So based on our previous discussion, $R^2$ can also be defined as\n",
        "\n",
        "<div align=\"center\"> $R^2 = \\frac{SST - SSE}{SST}$ </div>\n",
        "\n",
        "\n",
        "<br>\n",
        "\n",
        "####**R$^2$ as a Percentage**\n",
        "\n",
        "The $R^2$ range is [0, 1] and can be thought of as a percentage: it is the percentage of variation explained by the relationship between the two variables.\n",
        "\n",
        "####**20-1 example:**\n",
        "\n",
        "For the 20-1 data, $R^2$ is 0.94. The daughter/mother relationship accounts for 94% of the variation in the data.\n",
        "\n",
        "#**The p-value**\n",
        "\n",
        "![](https://drive.google.com/uc?export=view&id=1QasN_SXK4L84fbWXW51_XW4cCZQLenc6)\n",
        "\n",
        "From statistics, the p-value is the probability that random chance generated the data under investigation. It can be used to determine if $R^2$ is statistically significant or not. A low p-value, tells you if the $R^2$ value is due to chance (or something equal or rarer).\n",
        "\n",
        "Although we won't calculate it, several of the libraries we will use, do give you a p-value as well."
      ]
    },
    {
      "cell_type": "markdown",
      "metadata": {
        "id": "Y5r3B3HNpRZd"
      },
      "source": [
        "\n",
        "\n",
        "#**Exercise**\n",
        "#**(part of the Lesson requirements)**\n",
        "**LinearRegressionOLS**\n",
        "\n",
        "Create a class named LinearRegressionOLS whose constructor takes an x and y array of values. It calculates (using only numpy) and saves the following as instance attributes (attribute name in parenthesis):\n",
        "\n",
        "* the x values (x)\n",
        "* the y values (y)\n",
        "* the slope (slope)\n",
        "* the y intercept (y0)\n",
        "* the SSE (SSE)\n",
        "* r2, the correlation coefficient squared (r2)\n",
        "\n",
        "**Easy printing**\n",
        "\n",
        "Implement the method so that printing a LinearRegressionOLS instance will be similar to find_line.\n",
        "\n",
        "Most of the work has been done for you. It's now a matter of encapsulating all the information in a Python class."
      ]
    },
    {
      "cell_type": "code",
      "execution_count": 5,
      "metadata": {
        "id": "0S4BsvJZp5WT"
      },
      "outputs": [
        {
          "name": "stdout",
          "output_type": "stream",
          "text": [
            "y = 1.500x + 0.500\n",
            "<__main__.LinearRegressionOLS object at 0x7fed9c3518e0> (1.000)\n",
            "y = 2.906x + 7.312\n",
            "<__main__.LinearRegressionOLS object at 0x7feda02cefd0> (376.500)\n"
          ]
        }
      ],
      "source": [
        "import numpy as np\n",
        "import pandas as pd\n",
        "import matplotlib.pyplot as plt\n",
        "\n",
        "class LinearRegressionOLS(object):\n",
        "\n",
        "   def __init__(self, x, y) -> None:\n",
        "\n",
        "      super().__init__()\n",
        "\n",
        "      self.x = x\n",
        "      self.y = y\n",
        "\n",
        "      self.x_sum  = np.sum(x)              # ∑x\n",
        "      self.y_sum  = np.sum(y)              # ∑y\n",
        "      self.xy_sum = np.sum(x * y)          # ∑(xy)\n",
        "\n",
        "      self.x2_sum = np.sum(np.square(x))   # ∑(x2) \n",
        "      self.y2_sum = np.sum(np.square(y))   # ∑(y2)\n",
        "      \n",
        "      self.x_ave  = np.mean(x)\n",
        "      self.y_ave  = np.mean(y)\n",
        "\n",
        "      self.n = np.size(x)\n",
        "      self.dx = (self.n * self.xy_sum - self.x_sum * self.y_sum)\n",
        "      self.dy = (self.n * self.x2_sum - self.x_sum * self.x_sum)\n",
        "\n",
        "      self.slope = self.dx/self.dy\n",
        "      self.y0 = self.y_ave - self.slope * self.x_ave  # y0 is the same as bss\n",
        "\n",
        "      self.SSE = 0\n",
        "      for X, Y in zip(x, y):\n",
        "         # print(X, Y)\n",
        "         Y_line = self.slope * X + self.y0\n",
        "         self.SSE += np.square(Y - Y_line)\n",
        "      \n",
        "      self.SSR = 0\n",
        "      for X, Y in zip(x, y):\n",
        "         Y_line = self.slope * X + self.y0\n",
        "         self.SSR += np.square(self.y_ave - Y_line)      \n",
        "      \n",
        "      self.SST = 0\n",
        "      for X, Y in zip(x, y):\n",
        "         self.SST += np.square(self.y_ave - Y)   \n",
        "      self.r2 = (self.SST - self.SSE) / self.SST\n",
        "\n",
        "      print(\"y = {:.3f}x + {:.3f}\".format(self.slope, self.y0))\n",
        "\n",
        "   def predict(self, x_value):\n",
        "      return self.slope * x_value + self.y0\n",
        "\n",
        "   def display(self, equal_aspect=False):\n",
        "\n",
        "      fig, axes = plt.subplots(1,1)\n",
        "\n",
        "      # plot the points\n",
        "      axes.scatter(self.x, self.y, s=75, color='gray')\n",
        "\n",
        "      # plot the fitted line\n",
        "      x1 = np.min(self.x)\n",
        "      y1 = self.predict(x1)\n",
        "      x2 = np.max(self.x) + 0.25\n",
        "      y2 = self.predict(x2)\n",
        "      axes.plot([x1, x2], [y1,y2], color='blue')\n",
        "\n",
        "      if equal_aspect:\n",
        "         # make the axis' look nice\n",
        "         max_v = np.max(np.maximum(self.x, self.y)) + 0.25\n",
        "         axes.set_ylim(0, max_v)\n",
        "         axes.set_xlim(0, max_v)\n",
        "         axes.set_aspect('equal')\n",
        "  \n",
        "      return fig\n",
        "\n",
        "# same data from Table 20-1\n",
        "xv, yv = xy_from_file(('data20-1.csv'), 'Mother', 'Daughter')\n",
        "stats_line = LinearRegressionOLS(xv, yv)\n",
        "print(stats_line, \"({:.3f})\".format(stats_line.SSE))\n",
        "\n",
        "# data from Table 20-2; different dataset (same book, p.458)\n",
        "xv, yv = xy_from_file(('data20-2.csv'), 'SUGAR', 'TIME')\n",
        "stats_line = LinearRegressionOLS(xv, yv)\n",
        "print(stats_line, \"({:.3f})\".format(stats_line.SSE))"
      ]
    },
    {
      "cell_type": "markdown",
      "metadata": {
        "id": "VS2oZdRuqC2e"
      },
      "source": [
        "Once done the following should work:\n",
        "\n",
        "```\n",
        "# same data from Table 20-1\n",
        "xv, yv = xy_from_file(('data20-1.csv'), 'Mother', 'Daughter')\n",
        "stats_line = LinearRegressionOLS(xv, yv)\n",
        "print(stats_line, \"({:.3f})\".format(stats_line.SSE))\n",
        "\n",
        "# data from Table 20-2; different dataset (same book, p.458)\n",
        "xv, yv = xy_from_file(('data20-2.csv'), 'SUGAR', 'TIME')\n",
        "stats_line = LinearRegressionOLS(xv, yv)\n",
        "print(stats_line, \"({:.3f})\".format(stats_line.SSE))\n",
        "```\n",
        "\n",
        "The output should be:\n",
        "\n",
        "```\n",
        "y = 1.500x + 0.500 (1.000)\n",
        "y = 2.906x + 7.312 (376.500)\n",
        "```"
      ]
    },
    {
      "cell_type": "markdown",
      "metadata": {
        "id": "oiefUuq6qT07"
      },
      "source": [
        "### **Prediction**\n",
        "\n",
        "Of course we can use this model to make predictions as well -- that's one of the main reasons for using linear regression. Although the accuracy of the prediction is based on the quality of the data as well as the true correlation of the dependent variable (y) with the independent variable (x).\n",
        "\n",
        "Add the following method (predict) to your LinearRegressionOLS class so one can use it to make predictions. Once it is done the following should work:\n",
        "\n",
        "```\n",
        "prediction = model.predict(x_value)\n",
        "```\n",
        "\n",
        "###**Drawing the line**\n",
        "\n",
        "With the other methods in place, the next thing we want to do is draw the regression model. Add the following code to your class so we can display the data points and the fitted line:\n",
        "\n",
        "```\n",
        "def display(self, equal_aspect=False):\n",
        "\n",
        "    fig, axes = plt.subplots(1,1)\n",
        "\n",
        "    # plot the points\n",
        "    axes.scatter(self.x, self.y, s=75, color='gray')\n",
        "\n",
        "    # plot the fitted line\n",
        "    x1 = np.min(self.x)\n",
        "    y1 = self.predict(x1)\n",
        "    x2 = np.max(self.x) + 0.25\n",
        "    y2 = self.predict(x2)\n",
        "    axes.plot([x1, x2], [y1,y2], color='blue')\n",
        "\n",
        "    if equal_aspect:\n",
        "        # make the axis' look nice\n",
        "        max_v = np.max(np.maximum(self.x, self.y)) + 0.25\n",
        "        axes.set_ylim(0, max_v)\n",
        "        axes.set_xlim(0, max_v)\n",
        "        axes.set_aspect('equal')\n",
        "  \n",
        "  return fig\n",
        "```\n",
        "\n",
        "Once this is done, you should have a nice looking graph that mimics the image taken from the textbook:\n",
        "\n",
        "![](https://drive.google.com/uc?export=view&id=1qI1oMiqImhwd-9cD1w8x3EwmM3_dkZ6y)"
      ]
    },
    {
      "cell_type": "code",
      "execution_count": 6,
      "metadata": {},
      "outputs": [
        {
          "data": {
            "image/png": "[encoded data removed]",
            "text/plain": [
              "<Figure size 432x288 with 1 Axes>"
            ]
          },
          "execution_count": 6,
          "metadata": {},
          "output_type": "execute_result"
        },
        {
          "data": {
            "image/png": "[encoded data removed]",
            "text/plain": [
              "<Figure size 432x288 with 1 Axes>"
            ]
          },
          "metadata": {
            "needs_background": "light"
          },
          "output_type": "display_data"
        }
      ],
      "source": [
        "stats_line.display()"
      ]
    },
    {
      "cell_type": "code",
      "execution_count": 7,
      "metadata": {
        "id": "0DBRAWTuqzqg"
      },
      "outputs": [
        {
          "name": "stdout",
          "output_type": "stream",
          "text": [
            "y = 1.500x + 0.500\n",
            "<__main__.LinearRegressionOLS object at 0x7fed9c96cf70>\n"
          ]
        },
        {
          "data": {
            "image/png": "[encoded data removed]",
            "text/plain": [
              "<Figure size 432x288 with 1 Axes>"
            ]
          },
          "metadata": {
            "needs_background": "light"
          },
          "output_type": "display_data"
        }
      ],
      "source": [
        "xv, yv = xy_from_file(('data20-1.csv'), 'Mother', 'Daughter')\n",
        "stats_line = LinearRegressionOLS(xv, yv)\n",
        "stats_line.display(True)\n",
        "print(stats_line)"
      ]
    },
    {
      "cell_type": "markdown",
      "metadata": {
        "id": "u2NfONQWsnJY"
      },
      "source": [
        "#**Finding the Line**\n",
        "We now know that the goal of regression is to find the fitted line that minimizes the SSE (the objective function), but we haven't really explained how one goes from this formula:\n",
        "\n",
        "<div align=\"center\"> $SSE = \\sum_{i=1}^n (y_i - \\hat{y_i})^2$ </div>\n",
        "\n",
        "\n",
        "to the calculations we used (from the textbook) to find the slope and y-intercept:\n",
        "\n",
        "![](https://drive.google.com/uc?export=view&id=14BE2p_bEaAAHTs6OP1RF8t7OUhHgNDnA)\n"
      ]
    },
    {
      "cell_type": "markdown",
      "metadata": {
        "id": "AC7eY-zdtFzK"
      },
      "source": [
        "#**Enter stage right, calculus**\n",
        "\n",
        "![](https://drive.google.com/uc?export=view&id=1KJUaO0SM3BS2dajMnUYM8p-2tQhOsDJh)\n",
        "\n",
        "The answer to that important question lies on a path that goes through algebra and calculus.\n",
        "\n",
        "The idea is that you take the derivative of the objective function, set it to zero and go through algebraic hoops to arrive at the solution.\n",
        "\n",
        "The derivative of a function speaks to how the function changes with respect to a change in a variable or input. It measures the 'steepness' of the graph. Where the derivative is zero, is where the objective function (SSE) is at a minimum. The slope is zero -- it is not changing. Luckily we will not only skip the proof, but we will let you read it [here](https://storage.googleapis.com/uicourse/pdfs/RegressionProof.pdf) and [here](https://storage.googleapis.com/uicourse/dmap/SSE-derivations.pdf).\n",
        "\n",
        "This is the essence of differential calculus. If you have a function, there's a set of rules you can use to find that function's derivative. Once you have the derivative, you can set it to zero (where its slope is at a minimum) and solve for the other parts of the equation. So at the end of the derivation, the SSE function is at a minimum when the slope and y-intercept are set to the following values:\n",
        "\n",
        "* $y_0 = \\bar y - m \\bar x$\n",
        "* $m = \\frac{S_{xy}}{S_{xx}}$\n",
        "* $S_{xy} = \\sum(x_i - \\bar x)(y_i - \\bar y)$\n",
        "* $S_{xx} = \\sum(x_i - \\bar x)^2$"
      ]
    },
    {
      "cell_type": "markdown",
      "metadata": {
        "id": "eUvLEL3rtl1S"
      },
      "source": [
        "#**A small crack to let the ML light in.**\n",
        "\n",
        "The caveat to using calculus to minimize a cost function is that not all functions are differentiable. Also the above methods require you to accept using SSE as the cost function. This is where the machine learning people stepped in and said, Hey, we know how to deal with that situation(s). But we are getting ahead of ourselves.\n",
        "\n",
        "#**Welcome, Linear Algebra**\n",
        "\n",
        "###If you give a linear algebraist a set of equations, ...###\n",
        "\n",
        "The method we just outlined is the method of ordinary least squares (OLS) and why it's part of the class name you created. As you may have noticed, for a large dataset , there are many 'passes' over the data to build all those summations. When someone who lives and breaths linear algebra and sees things like $\\sum(xy)^2$, they immediately think of matrices to do that math.\n",
        "\n",
        "We can, through more mathematical gymnastics, solve for SSE using linear algebra. This is, we can find where SSE is at minimum using matrices.\n",
        "\n",
        "This is in fact, how most mathematical libraries implement regression. Perhaps you have heard of LAPACK and BLAS -- two very popular libraries for doing linear algebra (SciPy builds upon those libraries).\n",
        "\n",
        "**Closed Form Solutions**\n",
        "\n",
        "First we are going to present the 'closed form' solution. Then we will take it apart to understand how it works. It is considered a 'closed form' because there is an exact solution with a finite amount of data. To understand what is a closed form solution is, it might be best to look at something that is not:\n",
        "\n",
        " <div align=\"center\"> $y = 4x + 6x^2 + \\frac{22}{3}x^3 + \\frac{95}{12}x^4 + ...$ </div>\n",
        "\n",
        "\n",
        "That function is not in closed form because the summation never ends. However, the function $y = \\frac{2+x^2}{1-x}e^x$ does provide the same answer to the problem but with a closed form\n",
        "solution."
      ]
    },
    {
      "cell_type": "markdown",
      "metadata": {
        "id": "ZDn3ZlHwuiyH"
      },
      "source": [
        "#**Linear Algebra**\n",
        "The closed form solution to find both the slope and y intercept expressed using matrices is \n",
        "\n",
        "<div align=\"center\"> $A = (X^TX)^{-1}X^TY$ </div>\n",
        "\n",
        "X, A, Y are defined as follows:\n",
        "\n",
        "<div align=\"center\"> $X = \\begin{bmatrix} 1 & x_1 \\\\ 1 & x_2 \\\\ 1 & x_3 \\\\ .. & .. \\\\1&x_n\\end{bmatrix}$   $Y = \\begin{bmatrix} y_1 \\\\ y_2 \\\\ y_3 \\\\ ..  \\\\y_n\\end{bmatrix}$  $A = \\begin{bmatrix} b \\\\ m \\end{bmatrix}$ </div>\n",
        "\n",
        "\n",
        "The $^T$ is for *transform*, and the $^{−1}$ is for the matrix inverse (which we will go over).\n",
        "\n",
        "**Welcome Back •**\n",
        "\n",
        "Assuming we are a bit rusty on our linear algebra (and who isn't, really), let's go through it. The majority of operations are just two matrices multiplied together (i.e. the dot product). Below is a review of how dot product works with vectors and matrices:\n",
        "\n",
        "![](https://drive.google.com/uc?export=view&id=1G9QuxJPaDxCtOUaJpdQOtgd0II3jMs4C)\n",
        "\n",
        "\n",
        "The dot product is perfect for multiplying and summing up quantities.\n",
        "<br>"
      ]
    },
    {
      "cell_type": "markdown",
      "metadata": {
        "id": "gLeCV_tEBG4g"
      },
      "source": [
        "### **$(X^T X)$**\n",
        "\n",
        "The following shows the result of multiplying a matrix transform with itself:\n",
        "\n",
        "![](https://drive.google.com/uc?export=view&id=12E1i0uCxLlQsWu_EU12-fRRmafsINt42)\n",
        "\n",
        "The transform simply changes a column vector into a row vector (and vice versa). Note how the final answer contains some key summations (be sure to confirm the results with the OLS implementation)."
      ]
    },
    {
      "cell_type": "code",
      "execution_count": 8,
      "metadata": {
        "id": "3B99iK6cN6Gc"
      },
      "outputs": [
        {
          "name": "stdout",
          "output_type": "stream",
          "text": [
            "[[1. 0.]\n",
            " [1. 0.]\n",
            " [1. 1.]\n",
            " [1. 2.]\n",
            " [1. 2.]\n",
            " [1. 3.]]\n",
            "[[1. 1. 1. 1. 1. 1.]\n",
            " [0. 0. 1. 2. 2. 3.]]\n",
            "[[ 6.  8.]\n",
            " [ 8. 18.]]\n"
          ]
        }
      ],
      "source": [
        "xv, yv = xy_from_file(('data20-1.csv'), 'Mother', 'Daughter')\n",
        "\n",
        "n = len(xv)\n",
        "ones = np.ones(n)\n",
        "X = np.column_stack( (ones, xv) )\n",
        "print(X)\n",
        "print(X.T)\n",
        "XTX = X.T.dot(X)\n",
        "print(XTX)"
      ]
    },
    {
      "cell_type": "markdown",
      "metadata": {
        "id": "JV77CrLLN-gk"
      },
      "source": [
        "### **$(X^T X)^{-1}$**\n",
        "**Taking the inverse of a matrix $(^{−1})$**\n",
        "\n",
        "When you multiply a matrix by its inverse, you get the identity matrix (a matrix with all 0's except with 1's down the diagonal. A few algebraic steps were done to get to the following simplification of what $(X^T X)^{-1}$ becomes:\n",
        "\n",
        "![](https://drive.google.com/uc?export=view&id=1t7WX3MdhPd_iftdMwWpmuCaIYLUBZG-L)\n",
        "\n",
        "Also note that SSx is defined (as we saw earlier) as\n",
        "\n",
        "![](https://drive.google.com/uc?export=view&id=1qqIrG6m5RgURI4mPmTu8PSYjHmFBDL9_)"
      ]
    },
    {
      "cell_type": "code",
      "execution_count": 9,
      "metadata": {
        "id": "AJt55wohOUCJ"
      },
      "outputs": [
        {
          "name": "stdout",
          "output_type": "stream",
          "text": [
            "[[ 0.40909091 -0.18181818]\n",
            " [-0.18181818  0.13636364]]\n",
            "[[1.00000000e+00 1.11022302e-15]\n",
            " [0.00000000e+00 1.00000000e+00]]\n"
          ]
        }
      ],
      "source": [
        "XTX_I = np.linalg.inv(XTX)\n",
        "print(XTX_I)\n",
        "\n",
        "# show the identity matrix \n",
        "print(XTX_I.dot(XTX))"
      ]
    },
    {
      "cell_type": "markdown",
      "metadata": {
        "id": "mV67cTt7OU8N"
      },
      "source": [
        "###**$(X^T X)^{-1}$**\n",
        "\n",
        "The final part gives us the ∑y and ∑(xy):\n",
        "\n",
        "![](https://drive.google.com/uc?export=view&id=1s6OCJ3dbgUoHkk1OLi5itEf4wTZvMEFw)"
      ]
    },
    {
      "cell_type": "code",
      "execution_count": 10,
      "metadata": {},
      "outputs": [
        {
          "data": {
            "text/plain": [
              "(array([0, 1, 2, 3, 4, 5]), array([0, 1, 2, 3, 4, 5]))"
            ]
          },
          "execution_count": 10,
          "metadata": {},
          "output_type": "execute_result"
        }
      ],
      "source": [
        "yv[:,], yv"
      ]
    },
    {
      "cell_type": "code",
      "execution_count": 11,
      "metadata": {
        "id": "LHF1VALFOo8v"
      },
      "outputs": [
        {
          "name": "stdout",
          "output_type": "stream",
          "text": [
            "[[0]\n",
            " [1]\n",
            " [2]\n",
            " [3]\n",
            " [4]\n",
            " [5]]\n",
            "[[15.]\n",
            " [31.]]\n"
          ]
        }
      ],
      "source": [
        "y = np.matrix(yv[:,]).T\n",
        "print(y)\n",
        "print(X.T.dot(y))"
      ]
    },
    {
      "cell_type": "markdown",
      "metadata": {
        "id": "e8vOm3snOyz_"
      },
      "source": [
        "###**All together now: $(X^TX)^{−1}X^TY$**\n",
        "\n",
        "You can now put all the parts together and with using only linear algebra, you can solve for the best fitting line in one equation:"
      ]
    },
    {
      "cell_type": "code",
      "execution_count": 12,
      "metadata": {
        "id": "msh3Fj7CO7Rl"
      },
      "outputs": [
        {
          "name": "stdout",
          "output_type": "stream",
          "text": [
            "[[0.5]\n",
            " [1.5]]\n",
            "y = 1.500x + 0.500\n",
            "[[ True]]\n",
            "[[ True]]\n"
          ]
        }
      ],
      "source": [
        "A = np.linalg.inv(X.T.dot(X)).dot(X.T).dot(y)\n",
        "print(A)\n",
        "y0    = A[0]\n",
        "slope = A[1]\n",
        "\n",
        "stats_line = LinearRegressionOLS(xv, yv)\n",
        "print(np.isclose(stats_line.slope,slope))\n",
        "print(np.isclose(stats_line.y0,y0))"
      ]
    },
    {
      "cell_type": "markdown",
      "metadata": {
        "id": "2zUDeDBcO9aw"
      },
      "source": [
        "Be mindful that it's essentially the same formulas used in the OLS solution.\n",
        "\n",
        "#**The DataScience Toolkit**\n",
        "\n",
        "NumPy, SciPy and scikit-learn (and many others) provide linear regression solvers. Depending on the selected algorithm, you can find both OLS and matrix implementations. All three provide access to their source code and you can [dig](https://github.com/scipy/scipy/blob/v1.5.4/scipy/stats/_stats_mstats_common.py#L15-L144) into the [details](https://docs.scipy.org/doc/numpy-1.13.0/reference/generated/numpy.linalg.lstsq.html#numpy.linalg.lstsq).\n",
        "\n",
        "**NumPy**\n",
        "\n",
        "Numpy's version is a bit tricky, since you need to get the data into matrix form:"
      ]
    },
    {
      "cell_type": "code",
      "execution_count": 13,
      "metadata": {
        "id": "5GQ9jeyNPX29"
      },
      "outputs": [
        {
          "name": "stdout",
          "output_type": "stream",
          "text": [
            "y = 1.500x + 0.500\n",
            "r^2 0.942857142857143\n"
          ]
        }
      ],
      "source": [
        "def numpy_lr(x,y):\n",
        "  import numpy as np\n",
        "  A = np.vstack([x, np.ones(len(x))]).T\n",
        "\n",
        "  # also scipy.linalg.lstsq\n",
        "  p, res, rnk, s = np.linalg.lstsq(A, y, rcond=None)\n",
        "  slope = p[0]\n",
        "  y0    = p[1]\n",
        "  \n",
        "  result = \"y = {:.3f}x + {:.3f}\".format(slope, y0)\n",
        "  print(result)\n",
        "  \n",
        "  r2 = 1 - res / np.sum((y - y.mean())**2)\n",
        "  print('r^2', r2[0])\n",
        "\n",
        "xv, yv = xy_from_file(('data20-1.csv'), 'Mother', 'Daughter')\n",
        "numpy_lr(xv,yv)"
      ]
    },
    {
      "cell_type": "markdown",
      "metadata": {
        "id": "rJfE49UfPaup"
      },
      "source": [
        "**SciPy**\n",
        "\n",
        "Scipy's version is the most straightforward (it also provides a p-value):"
      ]
    },
    {
      "cell_type": "code",
      "execution_count": 14,
      "metadata": {
        "id": "pXrat2fQPgeY"
      },
      "outputs": [
        {
          "name": "stdout",
          "output_type": "stream",
          "text": [
            "y = 1.500x + 0.500\n",
            "r^2 0.9428571428571431\n",
            "p_value 0.0012485929031976688\n",
            "std_err 0.18463723646899877\n"
          ]
        }
      ],
      "source": [
        "def scipy_lr(x,y):\n",
        "\n",
        "  from scipy import stats\n",
        "  \n",
        "  slope, y0, r_value, p_value, std_err = stats.linregress(x, y)\n",
        "  \n",
        "  result = \"y = {:.3f}x + {:.3f}\".format(slope, y0)\n",
        "  print(result)\n",
        "  print('r^2', r_value**2)\n",
        "  print('p_value', p_value)\n",
        "  print('std_err', std_err)\n",
        "\n",
        "xv, yv = xy_from_file(('data20-1.csv'), 'Mother', 'Daughter')\n",
        "scipy_lr(xv,yv)"
      ]
    },
    {
      "cell_type": "markdown",
      "metadata": {
        "id": "zyWoiki3PkKt"
      },
      "source": [
        "**Sklearn**\n",
        "\n",
        "Sklearn's linear regression uses the familiar fit method."
      ]
    },
    {
      "cell_type": "code",
      "execution_count": 15,
      "metadata": {
        "id": "qpZAfVlJPqXj"
      },
      "outputs": [
        {
          "name": "stdout",
          "output_type": "stream",
          "text": [
            "y = 1.500x + 0.500\n",
            "r^2 0.9428571428571428\n"
          ]
        },
        {
          "data": {
            "text/plain": [
              "(array([[0],\n",
              "        [0],\n",
              "        [1],\n",
              "        [2],\n",
              "        [2],\n",
              "        [3]]),\n",
              " array([0, 1, 2, 3, 4, 5]))"
            ]
          },
          "execution_count": 15,
          "metadata": {},
          "output_type": "execute_result"
        }
      ],
      "source": [
        "def sklearn_lr(x,y):\n",
        "\n",
        "  from sklearn.linear_model import LinearRegression\n",
        "  from sklearn.metrics import r2_score\n",
        "  \n",
        "  lr = LinearRegression().fit(x.reshape(-1, 1), y)\n",
        "  slope = lr.coef_[0]\n",
        "  y0    = lr.intercept_\n",
        "  \n",
        "  result = \"y = {:.3f}x + {:.3f}\".format(slope, y0)\n",
        "  print(result)\n",
        "  \n",
        "  y_fit = xv * slope + y0\n",
        "  print('r^2', r2_score(yv, y_fit))\n",
        "\n",
        "xv, yv = xy_from_file(('data20-1.csv'), 'Mother', 'Daughter')\n",
        "sklearn_lr(xv,yv)\n",
        "xv.reshape(-1, 1), yv"
      ]
    },
    {
      "cell_type": "markdown",
      "metadata": {
        "id": "9qWhiUexPtk5"
      },
      "source": [
        "#**Extensions to linear regression**\n",
        "**More Variables**\n",
        "\n",
        "Once you have a good handle on using linear regression to solve univariate problems, the extension (multi-variate regression) is simply adding more independent variables. The matrix math generalizes nicely.\n",
        "\n",
        "**Higher Order**\n",
        "\n",
        "You can also try to fit a curve to your dataset and move away from linear regression into polynomial regression. Usually one visualizes the data (or is getting poor results from linear regression) before deciding to fit a higher order polynomial to the dataset. You also risk overfitting the data as well when you add higher degree polynomials.\n",
        "\n",
        "![](https://drive.google.com/uc?export=view&id=1ucUzZo6FgTBEvu1f4bQbcVZvnPexaEu8)\n",
        "\n",
        "\n",
        "\n",
        "**Logistic Regression**\n",
        "\n",
        "Rather than predicting a continuous value, logistic regression is used when you want to predict if something is either True or False. It fits an 'S-curve' to the data rather than a straight line. We will see it at a later lesson.\n",
        "\n",
        "![](https://drive.google.com/uc?export=view&id=1Fqu_NmR_iKo5XNgLNcQgdDuNnUlKtr_m)\n",
        "\n",
        "\n"
      ]
    },
    {
      "cell_type": "markdown",
      "metadata": {
        "id": "nlx-LddZQKpM"
      },
      "source": [
        "#**Welcome Machine Learning**\n",
        "\n",
        "As you add more independent variables, both OLS and the matrix versions can spin out of control. OLS becomes a mess; the summations for working with just two independent variables already becomes a task of managing a lot of summations.\n",
        "\n",
        "The linear algebra solution does generalize nicely for adding additional attributes; however, finding the inverse of a matrix is computationally expensive, uses a lot of memory, and is only guaranteed to work under certain conditions.\n",
        "\n",
        "The fundamental approach to solving linear regression is to produce an answer using all the data -- all at once. There's another approach: iterative. That is, we solve linear regression by looking at each data point, one at a time. The process of doing this is called gradient descent.\n",
        "\n",
        "At its core, linear regression is parameter estimation. It attempts to estimate a slope and a y- intercept. However, the estimation, under certain conditions, is perfect. The method of gradient descent is ML's tour de force for parameter estimation.\n",
        "\n",
        "#**Gradient Descent (GD)**\n",
        "\n",
        "Gradient descent is NOT specific to linear regression, it can be used anytime you need to do parameter estimation. Gradient descent is a core algorithm used in many optimization problems found in statistics, machine learning and data science. It's also the main work- horse behind powering neural networks (updating the weights in back propagation).\n",
        "\n",
        "We will have a separate lesson on gradient descent (GD). But we will push the re- formulation of linear regression into the world of GD before we go.\n",
        "\n",
        "Let's start with the equation of a line:\n",
        "\n",
        "* $y = mx+b$\n",
        "\n",
        "Now change it into a function: \n",
        "* $f(x) = mx + b$\n",
        "\n",
        "Replace the slope and y intercept with generic w$_i$eights \n",
        "* $f(x) = w_0 + w_1x$\n",
        "\n",
        "Similarly, we can change the objective function MSE (SSE/n) from this \n",
        "* $MSE = \\frac{1}{n}\\sum(y_i-(f(x_i)))^2$\n",
        "\n",
        "into this: \n",
        "\n",
        "* $MSE = \\frac{1}{2n}\\sum(y_i-(w_0 + w_1x_i))^2$\n",
        "\n",
        "\n",
        "We use 1⁄2 of MSE -- to make the math easier (spoiler alert). This is essentially the cost function we will minimize in the next lesson.\n",
        "\n",
        "It is common convention to use a J (for Jacobian) to denote the cost function.\n",
        "* $J(w_0,w_1) = \\frac{1}{2n}\\sum(y_i-(w_0 + w_1x_i))^2$ \n",
        "\n",
        "Some may use the word *loss* function to discuss a single training example and use *cost* function to measure with respect to the entire training set. The words however, are used (a lot) interchangeably.\n"
      ]
    },
    {
      "cell_type": "markdown",
      "metadata": {
        "id": "onjLKf_qRAaI"
      },
      "source": [
        "#**Lesson Assignment**\n",
        "#**Part 1: Finish LinearRegressionOLS**\n",
        "Make sure your LinearRegressionOLS class is working as outlined. It will be tested against the Table 20-2 dataset which measures sugar consumption (independent variable) and activity scores (dependent variable).\n",
        "#**Part 2: Gradient Descent Preparation**\n",
        "You will create a class named LinearRegressionGD whose constructor takes an x and y numpy array (named xv and yv).\n",
        "\n",
        "You will also create a method named plot_mse that plots the MSE (mean squared error) for various values for either the slope or y-intercept of a line. The method signature is discussed below.\n",
        "\n",
        "For example the graph below shows various values used for y0 and the resulting MSE value (for the 20-2 dataset):\n",
        "\n",
        "![](https://drive.google.com/uc?export=view&id=1-NtW4kZ2IeLjvyz_M5ndAGraRKJs_Qmz)\n",
        "\n",
        "Each point on the graph is the result of creating a line with the given y-intercept and then calculating the MSE for that particular line.\n",
        "\n",
        "For this lesson, use the following definition of MSE:\n",
        "\n",
        "$MSE = \\frac{1}{n}\\sum(y_i-(w_0 + w_1x_i))^2$\n",
        "\n",
        "\n",
        "\n",
        "\n",
        "**plot_mse**\n",
        "\n",
        "Create a method named plot_mse which will plot MSE on the y-axis and either slope or the y-intercept on x-axis.\n",
        "* plot_mse has 3 parameters: v_values, slope=None, y0=None\n",
        "* v_values is the vector of either slopes or y0's to plot\n",
        "* it creates a figure (i.e. fig, axes = plt.subplots(figsize=(6,6)) for plotting \n",
        "* return the figure"
      ]
    },
    {
      "cell_type": "code",
      "execution_count": 22,
      "metadata": {
        "id": "wcBu8epqQJn-"
      },
      "outputs": [],
      "source": [
        "import matplotlib.pyplot as plt\n",
        "\n",
        "class LinearRegressionGD(object):\n",
        "\n",
        "    def __init__(self, xv, yv) -> None:\n",
        "        super().__init__()\n",
        "        # constructor has two parameters\n",
        "        # xv the vector of x values\n",
        "        # yv the vector of y values\n",
        "        \n",
        "        self.x = xv\n",
        "        self.y = yv\n",
        "\n",
        "    def get_mse(self, xv, yv, slope, y0):\n",
        "        sse = 0\n",
        "        for x, y in zip(xv, yv):\n",
        "            y_line = x * slope + y0\n",
        "            sse += np.square(y_line - y)\n",
        "        mse = sse * (1/len(xv))\n",
        "        return mse\n",
        "    \n",
        "    def plot_mse(self, x_values, slope=None, y0=None):\n",
        "        \n",
        "        X = x_values\n",
        "        Y = []\n",
        "        if slope is not None:\n",
        "            for y0_value in x_values:\n",
        "                Y.append(self.get_mse(self.x, self.y, slope, y0_value))\n",
        "                x_label = 'y0'\n",
        "        elif y0 is not None:\n",
        "            for slope_value in x_values:\n",
        "                Y.append(self.get_mse(self.x, self.y, slope_value, y0))\n",
        "                x_label = 'slope'\n",
        "        \n",
        "        fig, ax = plt.subplots(figsize=(10, 10))\n",
        "        ax.scatter(X, Y, 5, marker='.')\n",
        "        ax.set_xlabel(x_label)\n",
        "        ax.set_ylabel('MSE')\n",
        "        print('lowest point:', min(Y))    \n",
        "        return fig\n",
        "\n"
      ]
    },
    {
      "cell_type": "markdown",
      "metadata": {
        "id": "FJLNE_3nRjpS"
      },
      "source": [
        "Be sure to label your graphs properly. Use the variables plot_y0 and plot_slope to help navigate the input vector (v_values).\n",
        "\n",
        "```\n",
        "plot_y0    = y0 is None and slope is not None\n",
        "plot_slope = slope is None and y0 is not None\n",
        "assert plot_y0 or plot_slope, 'bad call'\n",
        "```"
      ]
    },
    {
      "cell_type": "markdown",
      "metadata": {
        "id": "fd_U4B6mRqA5"
      },
      "source": [
        "#**Testing**\n",
        "Be sure to test your function locally using the two provided datasets. For example, if you did the following:"
      ]
    },
    {
      "cell_type": "code",
      "execution_count": 23,
      "metadata": {
        "id": "44C6mU7WRvsB"
      },
      "outputs": [
        {
          "name": "stdout",
          "output_type": "stream",
          "text": [
            "lowest point: 18.825\n"
          ]
        },
        {
          "data": {
            "image/png": "[encoded data removed]",
            "text/plain": [
              "<Figure size 720x720 with 1 Axes>"
            ]
          },
          "execution_count": 23,
          "metadata": {},
          "output_type": "execute_result"
        },
        {
          "data": {
            "image/png": "[encoded data removed]",
            "text/plain": [
              "<Figure size 720x720 with 1 Axes>"
            ]
          },
          "metadata": {
            "needs_background": "light"
          },
          "output_type": "display_data"
        }
      ],
      "source": [
        "# load up the dataset\n",
        "xv, yv = xy_from_file(('data20-2.csv'), 'SUGAR', 'TIME')\n",
        "lr_gd = LinearRegressionGD(xv,yv)\n",
        "\n",
        "# from our linear regression analysis, we know\n",
        "# y = 2.90625x + 7.31250\n",
        "\n",
        "# generate different values for y0\n",
        "y0_v = np.linspace(-10,20,50)\n",
        "# add in the known 'best' y0\n",
        "y0_v = np.sort(np.append(y0_v, 7.31250))\n",
        "\n",
        "# plot different y0's against MSE\n",
        "# note the named parameter slope (whose default value is None)\n",
        "lr_gd.plot_mse(y0_v, slope=2.90625)"
      ]
    },
    {
      "cell_type": "markdown",
      "metadata": {
        "id": "ykQZ6zWPRyXm"
      },
      "source": [
        "You would get the following graph:\n",
        "\n",
        "![](https://drive.google.com/uc?export=view&id=1oEz9YA45A2yhZvcNrepvtVJ8D2Z3jZHY)"
      ]
    },
    {
      "cell_type": "markdown",
      "metadata": {
        "id": "UNlrNop4R19Q"
      },
      "source": [
        "Don't confuse quadratic as degree 4, In Latin, the word \"quadrus\" means a square (because it has four sides) and \"quadratus\" means \"squared.\"\n",
        "\n",
        "![](https://drive.google.com/uc?export=view&id=1VsEvWdrL_qs191RfnrBt3J1tduUkgv7f)\n",
        "\n",
        "\n",
        "Quadratus is the Latin for \"square\" due to there being four sides on a square. The second power of a number is called its square because if we have an integer, and construct a square with that number of items on each side, the total number will be its second power. For example, a 4×4 square having 16 items:\n",
        "```\n",
        "* * * *\n",
        "* * * *\n",
        "* * * *\n",
        "* * * *\n",
        "```\n",
        "Sources http://mathforum.org/library/drmath/view/52572.html"
      ]
    },
    {
      "cell_type": "markdown",
      "metadata": {
        "id": "M597RpnkEANF"
      },
      "source": [
        "**Steps to submit your work:**\n",
        "\n",
        "\n",
        "1.   Download the lesson notebook from Moodle.\n",
        "2.   Upload any supporting files using file upload option within Google Colab.\n",
        "3.   Complete the exercises and/or assignments\n",
        "4.   Download as .ipynb\n",
        "5.   Name the file as \"lastname_firstname_WeekNumber.ipynb\"\n",
        "6.   After following the above steps, submit the final file in Moodle\n",
        "\n",
        "\n",
        "\n",
        "\n",
        "\n",
        "<h1><center>The End!</center></h1>"
      ]
    }
  ],
  "metadata": {
    "colab": {
      "collapsed_sections": [],
      "name": "Regression_Week13.ipynb",
      "provenance": []
    },
    "kernelspec": {
      "display_name": "Python 3",
      "name": "python3"
    },
    "language_info": {
      "codemirror_mode": {
        "name": "ipython",
        "version": 3
      },
      "file_extension": ".py",
      "mimetype": "text/x-python",
      "name": "python",
      "nbconvert_exporter": "python",
      "pygments_lexer": "ipython3",
      "version": "3.9.7"
    }
  },
  "nbformat": 4,
  "nbformat_minor": 0
}

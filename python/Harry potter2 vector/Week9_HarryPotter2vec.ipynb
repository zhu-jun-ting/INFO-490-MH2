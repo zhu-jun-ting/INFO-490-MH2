{
  "cells": [
    {
      "cell_type": "markdown",
      "metadata": {
        "id": "FXaGN9j_ZSJe"
      },
      "source": [
        "# **Harry Potter 2 Vec**\n",
        "\n",
        "\n",
        "![](https://drive.google.com/uc?export=view&id=10NHEpBSv-bQTZ0hMJRpJ-RqD66rrtJDR)\n",
        "\n",
        "In previous lessons, you learned about both word embeddings and how to create them using gensim's Word2Vec. In this lesson, we are going to build our own word vector model using the text of Harry Potter.\n",
        "\n",
        "Ideally, the model can then be used to find Harry Potter word analogies. For example, if you had the word vectors for the Harry Potter books, you could ask:\n",
        "                            \n",
        "                             Ron - man + woman = ?\n",
        "\n",
        "Hopefully, you would get Hermione.\n",
        "\n",
        "This lesson will ask you to build the best possible model. We will guide you through the steps and you can submit your best model for the assignment.\n",
        "\n"
      ]
    },
    {
      "cell_type": "markdown",
      "metadata": {
        "id": "cJCp6lWYZrLn"
      },
      "source": [
        "##**Hyperparameters and Model Evaluation**\n",
        "\n",
        "The goal of this lesson is for you to experiment with the different hyperparameters to gensim's Word2Vec model. As a quick review, **hyperparameters** are those values or parameters that the model is not learning or trying to optimize, but rather are used to configure the algorithm. Examples include the 'K' in **K**•means, the degree of polynomial to use in regression, number of levels in a decision tree, the learning rate, and number of layers and nodes in a neural network. For Word2Vec there are a [multiple](https://radimrehurek.com/gensim/models/word2vec.html#gensim.models.word2vec.Word2Vec) parameters with which to experiment.\n",
        "\n",
        "You will also build your own scoring system to evaluate the different models you create. We have so much to discuss, so let's get started!"
      ]
    },
    {
      "cell_type": "markdown",
      "metadata": {
        "id": "nFwZb8rLZzBQ"
      },
      "source": [
        "#**Building the Harry Potter Corpus**\n",
        "\n",
        "All 7 Harry Potter books are available in Moodle. You need to download them and upload in Colab using Colab's upload file option.\n",
        "\n",
        "Each book is a single 'sentence', cleaned and tokenized. The function read_one shows how to read a single Harry Potter book.\n",
        "\n",
        "\n",
        "\n",
        "```\n",
        "def read_one():\n",
        "  path = 'hp1.txt'\n",
        "  book = open(path, 'r').read()\n",
        "  return book\n",
        "```\n",
        "\n",
        "![](https://drive.google.com/uc?export=view&id=1C-l6Bg25X1-y7wPYlweVNuWRFgtVcTei)\n",
        "\n",
        "\n",
        "You will need to finish the build_hp_dataset implementation.\n",
        "\n",
        "\n",
        "\n",
        "```\n",
        "def build_hp_dataset(count=3, stopwords=[]):\n",
        "  # count is the number of documents in the corpus (harry potter books)\n",
        "  # each document is an array of words\n",
        "  # remove any stopwords\n",
        "  # returns an array of documents (same vector_size as count)\n",
        "  return []\n",
        "```\n",
        "\n",
        "* You are free to experiment using any number of books from the collections; however, **only books 1-3** will be used for evaluation.\n",
        "* You should remove stopwords if any are passed in.\n",
        "* You can get a list of words from a book by doing a simple split on the content.\n",
        "\n"
      ]
    },
    {
      "cell_type": "code",
      "execution_count": 219,
      "metadata": {},
      "outputs": [
        {
          "name": "stderr",
          "output_type": "stream",
          "text": [
            "[nltk_data] Downloading package stopwords to /Users/mac/nltk_data...\n",
            "[nltk_data]   Package stopwords is already up-to-date!\n"
          ]
        }
      ],
      "source": [
        "import gensim\n",
        "from gensim.models import KeyedVectors\n",
        "\n",
        "import nltk\n",
        "from nltk.corpus import stopwords\n",
        "import ssl\n",
        "\n",
        "try:\n",
        "    _create_unverified_https_context = ssl._create_unverified_context\n",
        "except AttributeError:\n",
        "    pass\n",
        "else:\n",
        "    ssl._create_default_https_context = _create_unverified_https_context\n",
        "\n",
        "sw = nltk.download('stopwords')\n",
        "\n",
        "import re\n",
        "import LessonUtil as Util\n",
        "\n",
        "import warnings\n",
        "warnings.simplefilter(action='ignore', category=FutureWarning)\n",
        "\n",
        "import httpimport\n",
        "url = \"https://raw.githubusercontent.com/zhu-jun-ting/INFO-490-MH2/main/\"\n",
        "with httpimport.remote_repo([\"util\"], url):\n",
        "    import util\n",
        "\n",
        "from functools import singledispatch\n",
        "from collections import namedtuple"
      ]
    },
    {
      "cell_type": "code",
      "execution_count": 221,
      "metadata": {},
      "outputs": [
        {
          "name": "stdout",
          "output_type": "stream",
          "text": [
            "['i', 'me', 'my', 'myself', 'we', 'our', 'ours', 'ourselves', 'you', \"you're\", \"you've\", \"you'll\", \"you'd\", 'your', 'yours', 'yourself', 'yourselves', 'he', 'him', 'his', 'himself', 'she', \"she's\", 'her', 'hers', 'herself', 'it', \"it's\", 'its', 'itself', 'they', 'them', 'their', 'theirs', 'themselves', 'what', 'which', 'who', 'whom', 'this', 'that', \"that'll\", 'these', 'those', 'am', 'is', 'are', 'was', 'were', 'be', 'been', 'being', 'have', 'has', 'had', 'having', 'do', 'does', 'did', 'doing', 'a', 'an', 'the', 'and', 'but', 'if', 'or', 'because', 'as', 'until', 'while', 'of', 'at', 'by', 'for', 'with', 'about', 'against', 'between', 'into', 'through', 'during', 'before', 'after', 'above', 'below', 'to', 'from', 'up', 'down', 'in', 'out', 'on', 'off', 'over', 'under', 'again', 'further', 'then', 'once', 'here', 'there', 'when', 'where', 'why', 'how', 'all', 'any', 'both', 'each', 'few', 'more', 'most', 'other', 'some', 'such', 'no', 'nor', 'not', 'only', 'own', 'same', 'so', 'than', 'too', 'very', 's', 't', 'can', 'will', 'just', 'don', \"don't\", 'should', \"should've\", 'now', 'd', 'll', 'm', 'o', 're', 've', 'y', 'ain', 'aren', \"aren't\", 'couldn', \"couldn't\", 'didn', \"didn't\", 'doesn', \"doesn't\", 'hadn', \"hadn't\", 'hasn', \"hasn't\", 'haven', \"haven't\", 'isn', \"isn't\", 'ma', 'mightn', \"mightn't\", 'mustn', \"mustn't\", 'needn', \"needn't\", 'shan', \"shan't\", 'shouldn', \"shouldn't\", 'wasn', \"wasn't\", 'weren', \"weren't\", 'won', \"won't\", 'wouldn', \"wouldn't\"]\n"
          ]
        }
      ],
      "source": [
        "print(stopwords.words('english'))"
      ]
    },
    {
      "cell_type": "code",
      "execution_count": 86,
      "metadata": {},
      "outputs": [],
      "source": [
        "\n",
        "class Config(namedtuple('Config', ['doc', 'vector_size', 'window', 'min_count', 'sg', 'negative', 'epochs', 'name'])):\n",
        "\n",
        "\n",
        "\n",
        "  def __str__(self):\n",
        "    # skip doc\n",
        "    fmt = \"doc_len:{}, vector_size:{}, window:{}, min_count:{}, sg:{}, negative:{}, epochs:{}\"\n",
        "    return fmt.format(len(self.doc), self.vector_size,\n",
        "                      self.window, self.min_count,\n",
        "                      self.sg, self.negative, self.epochs)\n",
        "\n",
        "def build_config(doc, vector_size=10, window=5, min_count=5, sg=0, negative=3, epochs=25, name=''):\n",
        "  return Config(doc=doc, vector_size=vector_size, window=window, min_count=min_count, sg=sg, negative=negative, epochs=epochs, name=name)\n"
      ]
    },
    {
      "cell_type": "code",
      "execution_count": 224,
      "metadata": {
        "id": "pcr-5U8fWlQg"
      },
      "outputs": [
        {
          "data": {
            "text/plain": [
              "75112"
            ]
          },
          "execution_count": 224,
          "metadata": {},
          "output_type": "execute_result"
        }
      ],
      "source": [
        "\n",
        "def read_hp(number):\n",
        "    path = 'data/hp{}.txt'.format(number)\n",
        "    with open(path, 'r') as book:\n",
        "        text = book.read()\n",
        "    return text\n",
        "\n",
        "def build_hp_dataset(count=3, stopwords=stopwords.words('english')):\n",
        "    # count is the number of documents in the corpus (harry potter books)\n",
        "    # each document is an array of words\n",
        "    # remove any stopwords\n",
        "    # returns an array of documents (same vector_size as count)\n",
        "\n",
        "    hp = []\n",
        "    for i in range(1, count+1):\n",
        "        hp.append(read_hp(i).split())\n",
        "\n",
        "    for text in hp:\n",
        "        for word in stopwords:\n",
        "            try:\n",
        "                text.remove(word)\n",
        "            except Exception as e:\n",
        "                pass\n",
        "\n",
        "    return hp\n",
        "\n",
        "corpus = build_hp_dataset(3)\n",
        "len(corpus[0]) # 75258"
      ]
    },
    {
      "cell_type": "code",
      "execution_count": null,
      "metadata": {},
      "outputs": [],
      "source": []
    },
    {
      "cell_type": "markdown",
      "metadata": {
        "id": "AaTBNbxnawk7"
      },
      "source": [
        "#**Building the Model**\n",
        "\n",
        "You will build a word embedding model using Word2Vec. The next section will describe how to create a configuration for build_model to use.\n",
        "\n",
        "A few notes:\n",
        "* most of the configuartion values are coming from the config parameter\n",
        "* you are free to add additional parameters to see if you can build an awesome model; however, for the lesson, only the above parameters in a configuration will be used.\n",
        "* epochs is capped at 100\n",
        "* vector_size is capped at 300\n",
        "* the [Word2Vec documentation](https://radimrehurek.com/gensim/models/word2vec.html#gensim.models.word2vec.Word2Vec) should be used for additional details."
      ]
    },
    {
      "cell_type": "code",
      "execution_count": 88,
      "metadata": {
        "id": "D3rygQjNa_lM"
      },
      "outputs": [],
      "source": [
        "def build_model(config):\n",
        "\n",
        "    # no need to change anything\n",
        "    model = gensim.models.Word2Vec(\n",
        "        config.doc,                   # each sentence is a HP book\n",
        "        vector_size=min(config.vector_size,300),    # how big the output vectors (spacy == 300)\n",
        "        window=config.window,         # vector_size of window around the target word\n",
        "        min_count=config.min_count,   # ignore words that occur less than 2 times\n",
        "        sg=config.sg,                 # 0 == CBOW (default) 1 == skip gram\n",
        "        \n",
        "        negative=config.negative,\n",
        "        # keep these the same\n",
        "        workers=1,  # threads to use\n",
        "        epochs=min(config.epochs, 100)  # max epochsations is 100,\n",
        "        )\n",
        "    return model\n",
        "\n",
        "\n"
      ]
    },
    {
      "cell_type": "markdown",
      "metadata": {
        "id": "ZUEhR5-Mbt_k"
      },
      "source": [
        "#**Configuring the Model**\n",
        "\n",
        "Now that you know how the model will be built AND you have your corpus, the next step is to build a configuration to configure the Word2Vec model. This lesson comes with a special class that you will use to create a configuration object.\n",
        "\n",
        "```\n",
        "import LessonUtil as Util\n",
        "config = build_config(corpus, vector_size=75, window=15, epochs=75)\n",
        "```\n",
        "\n",
        "Take a look below at how the configuration will be used to build a model:\n",
        "\n",
        "```\n",
        "def build_model(config):\n",
        "    return gensim.models.Word2Vec(sentences=config.doc, vector_size=config.vector_size, ... )\n",
        "```\n",
        "\n",
        "The configuration object has the following fields:\n",
        "\n",
        "```['doc', 'vector_size', 'window', 'min_count', 'sg', 'negative', 'epochs', 'name']```\n",
        "\n",
        "* The same hyperparameters that you can configure a Word2Vec model are in the configuration\n",
        "* The name field allows you to name the configuration if you want to keep track of it.\n"
      ]
    },
    {
      "cell_type": "code",
      "execution_count": 89,
      "metadata": {
        "id": "Pfx61XA7cEqa"
      },
      "outputs": [
        {
          "name": "stdout",
          "output_type": "stream",
          "text": [
            "Default config doc_len:3, vector_size:10, window:5, min_count:5, sg:0, negative:3, epochs:25\n",
            "Custom config1 doc_len:3, vector_size:75, window:15, min_count:5, sg:0, negative:3, epochs:75\n",
            "Custom config2 doc_len:3, vector_size:5, window:2, min_count:1, sg:1, negative:5, epochs:30\n"
          ]
        }
      ],
      "source": [
        "default_config = build_config(corpus)\n",
        "print(\"Default config\", default_config)\n",
        "\n",
        "config1 = build_config(corpus, vector_size=75, window=15, epochs=75)\n",
        "config2 = build_config(corpus, 5, 2, 1, 1, 5, 30)\n",
        "\n",
        "print(\"Custom config1\", config1)\n",
        "print(\"Custom config2\", config2)"
      ]
    },
    {
      "cell_type": "markdown",
      "metadata": {
        "id": "iLqOHf3XcI2c"
      },
      "source": [
        "##**Preventing Randomness**\n",
        "\n",
        "Like most machine learning algorithms, randomization is introduced during initialization. This comes at the cost when trying to compare different versions of models. You can control some of this by setting workers=1.\n",
        "\n",
        "However, the results you get in this notebook will NOT be the same when you submit on gradescope. They should be close though."
      ]
    },
    {
      "cell_type": "markdown",
      "metadata": {
        "id": "GDTo0M7KcTSB"
      },
      "source": [
        "#**Running with the model**\n",
        "We now have enough in place to start the process of building a Word2Vec model with Harry Potter Books. So Exciting. Below is a sample pipeline.\n",
        "\n",
        "Make sure you understand the pipeline inside simple_test."
      ]
    },
    {
      "cell_type": "code",
      "execution_count": 90,
      "metadata": {},
      "outputs": [],
      "source": [
        "config = build_config(corpus, 5, 2, 1, 1, 5, 30)\n",
        "model  = build_model(config)"
      ]
    },
    {
      "cell_type": "code",
      "execution_count": 91,
      "metadata": {},
      "outputs": [
        {
          "name": "stdout",
          "output_type": "stream",
          "text": [
            "\u001b[0;31mType:\u001b[0m            KeyedVectors\n",
            "\u001b[0;31mString form:\u001b[0m     <gensim.models.keyedvectors.KeyedVectors object at 0x7f80dd5eae20>\n",
            "\u001b[0;31mLength:\u001b[0m          11988\n",
            "\u001b[0;31mFile:\u001b[0m            /Library/Frameworks/Python.framework/Versions/3.9/lib/python3.9/site-packages/gensim/models/keyedvectors.py\n",
            "\u001b[0;31mDocstring:\u001b[0m       <no docstring>\n",
            "\u001b[0;31mClass docstring:\u001b[0m\n",
            "Serialize/deserialize objects from disk, by equipping them with the `save()` / `load()` methods.\n",
            "\n",
            "Warnings\n",
            "--------\n",
            "This uses pickle internally (among other techniques), so objects must not contain unpicklable attributes\n",
            "such as lambda functions etc.\n",
            "\u001b[0;31mInit docstring:\u001b[0m \n",
            "Mapping between keys (such as words) and vectors for :class:`~gensim.models.Word2Vec`\n",
            "and related models.\n",
            "\n",
            "Used to perform operations on the vectors such as vector lookup, distance, similarity etc.\n",
            "\n",
            "To support the needs of specific models and other downstream uses, you can also set\n",
            "additional attributes via the :meth:`~gensim.models.keyedvectors.KeyedVectors.set_vecattr`\n",
            "and :meth:`~gensim.models.keyedvectors.KeyedVectors.get_vecattr` methods.\n",
            "Note that all such attributes under the same `attr` name must have compatible `numpy`\n",
            "types, as the type and storage array for such attributes is established by the 1st time such\n",
            "`attr` is set.\n",
            "\n",
            "Parameters\n",
            "----------\n",
            "vector_size : int\n",
            "    Intended number of dimensions for all contained vectors.\n",
            "count : int, optional\n",
            "    If provided, vectors wil be pre-allocated for at least this many vectors. (Otherwise\n",
            "    they can be added later.)\n",
            "dtype : type, optional\n",
            "    Vector dimensions will default to `np.float32` (AKA `REAL` in some Gensim code) unless\n",
            "    another type is provided here.\n",
            "mapfile_path : string, optional\n",
            "    Currently unused.\n"
          ]
        }
      ],
      "source": [
        "model.wv?"
      ]
    },
    {
      "cell_type": "code",
      "execution_count": 92,
      "metadata": {
        "id": "dOa7HkNecc10"
      },
      "outputs": [
        {
          "name": "stdout",
          "output_type": "stream",
          "text": [
            "[('quickly', 0.9927340149879456), ('shouted', 0.992134690284729), ('son', 0.9898478984832764), ('hagrid', 0.9885435700416565), ('work', 0.9871503710746765), ('born', 0.9864280223846436), ('harry', 0.9851586222648621), ('now', 0.9848641157150269), (\"she's\", 0.984484076499939), (\"'yes'\", 0.9829734563827515)]\n"
          ]
        }
      ],
      "source": [
        "def simple_test():\n",
        "    # build the harry potter corpus\n",
        "    corpus = build_hp_dataset()\n",
        "\n",
        "    # build the configuration to try/experiment\n",
        "    config = build_config(corpus, 5, 2, 1, 1, 5, 30)\n",
        "    \n",
        "    # build the model with this configuration\n",
        "    model  = build_model(config)\n",
        "    \n",
        "    # let's hope harry is in there\n",
        "    try:\n",
        "        harry = model.wv['harry']\n",
        "    except KeyError as e:\n",
        "        print(e)\n",
        "    \n",
        "    # see who is similar to ron\n",
        "    print(model.wv.most_similar(positive=['ron']))\n",
        "\n",
        "simple_test()"
      ]
    },
    {
      "cell_type": "code",
      "execution_count": 93,
      "metadata": {},
      "outputs": [
        {
          "data": {
            "text/plain": [
              "True"
            ]
          },
          "execution_count": 93,
          "metadata": {},
          "output_type": "execute_result"
        }
      ],
      "source": [
        "'quickly' in [key for (key, value) in model.wv.most_similar(positive=['ron'], topn=25)]"
      ]
    },
    {
      "cell_type": "code",
      "execution_count": null,
      "metadata": {},
      "outputs": [],
      "source": []
    },
    {
      "cell_type": "markdown",
      "metadata": {
        "id": "MoZotLV-cshA"
      },
      "source": [
        "What do you see? If you built a good model, would hope to see hermione near the top?"
      ]
    },
    {
      "cell_type": "markdown",
      "metadata": {
        "id": "Ige7Sh7vc3sC"
      },
      "source": [
        "#**Scoring the Model**\n",
        "\n",
        "Now with that in place, the fun begins. It is your job to find the best set of parameters (hyperparameters) to configure the Word2Vec model.\n",
        "\n",
        "The LessonUtil module has a set of tests you can use to evaluate your models. Each test looks like the following:\n",
        "\n",
        "```\n",
        "(['ron'],       [],       ['hermione', 'harry']),\n",
        "(['voldemort'], ['evil'], ['dumbledore']),\n",
        "```\n",
        "\n",
        "Each test has 3 components:\n",
        "\n",
        "* the first component is the positive vectors\n",
        "* the second component is the negative vectors\n",
        "* the third component is a set of possible answers\n",
        "\n",
        "Looking at the first example: (['ron'], [],['hermione', 'harry'])\n",
        "\n",
        "Here the **Ron** vector should be close to either (or both) the **Hermione**\n",
        "or **Harry** vector.\n",
        "\n",
        "Looking at the second example: (['voldemort'], ['evil'], ['dumbledore'])\n",
        "\n",
        "The vector that is the result of the **Voldemort** vector - the **evil** vector; the hope is that result vector is close/similar to the **Dumbledore**\n",
        "vector: veldemort - evil = dumbledore"
      ]
    },
    {
      "cell_type": "code",
      "execution_count": 94,
      "metadata": {},
      "outputs": [
        {
          "data": {
            "text/plain": [
              "True"
            ]
          },
          "execution_count": 94,
          "metadata": {},
          "output_type": "execute_result"
        }
      ],
      "source": [
        "@singledispatch\n",
        "def check_correct(your_answer, correct_answer):\n",
        "\tpass\n",
        "\n",
        "@check_correct.register\n",
        "def _(your_answer, correct_answer:list):\n",
        "\tfor ans in correct_answer:\n",
        "\t\tif ans in your_answer:\n",
        "\t\t\treturn True\n",
        "\treturn False\n",
        "\n",
        "@check_correct.register\n",
        "def _(your_answer, correct_answer:str):\n",
        "\treturn correct_answer in your_answer\n",
        "\n",
        "check_correct([1], [1])"
      ]
    },
    {
      "cell_type": "code",
      "execution_count": 95,
      "metadata": {},
      "outputs": [
        {
          "name": "stdout",
          "output_type": "stream",
          "text": [
            "****************************************************************************************************\n",
            "TEST QUESTION -> (['mcgonagall'], [], ['professor'])\n",
            "RESULT FROM GENSIM -> ['fingering', 'hampered', 'puzzle', 'drooling', 'relaxed', 'first-year', 'fickle', 'fifty-ten', \"mornin'\", 'tangerine', 'gentlemen', 'polo', 'verifiable', 'kip', 'orphaned', 'scott', 'patterns', 'prickled', 'utterly', 'dumbledore', 'unregistered', 'firmer', 'more', 'disgusting', \"girl's\"]\n",
            "SCORE FOR THIS QUESTION -> 0.0\n",
            "****************************************************************************************************\n",
            "TEST QUESTION -> (['ron'], [], ['hermione', 'harry'])\n",
            "RESULT FROM GENSIM -> ['quickly', 'shouted', 'son', 'hagrid', 'work', 'born', 'harry', 'now', \"she's\", \"'yes'\", 'failed', 'mummy', 'being', 'dying', 'build', 'ginny', 'definite', 'masons', 'explode', 'firm', 'beaten', 'hello', 'contact', 'devil', 'shrunk']\n",
            "SCORE FOR THIS QUESTION -> 5.2631578947368425\n",
            "****************************************************************************************************\n",
            "TEST QUESTION -> (['seeker', 'quidditch'], [], ['team'])\n",
            "RESULT FROM GENSIM -> ['claw', 'vain', 'painting', 'spilled', 'north', 'refusing', 'shears', 'perce', 'logically', 'thread', 'gale', \"flesh-eatin'\", 'conceal', 'panicking', 'x-rayed', 'spectacular', 'chortle', 'youngsters', 'containing', 'misjudged', 'groggily', 'inkling', 'rotter', 'subsided', 'ravenclaws']\n",
            "SCORE FOR THIS QUESTION -> 0.0\n",
            "****************************************************************************************************\n",
            "TEST QUESTION -> (['harry', 'potter', 'school'], [], ['hogwarts'])\n",
            "RESULT FROM GENSIM -> ['hagrid', 'nuffink', \"we've\", 'born', \"'yes'\", 'needed', 'build', 'sometimes', 'curiously', 'shouted', 'acting', 'please', 'burned', 'wishing', 'contact', 'failed', 'son', 'complaining', 'stopping', \"toilet's\", 'explode', 'prophet', 'warmer', 'obviously', 'realized']\n",
            "SCORE FOR THIS QUESTION -> 0.0\n",
            "****************************************************************************************************\n",
            "TEST QUESTION -> (['gryffindor'], [], ['hogwarts', 'house'])\n",
            "RESULT FROM GENSIM -> ['bedlam', 'muffled', 'dumped', 'passersby', 'betide', 'grades', 'retired', 'vol', 'angrier', 'extra', 'cursed', 'tonight', 'nobody', 'ginny', 'probably', 'these', 'presume', 'students', 'build', 'mistake', 'answering', 'prophet', 'bound', 'wishing', 'spot']\n",
            "SCORE FOR THIS QUESTION -> 0.0\n",
            "****************************************************************************************************\n",
            "TEST QUESTION -> (['ron', 'hermione'], [], ['harry'])\n",
            "RESULT FROM GENSIM -> ['hagrid', 'eh', 'please', 'believed', 'devil', 'finally', 'quickly', 'build', 'shouted', 'mummy', 'explode', 'born', 'dobby', \"'yes'\", \"we've\", 'now', 'work', 'son', 'expensive', 'shrunk', 'warned', 'embarrass', \"there'll\", 'enmity', 'assistance']\n",
            "SCORE FOR THIS QUESTION -> 0.0\n",
            "****************************************************************************************************\n",
            "TEST QUESTION -> (['ron', 'woman'], ['man'], ['hermione'])\n",
            "RESULT FROM GENSIM -> ['home', 'they', 'mine', 'snarled', 'discover', 'it', 'us', 'he', 'may', 'hardly', 'hungry', 'alley', 'return', 'parents', 'them', \"we'd\", 'masons', 'telephone', 'coming', 'everything', \"she's\", 'realize', 'harry', 'sworn', 'write']\n",
            "SCORE FOR THIS QUESTION -> 0.0\n",
            "****************************************************************************************************\n",
            "TEST QUESTION -> (['hagrid'], [], ['dumbledore'])\n",
            "RESULT FROM GENSIM -> [\"we've\", 'born', 'please', 'son', 'nuffink', \"'yes'\", 'devil', 'shouted', 'build', 'acting', 'finally', 'hello', 'sometimes', 'house-elf', 'stopping', 'needed', 'eh', 'dad', 'explode', 'ron', 'mum', 'crying', 'always', 'spoken', 'curiously']\n",
            "SCORE FOR THIS QUESTION -> 0.0\n",
            "****************************************************************************************************\n",
            "TEST QUESTION -> (['wizard'], [], ['witch'])\n",
            "RESULT FROM GENSIM -> ['desks', 'sounding', 'carelessly', 'squish', 'flaring', 'tourists', 'albus', 'quidditch', 'individual', 'months', 'books', 'weirdest', 'ago', 'deadly', 'mournfully', 'audible', 'thousand', 'translation', 'patting', 'fact', 'gutter', 'thing', 'prudent', 'deputy', 'sneakoscope']\n",
            "SCORE FOR THIS QUESTION -> 0.0\n",
            "****************************************************************************************************\n",
            "TEST QUESTION -> (['weasley'], [], ['george', 'percy'])\n",
            "RESULT FROM GENSIM -> ['mr', 'slaughtering', 'dursley', 'mrs', 'borgin', \"'fortuna\", 'cast', 'racking', 'alarmingly', 'black', 'pipe', 'signatures', \"'it\", 'mountains', 'openly', 'ceremony', 'mason', 'snailed', 'spiritedly', 'arthur', 'newborn', 'disappointing', 'haircut', 'grumpily', \"year's\"]\n",
            "SCORE FOR THIS QUESTION -> 0.0\n",
            "****************************************************************************************************\n",
            "TEST QUESTION -> (['ravenclaw'], [], ['hufflepuff'])\n",
            "RESULT FROM GENSIM -> ['caughty', 'troublesome', 'limbs', 'crowing', 'fireside', 'thursday', 'thorough', 'sneaked', 'flicker', 'rice', 'oooh', 'pinker', 'stench', 'sprouting', 'venom', 'patronuml', 'defend', 'inching', 'piping', 'borne', 'crossly', 'uproar', 'twisted', 'parvati', 'gryffindors']\n",
            "SCORE FOR THIS QUESTION -> 0.0\n",
            "****************************************************************************************************\n",
            "TEST QUESTION -> (['muggle', 'magic'], [], ['wizard'])\n",
            "RESULT FROM GENSIM -> ['our', 'only', 'planned', 'lemon', 'fault', 'world', \"'arm\", 'sneakoscope', 'were', \"'ear\", 'fer', 'gorgons', 'like', 'monitor', 'frogs', 'books', 'put-outer', 'was', 'knowing', 'ignore', \"course'\", 'drop', 'weeks', 'fastest', 'certain']\n",
            "SCORE FOR THIS QUESTION -> 0.0\n",
            "****************************************************************************************************\n",
            "TEST QUESTION -> (['wizard'], ['witch', 'dark'], ['potter'])\n",
            "RESULT FROM GENSIM -> ['gesture', 'willingly', 'angles', 'resentment', 'hairy', 'wisely', 'moron', 'traced', 'lunging', 'swell', 'previous', 'disbelief', 'racks', 'consented', 'addressing', 'honey-colored', 'brightened', 'trespass', 'quills', 'ecstatically', 'joking', 'limericks', 'inferno', \"expelliarmusv'\", 'unraveled']\n",
            "SCORE FOR THIS QUESTION -> 0.0\n",
            "****************************************************************************************************\n",
            "TEST QUESTION -> (['house'], [], ['gryffindor'])\n",
            "RESULT FROM GENSIM -> ['close', 'fill', 'consulted', 'money', 'friend', 'carried', 'spend', 'boom', 'september', 'gingerly', 'slam', \"boy's\", 'sticking', 'whole', 'nowhere', 'sighed', 'along', 'lot', \"'and\", 'mention', 'bowed', 'leader', 'rigid', 'shadows', 'inexpressible']\n",
            "SCORE FOR THIS QUESTION -> 0.0\n",
            "****************************************************************************************************\n",
            "TEST QUESTION -> (['house', 'evil'], [], ['slytherin'])\n",
            "RESULT FROM GENSIM -> ['worry', 'anywhere', 'maybe', 'feel', 'talking', 'thinking', 'surprised', 'fan', 'something', 'decided', 'finally', 'granger', 'expect', 'belong', 'hear', 'meet', 'well', 'noticing', 'ter', 'appear', 'land', 'sent', 'understand', 'that', 'celebrating']\n",
            "SCORE FOR THIS QUESTION -> 0.0\n",
            "****************************************************************************************************\n",
            "TEST QUESTION -> (['voldemort'], ['evil'], ['dumbledore'])\n",
            "RESULT FROM GENSIM -> [\"flamel'v'\", 'tones', 'dissolving', 'grindylow', 'block', 'incantations', 'placidly', 'm-myself', 'trans-mogrifian', 'regular', 'uphold', 'blasting', 'laundry', 'faulty', 'plinth', 'workload', 'bluebell-colored', 'uncanny', 'loves', 'anguished', 'shrug', 'image', 'shawl', 'snitch', 'settling']\n",
            "SCORE FOR THIS QUESTION -> 0.0\n",
            "****************************************************************************************************\n",
            "TEST QUESTION -> (['slytherin', 'good'], ['student'], ['malfoy', 'lucius'])\n",
            "RESULT FROM GENSIM -> ['refereeing', 'bed', 'moved', 'wall', 'benefits', 'garden', 'ran', 'colliding', 'their', 'began', 'straight', 'cart', 'witness', 'down', 'back', 'horror', 'london', 'trade', 'chocoballs', 'ivooo', \"skulkin'\", 'alternative', 'went', 'shhhh', 'pick']\n",
            "SCORE FOR THIS QUESTION -> 0.0\n",
            "****************************************************************************************************\n",
            "TEST QUESTION -> (['mcgonagall', 'good'], ['witch'], ['dumbledore'])\n",
            "RESULT FROM GENSIM -> ['forming', 'overbright', 'fifty-ten', 'commenting', 'idly', 'explanation', 'law-breakers', 'sheds', 'polo', 'bungler', 'drivers', 'no', \"gov'nors\", 'horror-struck', 'limelight', 'torrents', 'raffle', 'urge', 'attempts', 'captain', \"weather's\", 'soberly', 'cram', 'than', 'compost']\n",
            "SCORE FOR THIS QUESTION -> 0.0\n",
            "****************************************************************************************************\n",
            "TEST QUESTION -> (['harry', 'aunt'], [], ['petunia'])\n",
            "RESULT FROM GENSIM -> ['marge', 'dudley', 'she', 'he', 'petunia', 'chatter', 'learn', 'stopped', 'fred', 'loudly', 'uncle', 'boggart', 'rock-fall', 'dying', 'fudge', 'sister', 'roared', 'parents', 'vernon', 'deeply', 'affronted', 'flatten', 'instant', 'refused', 'gallows']\n",
            "SCORE FOR THIS QUESTION -> 5.2631578947368425\n"
          ]
        },
        {
          "data": {
            "text/plain": [
              "10.526315789473685"
            ]
          },
          "execution_count": 95,
          "metadata": {},
          "output_type": "execute_result"
        }
      ],
      "source": [
        "def test(model, tests, topn=25, debug=False):\n",
        "\t# initialize model score as 0, then if it get one entry correct, we add 100/test_number to the score. The final score x out of 100 will be the crepochsia of this model\n",
        "\tmodel_score = 0\n",
        "\tpoint = 100/len(tests)\n",
        "\tfor test in tests:\n",
        "\t\tpositive = test[0]\n",
        "\t\tnegative = test[1]\n",
        "\t\twanted_results = test[2]\n",
        "\t\tgensim_results = [key for (key, value) in model.wv.most_similar(positive=positive, negative=negative, topn=topn)]\n",
        "\t\t# print(gensim_result_list)\n",
        "\t\t# print(wanted_results)\n",
        "\t\tis_correct = check_correct(gensim_results, wanted_results)\n",
        "\t\tmodel_score += int(is_correct) * point\n",
        "\n",
        "\t\t# debug\n",
        "\t\tif debug:\n",
        "\t\t\tprint('*' * 100)\n",
        "\t\t\tprint(\"TEST QUESTION -> {}\".format(test))\n",
        "\t\t\tprint(\"RESULT FROM GENSIM -> {}\".format(gensim_results))\n",
        "\t\t\tprint(\"SCORE FOR THIS QUESTION -> {}\".format(int(is_correct) * point))\n",
        "\treturn model_score\n",
        "\n",
        "\n",
        "test(model=model, tests=Util.tests[:-1], topn=25, debug=True)"
      ]
    },
    {
      "cell_type": "code",
      "execution_count": 226,
      "metadata": {},
      "outputs": [
        {
          "name": "stdout",
          "output_type": "stream",
          "text": [
            "doc_len:3, vector_size:154, window:7, min_count:5, sg:1, negative:4, epochs:90\n",
            "0 -> 31.578947368421055\n",
            "doc_len:3, vector_size:227, window:13, min_count:5, sg:1, negative:87, epochs:75\n",
            "1 -> 36.8421052631579\n",
            "doc_len:3, vector_size:266, window:10, min_count:5, sg:1, negative:48, epochs:81\n",
            "2 -> 31.578947368421055\n",
            "doc_len:3, vector_size:225, window:16, min_count:5, sg:0, negative:4, epochs:92\n",
            "3 -> 31.578947368421055\n",
            "doc_len:3, vector_size:80, window:9, min_count:5, sg:0, negative:83, epochs:63\n",
            "4 -> 31.578947368421055\n",
            "doc_len:3, vector_size:264, window:18, min_count:5, sg:0, negative:59, epochs:74\n",
            "5 -> 42.10526315789474\n",
            "doc_len:3, vector_size:39, window:9, min_count:5, sg:1, negative:28, epochs:69\n",
            "6 -> 52.631578947368425\n",
            "doc_len:3, vector_size:102, window:8, min_count:5, sg:1, negative:88, epochs:46\n",
            "7 -> 36.8421052631579\n",
            "doc_len:3, vector_size:133, window:13, min_count:5, sg:0, negative:89, epochs:52\n",
            "8 -> 31.578947368421055\n",
            "doc_len:3, vector_size:31, window:9, min_count:5, sg:0, negative:30, epochs:37\n",
            "9 -> 31.578947368421055\n",
            "doc_len:3, vector_size:262, window:9, min_count:5, sg:0, negative:52, epochs:84\n",
            "10 -> 31.578947368421055\n",
            "doc_len:3, vector_size:263, window:4, min_count:5, sg:0, negative:80, epochs:53\n",
            "11 -> 26.315789473684212\n",
            "doc_len:3, vector_size:291, window:13, min_count:5, sg:0, negative:7, epochs:54\n",
            "12 -> 31.578947368421055\n",
            "doc_len:3, vector_size:118, window:19, min_count:5, sg:0, negative:38, epochs:35\n",
            "13 -> 36.8421052631579\n",
            "doc_len:3, vector_size:74, window:17, min_count:5, sg:0, negative:67, epochs:63\n",
            "14 -> 36.8421052631579\n",
            "doc_len:3, vector_size:26, window:9, min_count:5, sg:1, negative:91, epochs:36\n",
            "15 -> 31.578947368421055\n",
            "doc_len:3, vector_size:237, window:12, min_count:5, sg:1, negative:11, epochs:32\n",
            "16 -> 31.578947368421055\n",
            "doc_len:3, vector_size:23, window:8, min_count:5, sg:0, negative:35, epochs:83\n",
            "17 -> 31.578947368421055\n",
            "doc_len:3, vector_size:102, window:4, min_count:5, sg:0, negative:66, epochs:37\n",
            "18 -> 10.526315789473685\n",
            "doc_len:3, vector_size:242, window:8, min_count:5, sg:0, negative:15, epochs:46\n",
            "19 -> 42.10526315789474\n",
            "doc_len:3, vector_size:85, window:8, min_count:5, sg:0, negative:63, epochs:31\n",
            "20 -> 15.789473684210527\n",
            "doc_len:3, vector_size:54, window:6, min_count:5, sg:1, negative:44, epochs:78\n",
            "21 -> 42.10526315789474\n",
            "doc_len:3, vector_size:186, window:18, min_count:5, sg:0, negative:91, epochs:72\n",
            "22 -> 36.8421052631579\n",
            "doc_len:3, vector_size:76, window:9, min_count:5, sg:0, negative:14, epochs:70\n",
            "23 -> 42.10526315789474\n",
            "doc_len:3, vector_size:260, window:12, min_count:5, sg:1, negative:32, epochs:92\n",
            "24 -> 26.315789473684212\n",
            "doc_len:3, vector_size:37, window:17, min_count:5, sg:1, negative:5, epochs:30\n",
            "25 -> 26.315789473684212\n",
            "doc_len:3, vector_size:133, window:19, min_count:5, sg:1, negative:6, epochs:42\n",
            "26 -> 36.8421052631579\n",
            "doc_len:3, vector_size:61, window:7, min_count:5, sg:1, negative:94, epochs:36\n",
            "27 -> 26.315789473684212\n",
            "doc_len:3, vector_size:163, window:5, min_count:5, sg:1, negative:87, epochs:70\n",
            "28 -> 31.578947368421055\n",
            "doc_len:3, vector_size:170, window:17, min_count:5, sg:0, negative:64, epochs:92\n",
            "29 -> 36.8421052631579\n",
            "doc_len:3, vector_size:156, window:11, min_count:5, sg:0, negative:68, epochs:92\n",
            "30 -> 31.578947368421055\n",
            "doc_len:3, vector_size:287, window:8, min_count:5, sg:0, negative:35, epochs:86\n",
            "31 -> 36.8421052631579\n",
            "doc_len:3, vector_size:57, window:16, min_count:5, sg:0, negative:92, epochs:33\n",
            "32 -> 31.578947368421055\n",
            "doc_len:3, vector_size:199, window:7, min_count:5, sg:1, negative:53, epochs:84\n",
            "33 -> 31.578947368421055\n",
            "doc_len:3, vector_size:45, window:18, min_count:5, sg:1, negative:40, epochs:39\n",
            "34 -> 52.631578947368425\n",
            "doc_len:3, vector_size:270, window:17, min_count:5, sg:0, negative:80, epochs:30\n",
            "35 -> 15.789473684210527\n",
            "doc_len:3, vector_size:102, window:7, min_count:5, sg:0, negative:77, epochs:32\n",
            "36 -> 5.2631578947368425\n",
            "doc_len:3, vector_size:220, window:15, min_count:5, sg:0, negative:100, epochs:62\n",
            "37 -> 36.8421052631579\n",
            "doc_len:3, vector_size:210, window:20, min_count:5, sg:1, negative:44, epochs:37\n",
            "38 -> 26.315789473684212\n",
            "doc_len:3, vector_size:235, window:11, min_count:5, sg:0, negative:20, epochs:92\n",
            "39 -> 36.8421052631579\n",
            "doc_len:3, vector_size:99, window:20, min_count:5, sg:1, negative:12, epochs:69\n",
            "40 -> 36.8421052631579\n",
            "doc_len:3, vector_size:105, window:11, min_count:5, sg:1, negative:24, epochs:82\n",
            "41 -> 36.8421052631579\n",
            "doc_len:3, vector_size:171, window:11, min_count:5, sg:0, negative:76, epochs:75\n",
            "42 -> 31.578947368421055\n",
            "doc_len:3, vector_size:78, window:9, min_count:5, sg:0, negative:22, epochs:58\n",
            "43 -> 36.8421052631579\n",
            "doc_len:3, vector_size:164, window:17, min_count:5, sg:1, negative:8, epochs:51\n",
            "44 -> 31.578947368421055\n",
            "doc_len:3, vector_size:241, window:7, min_count:5, sg:0, negative:49, epochs:71\n",
            "45 -> 36.8421052631579\n",
            "doc_len:3, vector_size:120, window:19, min_count:5, sg:0, negative:81, epochs:59\n",
            "46 -> 36.8421052631579\n",
            "doc_len:3, vector_size:115, window:17, min_count:5, sg:1, negative:57, epochs:100\n",
            "47 -> 31.578947368421055\n",
            "doc_len:3, vector_size:275, window:19, min_count:5, sg:1, negative:9, epochs:91\n",
            "48 -> 31.578947368421055\n",
            "doc_len:3, vector_size:64, window:5, min_count:5, sg:1, negative:74, epochs:87\n",
            "49 -> 26.315789473684212\n",
            "doc_len:3, vector_size:119, window:10, min_count:5, sg:1, negative:6, epochs:56\n",
            "50 -> 31.578947368421055\n",
            "doc_len:3, vector_size:119, window:19, min_count:5, sg:0, negative:24, epochs:76\n",
            "51 -> 31.578947368421055\n",
            "doc_len:3, vector_size:28, window:6, min_count:5, sg:0, negative:89, epochs:36\n",
            "52 -> 5.2631578947368425\n",
            "doc_len:3, vector_size:55, window:20, min_count:5, sg:1, negative:93, epochs:77\n",
            "53 -> 42.10526315789474\n",
            "doc_len:3, vector_size:121, window:14, min_count:5, sg:1, negative:81, epochs:59\n",
            "54 -> 31.578947368421055\n",
            "doc_len:3, vector_size:166, window:6, min_count:5, sg:0, negative:54, epochs:95\n",
            "55 -> 31.578947368421055\n",
            "doc_len:3, vector_size:260, window:8, min_count:5, sg:0, negative:84, epochs:87\n",
            "56 -> 36.8421052631579\n",
            "doc_len:3, vector_size:151, window:14, min_count:5, sg:1, negative:15, epochs:99\n",
            "57 -> 36.8421052631579\n",
            "doc_len:3, vector_size:136, window:20, min_count:5, sg:0, negative:38, epochs:73\n",
            "58 -> 36.8421052631579\n",
            "doc_len:3, vector_size:101, window:8, min_count:5, sg:1, negative:55, epochs:86\n",
            "59 -> 36.8421052631579\n",
            "doc_len:3, vector_size:143, window:15, min_count:5, sg:1, negative:50, epochs:84\n",
            "60 -> 36.8421052631579\n",
            "doc_len:3, vector_size:186, window:13, min_count:5, sg:0, negative:24, epochs:48\n",
            "61 -> 31.578947368421055\n",
            "doc_len:3, vector_size:11, window:13, min_count:5, sg:1, negative:90, epochs:68\n",
            "62 -> 36.8421052631579\n",
            "doc_len:3, vector_size:278, window:5, min_count:5, sg:0, negative:33, epochs:99\n",
            "63 -> 31.578947368421055\n",
            "doc_len:3, vector_size:277, window:8, min_count:5, sg:1, negative:26, epochs:35\n",
            "64 -> 31.578947368421055\n",
            "doc_len:3, vector_size:12, window:20, min_count:5, sg:0, negative:42, epochs:64\n",
            "65 -> 15.789473684210527\n",
            "doc_len:3, vector_size:200, window:17, min_count:5, sg:0, negative:93, epochs:61\n",
            "66 -> 31.578947368421055\n",
            "doc_len:3, vector_size:234, window:20, min_count:5, sg:0, negative:18, epochs:31\n",
            "67 -> 21.05263157894737\n",
            "doc_len:3, vector_size:117, window:10, min_count:5, sg:1, negative:35, epochs:49\n",
            "68 -> 31.578947368421055\n",
            "doc_len:3, vector_size:32, window:8, min_count:5, sg:1, negative:64, epochs:43\n",
            "69 -> 47.36842105263158\n",
            "doc_len:3, vector_size:210, window:17, min_count:5, sg:0, negative:40, epochs:41\n",
            "70 -> 36.8421052631579\n",
            "doc_len:3, vector_size:273, window:6, min_count:5, sg:0, negative:69, epochs:31\n",
            "71 -> 5.2631578947368425\n",
            "doc_len:3, vector_size:210, window:14, min_count:5, sg:0, negative:97, epochs:90\n",
            "72 -> 31.578947368421055\n",
            "doc_len:3, vector_size:203, window:5, min_count:5, sg:0, negative:81, epochs:38\n",
            "73 -> 5.2631578947368425\n",
            "doc_len:3, vector_size:152, window:9, min_count:5, sg:0, negative:84, epochs:41\n",
            "74 -> 21.05263157894737\n",
            "doc_len:3, vector_size:282, window:9, min_count:5, sg:0, negative:92, epochs:32\n",
            "75 -> 15.789473684210527\n",
            "doc_len:3, vector_size:149, window:16, min_count:5, sg:0, negative:68, epochs:75\n",
            "76 -> 31.578947368421055\n",
            "doc_len:3, vector_size:18, window:6, min_count:5, sg:0, negative:46, epochs:74\n",
            "77 -> 31.578947368421055\n",
            "doc_len:3, vector_size:226, window:9, min_count:5, sg:1, negative:96, epochs:45\n",
            "78 -> 31.578947368421055\n",
            "doc_len:3, vector_size:263, window:13, min_count:5, sg:0, negative:32, epochs:69\n",
            "79 -> 31.578947368421055\n",
            "doc_len:3, vector_size:54, window:20, min_count:5, sg:1, negative:38, epochs:47\n",
            "80 -> 47.36842105263158\n",
            "doc_len:3, vector_size:217, window:15, min_count:5, sg:0, negative:40, epochs:46\n",
            "81 -> 36.8421052631579\n",
            "doc_len:3, vector_size:97, window:11, min_count:5, sg:0, negative:9, epochs:62\n",
            "82 -> 31.578947368421055\n",
            "doc_len:3, vector_size:275, window:5, min_count:5, sg:1, negative:11, epochs:55\n",
            "83 -> 31.578947368421055\n",
            "doc_len:3, vector_size:91, window:4, min_count:5, sg:0, negative:40, epochs:39\n",
            "84 -> 26.315789473684212\n",
            "doc_len:3, vector_size:25, window:13, min_count:5, sg:0, negative:8, epochs:72\n",
            "85 -> 36.8421052631579\n",
            "doc_len:3, vector_size:263, window:19, min_count:5, sg:0, negative:42, epochs:82\n",
            "86 -> 42.10526315789474\n",
            "doc_len:3, vector_size:46, window:11, min_count:5, sg:1, negative:13, epochs:96\n",
            "87 -> 31.578947368421055\n",
            "doc_len:3, vector_size:95, window:17, min_count:5, sg:0, negative:81, epochs:46\n",
            "88 -> 26.315789473684212\n",
            "doc_len:3, vector_size:112, window:20, min_count:5, sg:0, negative:94, epochs:55\n",
            "89 -> 36.8421052631579\n",
            "doc_len:3, vector_size:231, window:10, min_count:5, sg:0, negative:53, epochs:78\n",
            "90 -> 31.578947368421055\n",
            "doc_len:3, vector_size:253, window:17, min_count:5, sg:1, negative:49, epochs:47\n",
            "91 -> 31.578947368421055\n",
            "doc_len:3, vector_size:107, window:17, min_count:5, sg:1, negative:9, epochs:62\n",
            "92 -> 31.578947368421055\n",
            "doc_len:3, vector_size:118, window:5, min_count:5, sg:1, negative:23, epochs:52\n",
            "93 -> 31.578947368421055\n",
            "doc_len:3, vector_size:196, window:15, min_count:5, sg:1, negative:90, epochs:81\n",
            "94 -> 31.578947368421055\n",
            "doc_len:3, vector_size:265, window:13, min_count:5, sg:1, negative:39, epochs:85\n",
            "95 -> 31.578947368421055\n",
            "doc_len:3, vector_size:211, window:11, min_count:5, sg:0, negative:47, epochs:41\n",
            "96 -> 42.10526315789474\n",
            "doc_len:3, vector_size:58, window:12, min_count:5, sg:1, negative:44, epochs:84\n",
            "97 -> 42.10526315789474\n",
            "doc_len:3, vector_size:192, window:19, min_count:5, sg:1, negative:92, epochs:81\n",
            "98 -> 31.578947368421055\n",
            "doc_len:3, vector_size:83, window:5, min_count:5, sg:0, negative:34, epochs:56\n",
            "99 -> 31.578947368421055\n"
          ]
        }
      ],
      "source": [
        "import random\n",
        "field = ['doc', 'vector_size', 'window', 'min_count', 'sg', 'negative', 'epochs', 'name']\n",
        "\n",
        "corpus = build_hp_dataset(count=3)\n",
        "\n",
        "# config = build_config(corpus, vector_size=10, window=10, min_count=15, sg=1, negative=3, epochs=8)\n",
        "# print(config)\n",
        "# model  = build_model(config)\n",
        "\n",
        "def randint(a, b):\n",
        "\treturn random.randint(a, b)\n",
        "\n",
        "for i in range(100):\n",
        "\tconfig = build_config(corpus, vector_size=randint(10, 300), window=randint(4, 20), min_count=5, sg=randint(0, 1), negative=randint(3, 100), epochs=randint(30, 100))\n",
        "\tprint(config)\n",
        "\tmodel = build_model(config)\n",
        "\tprint(\"{} -> {}\".format(i, test(model=model, tests=Util.tests[:-1], topn=25, debug=False)))\n",
        "\n"
      ]
    },
    {
      "cell_type": "markdown",
      "metadata": {},
      "source": [
        "doc_len:3, vector_size:75, window:19, min_count:12, sg:0, negative:44, epochs:48\n",
        "doc_len:3, vector_size:30, window:14, min_count:14, sg:1, negative:46, epochs:94\n",
        "doc_len:3, vector_size:69, window:15, min_count:13, sg:1, negative:35, epochs:64"
      ]
    },
    {
      "cell_type": "code",
      "execution_count": 201,
      "metadata": {},
      "outputs": [
        {
          "name": "stdout",
          "output_type": "stream",
          "text": [
            "doc_len:3, vector_size:100, window:25, min_count:12, sg:0, negative:90, epochs:48\n",
            "****************************************************************************************************\n",
            "TEST QUESTION -> (['mcgonagall'], [], ['professor'])\n",
            "RESULT FROM GENSIM -> ['professor', 'dumbledore', \"everyone's\", 'sounding', 'live', \"hagrid's\", 'suppose', 'james', 'lily', 'drop', 'frightened', 'albus', 'saying', 'hollow', 'believe', \"they're\", \"mcgonagall's\", 'gently', \"isn't\", 'poor', 'here', 'sense', 'gone', 'anxious', 'seems']\n",
            "SCORE FOR THIS QUESTION -> 5.2631578947368425\n",
            "****************************************************************************************************\n",
            "TEST QUESTION -> (['ron'], [], ['hermione', 'harry'])\n",
            "RESULT FROM GENSIM -> ['grinning', 'george', 'fred', 'hermione', \"percy's\", \"hermione's\", 'ages', 'percy', 'okay', 'ear', 'needs', 'bar', \"you've\", 'bill', 'mum', 'brothers', 'try', 'midair', \"we're\", 'twins', 'seat', 'scabbers', 'badge', 'wing', 'rat']\n",
            "SCORE FOR THIS QUESTION -> 5.2631578947368425\n",
            "****************************************************************************************************\n",
            "TEST QUESTION -> (['seeker', 'quidditch'], [], ['team'])\n",
            "RESULT FROM GENSIM -> ['broomsticks', 'team', 'nimbus', 'thousand', 'most', 'played', 'broom', 'posts', 'witches', 'shops', 'goal', 'highly', 'spent', 'burning', 'five', 'village', 'teams', 'missed', 'edged', 'robes', 'wizarding', 'curious', 'wizards', 'surprise', 'brass']\n",
            "SCORE FOR THIS QUESTION -> 5.2631578947368425\n",
            "****************************************************************************************************\n",
            "TEST QUESTION -> (['harry', 'potter', 'school'], [], ['hogwarts'])\n",
            "RESULT FROM GENSIM -> ['hogwarts', 'wizardry', 'witchcraft', 'glad', 'express', 'fresh', 'holidays', 'without', 'terrible', 'class', 'danger', 'christmas', 'year', 'station', 'last', 'months', 'platform', 'expelled', 'headmaster', 'famous', \"weren't\", 'happen', 'first', 'permission', 'spoken']\n",
            "SCORE FOR THIS QUESTION -> 5.2631578947368425\n",
            "****************************************************************************************************\n",
            "TEST QUESTION -> (['gryffindor'], [], ['hogwarts', 'house'])\n",
            "RESULT FROM GENSIM -> ['play', 'thinks', 'teams', 'special', 'exam', 'smashed', 'facing', 'binns', 'lucky', 'upon', 'bones', 'fresh', 'whomping', 'aloud', 'library', 'finding', 'sounds', 'played', 'highly', 'sweat', 'steal', 'final', 'thousand', 'ended', 'trolls']\n",
            "SCORE FOR THIS QUESTION -> 0.0\n",
            "****************************************************************************************************\n",
            "TEST QUESTION -> (['ron', 'hermione'], [], ['harry'])\n",
            "RESULT FROM GENSIM -> ['grinning', \"hermione's\", \"percy's\", 'needs', 'george', \"king's\", 'ages', 'prefects', 'bill', 'percy', 'fred', 'mum', \"lockhart's\", 'study', \"we're\", 'cross', 'try', 'brothers', 'taking', 'ancient', 'pocket', 'heavy', 'midair', 'crowded', \"what's\"]\n",
            "SCORE FOR THIS QUESTION -> 0.0\n",
            "****************************************************************************************************\n",
            "TEST QUESTION -> (['ron', 'woman'], ['man'], ['hermione'])\n",
            "RESULT FROM GENSIM -> ['brothers', 'ages', \"percy's\", 'note', 'mum', \"we're\", \"we'll\", 'grinning', 'impatiently', 'water', 'george', 'needs', 'love', \"what's\", 'percy', 'says', 'chance', 'errol', 'glaring', \"i've\", 'try', 'asked', 'sighed', 'hermione', \"you've\"]\n",
            "SCORE FOR THIS QUESTION -> 5.2631578947368425\n",
            "****************************************************************************************************\n",
            "TEST QUESTION -> (['hagrid'], [], ['dumbledore'])\n",
            "RESULT FROM GENSIM -> ['yeh', 'dragon', 'yer', \"hagrid's\", 'growled', 'lost', 'relieved', 'gamekeeper', 'sorry', 'ter', 'fer', 'right', 'sank', 'giant', \"goin'\", 'trust', 'stop', \"yeh've\", 'stare', 'what', \"abou'\", 'rage', 'whole', 'dumbledore', 'anger']\n",
            "SCORE FOR THIS QUESTION -> 5.2631578947368425\n",
            "****************************************************************************************************\n",
            "TEST QUESTION -> (['wizard'], [], ['witch'])\n",
            "RESULT FROM GENSIM -> ['witches', 'or', 'greatest', 'age', 'curse', 'murdered', 'surprise', 'sort', 'either', 'witch', 'wizards', \"black's\", 'world', 'afraid', 'granger', 'closer', 'ever', \"o'\", 'indeed', 'sirius', 'ago', 'effect', 'girl', 'servant', 'called']\n",
            "SCORE FOR THIS QUESTION -> 5.2631578947368425\n",
            "****************************************************************************************************\n",
            "TEST QUESTION -> (['weasley'], [], ['george', 'percy'])\n",
            "RESULT FROM GENSIM -> [\"weasley's\", \"ginny's\", 'may', 'fine', 'joined', 'cars', 'pick', 'granger', 'dropped', 'malfoy', 'weasleys', 'love', 'our', 'foul', \"let's\", 'ginny', 'dull', 'fred', 'george', 'pleased', \"lockhart's\", 'pointed', 'borgin', 'eagerly', 'take']\n",
            "SCORE FOR THIS QUESTION -> 5.2631578947368425\n",
            "****************************************************************************************************\n",
            "TEST QUESTION -> (['ravenclaw'], [], ['hufflepuff'])\n",
            "RESULT FROM GENSIM -> ['mandrakes', \"marauder's\", 'lowered', 'three-quarters', 'jug', 'two', 'flint', 'dressed', \"quirrell's\", 'basilisk', 'turban', 'pointing', 'feast', 'like', 'at', 'people', 'awkwardly', 'dungeons', 'most', 'toad', 'shop', 'hufflepuff', 'spread', 'twisted', 'arts']\n",
            "SCORE FOR THIS QUESTION -> 5.2631578947368425\n",
            "****************************************************************************************************\n",
            "TEST QUESTION -> (['muggle', 'magic'], [], ['wizard'])\n",
            "RESULT FROM GENSIM -> ['daily', 'ministry', 'prophet', 'office', 'sort', 'magical', 'section', 'use', 'mad', 'using', 'serious', 'yours', 'muggles', 'draw', 'wizarding', \"black's\", \"'course\", 'study', 'seven', 'ancient', \"he'll\", 'won', 'spells', 'wizards', 'laughed']\n",
            "SCORE FOR THIS QUESTION -> 0.0\n",
            "****************************************************************************************************\n",
            "TEST QUESTION -> (['wizard'], ['witch', 'dark'], ['potter'])\n",
            "RESULT FROM GENSIM -> ['work', 'cars', 'weasley', \"weasley's\", 'ministry', 'did', 'eagerly', \"i'm\", 'normal', 'house', 'voice', 'may', 'everyone', 'indeed', 'blow', 'law', 'our', 'petunia', 'course', 'about', 'day', \"weren't\", 'looking', 'very', 'ah']\n",
            "SCORE FOR THIS QUESTION -> 0.0\n",
            "****************************************************************************************************\n",
            "TEST QUESTION -> (['house'], [], ['gryffindor'])\n",
            "RESULT FROM GENSIM -> ['upstairs', 'piers', 'when', 'garden', 'coming', 'wind', 'shock', 'privet', 'letters', 'sister', \"dursleys'\", 'luck', \"dudley's\", 'drive', 'stayed', 'dinner', 'evening', \"she'd\", 'past', 'mention', 'find', 'after', 'living', 'home', 'questions']\n",
            "SCORE FOR THIS QUESTION -> 0.0\n",
            "****************************************************************************************************\n",
            "TEST QUESTION -> (['house', 'evil'], [], ['slytherin'])\n",
            "RESULT FROM GENSIM -> ['dull', 'steal', 'ended', 'strong', 'luck', 'hospital', 'howled', 'shrieked', 'powerful', 'committee', 'library', 'saturday', 'hopefully', 'telling', 'places', 'key', 'shoes', \"shouldn't\", 'afternoon', 'faces', 'screaming', 'footsteps', 'spider', 'keeps', 'lady']\n",
            "SCORE FOR THIS QUESTION -> 0.0\n",
            "****************************************************************************************************\n",
            "TEST QUESTION -> (['voldemort'], ['evil'], ['dumbledore'])\n",
            "RESULT FROM GENSIM -> ['lord', 'escaped', \"voldemort's\", 'scar', 'dark', 'potter', 'been', 'dobby', 'is', 'name', 'ronan', 'attack', 'speak', 'lightning', 'whose', 'face', 'people', 'had', \"dobby's\", 'almost', 'wide', 'years', 'weeks', 'however', 'must']\n",
            "SCORE FOR THIS QUESTION -> 0.0\n",
            "****************************************************************************************************\n",
            "TEST QUESTION -> (['slytherin', 'good'], ['student'], ['malfoy', 'lucius'])\n",
            "RESULT FROM GENSIM -> ['day', 'kind', 'may', 'coldly', 'waiting', 'less', 'went', 'expect', \"you'd\", 'thought', 'ha', 'exam', 'nervously', 'saying', 'strange', 'surprised', 'borgin', 'foul', 'malfoy', \"malfoy's\", 'pick', 'work', 'keep', 'draco', 'potters']\n",
            "SCORE FOR THIS QUESTION -> 5.2631578947368425\n",
            "****************************************************************************************************\n",
            "TEST QUESTION -> (['mcgonagall', 'good'], ['witch'], ['dumbledore'])\n",
            "RESULT FROM GENSIM -> ['saying', \"they're\", 'day', 'waiting', 'suppose', 'professor', 'hollow', 'here', 'say', 'stars', 'drop', 'true', \"everyone's\", 'dumbledore', 'oh', 'expect', 'stupid', 'have', \"you'd\", 'broke', 'storm', 'yourself', 'surprised', 'work', 'gone']\n",
            "SCORE FOR THIS QUESTION -> 5.2631578947368425\n",
            "****************************************************************************************************\n",
            "TEST QUESTION -> (['harry', 'aunt'], [], ['petunia'])\n",
            "RESULT FROM GENSIM -> ['bitterly', \"she's\", 'angry', 'make', 'talking', 'putting', 'upstairs', 'sound', 'hall', 'burst', 'television', 'tears', '11', 'bellowed', 'vernon', 'squinting', 'bedroom', 'christmas', 'cupboard', 'abruptly', 'leapt', 'sprang', 'excuse', 'hear', 'writing']\n",
            "SCORE FOR THIS QUESTION -> 0.0\n"
          ]
        },
        {
          "data": {
            "text/plain": [
              "57.89473684210527"
            ]
          },
          "execution_count": 201,
          "metadata": {},
          "output_type": "execute_result"
        }
      ],
      "source": [
        "# best option\n",
        "\n",
        "\n",
        "config = build_config(corpus, vector_size=100, window=25, min_count=12, sg=0, negative=90, epochs=48)\n",
        "print(config)\n",
        "model  = build_model(config)\n",
        "\n",
        "test(model=model, tests=Util.tests[:-1], topn=25, debug=True)\n"
      ]
    },
    {
      "cell_type": "code",
      "execution_count": 200,
      "metadata": {},
      "outputs": [
        {
          "name": "stdout",
          "output_type": "stream",
          "text": [
            "doc_len:3, vector_size:90, window:25, min_count:12, sg:0, negative:90, epochs:48\n",
            "90 -> 36.8421052631579\n",
            "doc_len:3, vector_size:91, window:25, min_count:12, sg:0, negative:90, epochs:48\n",
            "91 -> 47.36842105263158\n",
            "doc_len:3, vector_size:92, window:25, min_count:12, sg:0, negative:90, epochs:48\n",
            "92 -> 42.10526315789474\n",
            "doc_len:3, vector_size:93, window:25, min_count:12, sg:0, negative:90, epochs:48\n",
            "93 -> 47.36842105263158\n",
            "doc_len:3, vector_size:94, window:25, min_count:12, sg:0, negative:90, epochs:48\n",
            "94 -> 52.631578947368425\n",
            "doc_len:3, vector_size:95, window:25, min_count:12, sg:0, negative:90, epochs:48\n",
            "95 -> 47.36842105263158\n",
            "doc_len:3, vector_size:96, window:25, min_count:12, sg:0, negative:90, epochs:48\n",
            "96 -> 47.36842105263158\n",
            "doc_len:3, vector_size:97, window:25, min_count:12, sg:0, negative:90, epochs:48\n",
            "97 -> 42.10526315789474\n",
            "doc_len:3, vector_size:98, window:25, min_count:12, sg:0, negative:90, epochs:48\n",
            "98 -> 47.36842105263158\n",
            "doc_len:3, vector_size:99, window:25, min_count:12, sg:0, negative:90, epochs:48\n",
            "99 -> 47.36842105263158\n",
            "doc_len:3, vector_size:100, window:25, min_count:12, sg:0, negative:90, epochs:48\n",
            "100 -> 57.89473684210527\n",
            "doc_len:3, vector_size:101, window:25, min_count:12, sg:0, negative:90, epochs:48\n",
            "101 -> 42.10526315789474\n",
            "doc_len:3, vector_size:102, window:25, min_count:12, sg:0, negative:90, epochs:48\n",
            "102 -> 42.10526315789474\n",
            "doc_len:3, vector_size:103, window:25, min_count:12, sg:0, negative:90, epochs:48\n",
            "103 -> 42.10526315789474\n",
            "doc_len:3, vector_size:104, window:25, min_count:12, sg:0, negative:90, epochs:48\n",
            "104 -> 42.10526315789474\n",
            "doc_len:3, vector_size:105, window:25, min_count:12, sg:0, negative:90, epochs:48\n",
            "105 -> 52.631578947368425\n",
            "doc_len:3, vector_size:106, window:25, min_count:12, sg:0, negative:90, epochs:48\n",
            "106 -> 42.10526315789474\n",
            "doc_len:3, vector_size:107, window:25, min_count:12, sg:0, negative:90, epochs:48\n",
            "107 -> 42.10526315789474\n",
            "doc_len:3, vector_size:108, window:25, min_count:12, sg:0, negative:90, epochs:48\n",
            "108 -> 52.631578947368425\n",
            "doc_len:3, vector_size:109, window:25, min_count:12, sg:0, negative:90, epochs:48\n",
            "109 -> 42.10526315789474\n"
          ]
        }
      ],
      "source": [
        "\n",
        "\n",
        "for i in range(90, 110):\n",
        "\tconfig = build_config(corpus, vector_size=i, window=25, min_count=12, sg=0, negative=90, epochs=48)\n",
        "\tprint(config)\n",
        "\tmodel  = build_model(config)\n",
        "\n",
        "\tprint(\"{} -> {}\".format(i, test(model=model, tests=Util.tests[:-1], topn=25, debug=False)))\n",
        "\n"
      ]
    },
    {
      "cell_type": "code",
      "execution_count": 225,
      "metadata": {},
      "outputs": [
        {
          "name": "stdout",
          "output_type": "stream",
          "text": [
            "Passed 8\n",
            "[['gryffindor', '->', 'hogwarts', 'house'], ['ron', 'hermione', '->', 'harry'], ['hagrid', '->', 'dumbledore'], ['ravenclaw', '->', 'hufflepuff'], ['muggle', 'magic', '->', 'wizard'], ['wizard', '->', 'potter'], ['house', '->', 'gryffindor'], ['house', 'evil', '->', 'slytherin'], ['voldemort', '->', 'dumbledore'], ['slytherin', 'good', '->', 'malfoy', 'lucius'], ['harry', 'aunt', '->', 'petunia']]\n"
          ]
        }
      ],
      "source": [
        "# with config set as your model with parameters,\n",
        "\n",
        "# Try implementing :\n",
        "\n",
        "\n",
        "config = build_config(corpus, vector_size=100, window=25, min_count=12, sg=0, negative=90, epochs=48)\n",
        "\n",
        "model = build_model(config)\n",
        "def test_model():\n",
        "\tscore = 0\n",
        "\tfail= []\n",
        "\tfor test in Util.tests[:-1]:\n",
        "\t\tsoln = test[2]\n",
        "\t\tpos = test[0]\n",
        "\t\tneg = test[1]\n",
        "\t\tresult = model.wv.most_similar(positive=pos, negative=neg, topn=25)\n",
        "\t\tif any([sol in res for sol in soln for res in result]):\n",
        "\t\t\tscore += 1\n",
        "\t\telse:\n",
        "\t\t\tfail.append([*pos, \"->\", *soln])\n",
        "\tprint(\"Passed\", score)\n",
        "\tprint(fail)\n",
        "\n",
        "test_model()\n",
        "# This should show you the score no, anything over or equal to 14 is sufficient."
      ]
    },
    {
      "cell_type": "markdown",
      "metadata": {
        "id": "epef9gG3a2xR"
      },
      "source": [
        "## **Lesson Assignment**\n",
        "After configuring the Word2Vec model with the best set of hyperparameters, test your best model with all (19) of the test cases give in the Util file.\n",
        "* ```result = model.wv.most_similar(positive=pos, negative=neg, topn=topn)```\n",
        "    *   Get the top 25 words (```topn = 25```)\n",
        "* Print out the results for all the test cases (when you submit the notebook, the results should be visible). \n",
        "<br><br>\n",
        "\n",
        "\n",
        "**Steps to submit your work:**\n",
        "\n",
        "\n",
        "1.   Download the lesson notebook from Moodle.\n",
        "2.   Upload any supporting files using file upload option within Google Colab.\n",
        "3.   Complete the exercises and/or assignments\n",
        "4.   Download as .ipynb\n",
        "5.   Name the file as \"lastname_firstname_WeekNumber.ipynb\"\n",
        "6.   After following the above steps, submit the final file in Moodle\n",
        "\n",
        "\n",
        "\n",
        "\n",
        "\n",
        "<h1><center>The End!</center></h1>"
      ]
    }
  ],
  "metadata": {
    "colab": {
      "collapsed_sections": [],
      "name": "Week9_HarryPotter2vec.ipynb",
      "provenance": []
    },
    "interpreter": {
      "hash": "aee8b7b246df8f9039afb4144a1f6fd8d2ca17a180786b69acc140d282b71a49"
    },
    "kernelspec": {
      "display_name": "Python 3.9.7 64-bit",
      "name": "python3"
    },
    "language_info": {
      "codemirror_mode": {
        "name": "ipython",
        "version": 3
      },
      "file_extension": ".py",
      "mimetype": "text/x-python",
      "name": "python",
      "nbconvert_exporter": "python",
      "pygments_lexer": "ipython3",
      "version": "3.9.7"
    }
  },
  "nbformat": 4,
  "nbformat_minor": 0
}

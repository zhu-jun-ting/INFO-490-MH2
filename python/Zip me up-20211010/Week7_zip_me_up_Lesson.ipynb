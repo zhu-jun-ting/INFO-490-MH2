{
  "nbformat": 4,
  "nbformat_minor": 0,
  "metadata": {
    "colab": {
      "name": "Week7_zip_me_up_Lesson.ipynb",
      "provenance": [],
      "collapsed_sections": []
    },
    "kernelspec": {
      "name": "python3",
      "display_name": "Python 3"
    },
    "language_info": {
      "name": "python"
    }
  },
  "cells": [
    {
      "cell_type": "markdown",
      "metadata": {
        "id": "5H-rTZn-Y9OY"
      },
      "source": [
        "# **Zip Me Up: ngrams**\n",
        "\n",
        "This lessons fills in the details about Python's built-in zip function. It 's a very powerful utility to help manipulate and maneuver data lists/arrays.\n",
        "\n",
        "**N-Grams Revisited**\n",
        "\n",
        "As a quick refresher, ngrams are a way to group words together (usually from processing text). They are contiguous sequence of n tokens.\n",
        "For example, tri-grams (N = 3) for the first 2 sentences in **The Cat in The Hat** (cith.txt) would be:\n",
        "\n",
        "```\n",
        "The sun did\n",
        "sun did not\n",
        "did not shine\n",
        "not shine It\n",
        "shine It was\n",
        "It was too\n",
        "was too wet\n",
        "too wet to\n",
        "wet to play\n",
        "```\n"
      ]
    },
    {
      "cell_type": "markdown",
      "metadata": {
        "id": "NOoRLSjvaa7K"
      },
      "source": [
        "You can print out the contents of the book using the following command:\n"
      ]
    },
    {
      "cell_type": "code",
      "metadata": {
        "id": "_J5JYa4VQqc5"
      },
      "source": [
        "def read_data_file(filename):\n",
        "  with open(filename, 'r') as fd:\n",
        "    return fd.read()\n",
        "        \n",
        "print(read_data_file(\"cith.txt\")[0:100])"
      ],
      "execution_count": null,
      "outputs": []
    },
    {
      "cell_type": "markdown",
      "metadata": {
        "id": "nBiOpEpXbL7H"
      },
      "source": [
        "One of the easiest ways to generate ngrams is to use Python's array slicing and comprehension syntax:\n",
        "\n",
        "\n",
        "\n",
        "```\n",
        "def get_ngrams(words, n):\n",
        "  total = len(words) - (n-1)\n",
        "  return [words[i:i+n] for i in range(total)]\n",
        "```\n",
        "\n"
      ]
    },
    {
      "cell_type": "code",
      "metadata": {
        "id": "SKnb3cwTbN6t"
      },
      "source": [
        "# type&run the above example/exercise in this cell\n"
      ],
      "execution_count": null,
      "outputs": []
    },
    {
      "cell_type": "markdown",
      "metadata": {
        "id": "k_I16OcHbTgS"
      },
      "source": [
        "Type in the above code and be sure to experiment. You should be able to parse this out:\n",
        " * Experiment with some simple sentences\n",
        " * 'Prove' to yourself that if there is M words, the number of ngrams would  be M - (n - 1)\n",
        " * words[i:i+n] is just a slice n long of the array words \n",
        " * [ slice for i in range(total) ]"
      ]
    },
    {
      "cell_type": "markdown",
      "metadata": {
        "id": "Z-jJEWnXcDvT"
      },
      "source": [
        "# **Zip Me UP**\n",
        "We have seen that working with parallel arrays can be cumbersome. The Python zip function can help manage the situation by taking different arrays and combining them into tuples: (Be sure to run and understand what is happening)."
      ]
    },
    {
      "cell_type": "code",
      "metadata": {
        "id": "f6r5HecLcMGB"
      },
      "source": [
        "players = [\"A. Gordon\", \"A. Holiday\", \"A. Nader\"]\n",
        "teams = [\"ORL\", \"IND\", \"OKC\"]\n",
        "y_old = [23, 22, 25]\n",
        "h_ins = [81, 73, 78]\n",
        "w_lbs = [220, 185, 225]\n",
        "\n",
        "values = zip(players, teams, y_old, h_ins, w_lbs)\n",
        "for t in values:\n",
        "  print(t)"
      ],
      "execution_count": null,
      "outputs": []
    },
    {
      "cell_type": "markdown",
      "metadata": {
        "id": "0kY1kmmVcUu-"
      },
      "source": [
        "The zip function returns an object (i.e. a custom type) that can be used as an iterator.\n",
        "If you want all the items in a list or you want access to a specific element, you simply convert the output into a list:"
      ]
    },
    {
      "cell_type": "code",
      "metadata": {
        "id": "9KoOf39lcWCl"
      },
      "source": [
        "values = zip(players, teams, y_old, h_ins, w_lbs)\n",
        "dataset = list(values)\n",
        "print(dataset)\n",
        "print(dataset[1])"
      ],
      "execution_count": null,
      "outputs": []
    },
    {
      "cell_type": "markdown",
      "metadata": {
        "id": "N81i7JWycuOW"
      },
      "source": [
        "Note that we have to recreate the value assigned to values. Once you iterate though the object, it is essentially empty.\n",
        "\n",
        "With zip and list comprehensions, we can even create a dictionary of data from parallel arrays:\n",
        "\n",
        "\n",
        "\n",
        "```\n",
        "values = list(zip(players, teams, y_old, h_ins, w_lbs))\n",
        "keys = ['p{}'.format(i) for i in range(len(values))]\n",
        "dataset = {k:v for k,v in zip(keys, values)}\n",
        "print(dataset)\n",
        "```\n",
        "\n"
      ]
    },
    {
      "cell_type": "code",
      "metadata": {
        "id": "jfw9scCyc5kY"
      },
      "source": [
        "#type in the above code\n"
      ],
      "execution_count": null,
      "outputs": []
    },
    {
      "cell_type": "markdown",
      "metadata": {
        "id": "iOBtjwiUdAXc"
      },
      "source": [
        "**Example: Building columns from rows using zip**\n",
        "\n",
        "Here's a more complex example of using zip to wrangle your data from one format to another. Look at the following familiar dataset. Our goal is to easily get a full column of values in a single list (or tuple). For example, the first column would be ['a',1,4,7] as a list or ('a',1,4,7) as a tuple\n",
        "\n",
        "```\n",
        "a, b, c\n",
        "1, 2, 3\n",
        "4, 5, 6\n",
        "7, 8, 9\n",
        "```\n"
      ]
    },
    {
      "cell_type": "markdown",
      "metadata": {
        "id": "yjqoznQYdYPH"
      },
      "source": [
        "So for this matrix (or table) of data, we want to get the 3 columns of data. Each column will have 4 items. This is an example of a column vector.\n",
        "\n",
        "**Set Up**\n",
        "\n",
        "We can easily read this data into a list of lists. So the first row is the header, the second row is the list [1,2,3], etc. You will want to be sure this code is run before all of the following examples.\n",
        "Before you run this code, try to figure out what gets printed on the last line.\n",
        "\n",
        "\n",
        "\n",
        "```\n",
        "table = [\n",
        "['a','b','c'],\n",
        "[ 1,  2,  3],\n",
        "[ 4,  5,  6],\n",
        "[ 7,  8,  9] ]\n",
        "\n",
        "header = table[0]\n",
        "rows   = table[1:]  # this right here, is why we love slicing\n",
        "print(header, rows)\n",
        "print(rows[1][1])   # what gets printed here (figure it out before running)\n",
        "```\n",
        "\n"
      ]
    },
    {
      "cell_type": "code",
      "metadata": {
        "id": "JFHg-aTTc_pM"
      },
      "source": [
        "#type in the above code\n"
      ],
      "execution_count": null,
      "outputs": []
    },
    {
      "cell_type": "markdown",
      "metadata": {
        "id": "AUxHdNdGdwVY"
      },
      "source": [
        "So for this matrix (or table) of data, we want to get the 3 columns of data.\n",
        "\n",
        "**Attempt 1:**\n",
        "\n",
        "Our first attempt will be to use the list concatenation operator '+':"
      ]
    },
    {
      "cell_type": "code",
      "metadata": {
        "id": "ZrSSRS5Xd3QH"
      },
      "source": [
        "column0 = header + rows[0]\n",
        "print(column0)"
      ],
      "execution_count": null,
      "outputs": []
    },
    {
      "cell_type": "markdown",
      "metadata": {
        "id": "XWwL0Xu3d6hp"
      },
      "source": [
        "This is not what we wanted. Does the output make sense to you? \n",
        "\n",
        "However, even if you wanted do the following:\n",
        "\n",
        "```\n",
        "t = header[0] + str(rows[0][0]) + str(rows[1][0]) + str(rows[2][0])\n",
        "print(t)\n",
        "```\n",
        "The data is hard coded. You want to be able to build this regardless of the numbers of rows in the dataset."
      ]
    },
    {
      "cell_type": "markdown",
      "metadata": {
        "id": "uqgnFRqdeFVA"
      },
      "source": [
        "**Attempt 2:**\n",
        "\n",
        "You could try to use enumeration:"
      ]
    },
    {
      "cell_type": "code",
      "metadata": {
        "id": "_7PIN7hIeVjl"
      },
      "source": [
        "out = []\n",
        "for i in range(0, len(header)):\n",
        "  l = header[i]\n",
        "  v = rows[i]\n",
        "  out.append( (l,v) )\n",
        "print(out)"
      ],
      "execution_count": null,
      "outputs": []
    },
    {
      "cell_type": "markdown",
      "metadata": {
        "id": "uJC4x8BleZwu"
      },
      "source": [
        "This is closer. It at least builds an array of tuples .. wrong values though. Before continuing, think about what you would try next. You will get so much more out of this lesson if you try to solve it first.\n",
        "\n",
        "**Attempt 3: We need one more loop:**\n",
        "\n",
        "```\n",
        "out = []\n",
        "for i in range(0, len(header)):\n",
        "  l = header[i]\n",
        "  row = rows[i]\n",
        "  for j in range(0, len(row)):\n",
        "    v = row[j]\n",
        "    out.append( (l,v) )\n",
        "print(out)\n",
        "```\n",
        "Does that work?\n",
        "\n",
        "That is a lot of code. But it's important that you understand what is happening.\n",
        "\n",
        "We are looping through the rows in the table (i is the row index). Then for each row, we are looping for each of the values found at row i (j is the column index). So any cell is at table[i][j].\n",
        "\n",
        "**Attempt 4:**\n",
        "\n",
        "Let's try to use zip for solving this. As we have seen, zip works great if you have all your arrays ahead of time. Every parameter is suppose to be a list that will be \"zipped up\" with the other parameters. If we pass in a list for its parameters, zip will do the wrong thing:\n",
        "\n",
        "```\n",
        "print(rows)\n",
        "print(list(zip(rows)))\n",
        "```"
      ]
    },
    {
      "cell_type": "code",
      "metadata": {
        "id": "sXMgKPvRtGDx"
      },
      "source": [
        "# type&run the above example/exercise in this cell\n"
      ],
      "execution_count": null,
      "outputs": []
    },
    {
      "cell_type": "markdown",
      "metadata": {
        "id": "OCDj40p-fGpi"
      },
      "source": [
        "The function zip is looking for multiple arguments to zip up. In the above example, the zip function is only being passed one parameter (the rows).\n",
        "\n",
        "**\"Fixing\" zip:**\n",
        "\n",
        "As we have seen Python has a special 'operator', the ✱, that basically takes a list, and flattens it into its single elements:"
      ]
    },
    {
      "cell_type": "code",
      "metadata": {
        "id": "LyHJnGCyfOpe"
      },
      "source": [
        "items = [1,2,3]\n",
        "print(items)\n",
        "print(*items)"
      ],
      "execution_count": null,
      "outputs": []
    },
    {
      "cell_type": "markdown",
      "metadata": {
        "id": "QM1L-iW3fSFH"
      },
      "source": [
        "\n",
        "We can use that operator on the list we pass into zip. This operator will essentially pass each row to zip as a separate argument:\n",
        "\n",
        "```\n",
        "print(list(zip(*rows)))\n",
        "```"
      ]
    },
    {
      "cell_type": "code",
      "metadata": {
        "id": "tQ2ML0ibffUd"
      },
      "source": [
        "# type&run the above example/exercise in this cell\n"
      ],
      "execution_count": null,
      "outputs": []
    },
    {
      "cell_type": "markdown",
      "metadata": {
        "id": "jYNtQ3bUfZ8K"
      },
      "source": [
        "Oh WOW. So close. Make sure you can take apart that syntax and understand how it works. \n",
        "\n",
        "So zip(*rows) is similar to saying:\n",
        "\n",
        "zip(rows[0], rows[1], rows[2])\n",
        "\n",
        "But we never had to hard code the parameters (those numbers, 0, 1, 2 are 'hard coded'). If the number of rows in the table changes, we won't have to change our code.\n",
        "\n",
        "**Zipping It Up (finally)**\n",
        "```\n",
        "table = [\n",
        "   ['a','b','c'],\n",
        "   [1,2,3],\n",
        "   [4,5,6],\n",
        "   [7,8,9]\n",
        "]\n",
        "print(list(zip(*table)))\n",
        "```"
      ]
    },
    {
      "cell_type": "code",
      "metadata": {
        "id": "cbRzOx24fW0S"
      },
      "source": [
        "# type&run the above example/exercise in this cell\n"
      ],
      "execution_count": null,
      "outputs": []
    },
    {
      "cell_type": "markdown",
      "metadata": {
        "id": "ZzXc_YCLfv84"
      },
      "source": [
        "That syntax can be formidable, but once you know what zip does and how the operator works, reading complex syntax becomes a bit easier.\n",
        "\n",
        "#**Ngrams Revisited (Again)**\n",
        "\n",
        "We can use zip to build ngrams as well. Lets start with some simple data:\n",
        "\n",
        "words = \"The sun did not shine It was too wet to play\".split()\n",
        "\n",
        "![](https://drive.google.com/uc?export=view&id=1yUmDI0UrAlXYM2317_8hVtO_JdXiTbBD)\n"
      ]
    },
    {
      "cell_type": "markdown",
      "metadata": {
        "id": "pRYlMQftpwBI"
      },
      "source": [
        "**Bi-grams**\n",
        "\n",
        "For creating bi-grams, we pass in the words AND the words after removing the first word:\n",
        "\n",
        "```\n",
        "# bi-grams\n",
        "words = \"The sun did not shine It was too wet to play\".split()\n",
        "bigrams = list(zip(words, words[1:]))\n",
        "print(bigrams)\n",
        "```"
      ]
    },
    {
      "cell_type": "code",
      "metadata": {
        "id": "aKSKQ1XEgobV"
      },
      "source": [
        "# type&run the above example/exercise in this cell\n"
      ],
      "execution_count": null,
      "outputs": []
    },
    {
      "cell_type": "markdown",
      "metadata": {
        "id": "8QGG8dzOg3KY"
      },
      "source": [
        "**Tri-grams**\n",
        "\n",
        "For tri-grams, it's now 3 lists we need to pass to zip:\n",
        "\n",
        "```\n",
        "# tri-grams\n",
        "trigrams = list(zip(words, words[1:], words[2:]))\n",
        "print(trigrams)\n",
        "```"
      ]
    },
    {
      "cell_type": "code",
      "metadata": {
        "id": "Mptxb6_xg-wS"
      },
      "source": [
        "# type&run the above example/exercise in this cell\n"
      ],
      "execution_count": null,
      "outputs": []
    },
    {
      "cell_type": "markdown",
      "metadata": {
        "id": "Biq4_dHqhGZf"
      },
      "source": [
        "## **N-grams**\n",
        "\n",
        "Do you see a pattern ?\n",
        "\n",
        "* What's the pattern for 4 words ?\n",
        "* ``` zip(words, words[1:], words[2:], words[3:])```\n",
        "\n",
        "We can generalize the parameter pattern using words and n:\n",
        "\n",
        "* ```slices = [words[i:] for i in range(n)]```\n",
        "\n",
        "and then pass the slices to zip:\n",
        "* ```ngrams = zip( *slices )```\n",
        "\n",
        "\n",
        "Once again, be certain you understand why we need to unpack the slices before sending them to zip. Finally, putting it all together:\n",
        "\n",
        "```\n",
        "def find_ngrams_v1(words, n):\n",
        "  return zip(*[words[i:] for i in range(n)])\n",
        "print(list(find_ngrams_v1(words, 3)))\n",
        "```"
      ]
    },
    {
      "cell_type": "code",
      "metadata": {
        "id": "BmWklMIkiKhs"
      },
      "source": [
        "# type&run the above example/exercise in this cell\n"
      ],
      "execution_count": null,
      "outputs": []
    },
    {
      "cell_type": "markdown",
      "metadata": {
        "id": "pphL-rB5iPAH"
      },
      "source": [
        "### **Joining lists**\n",
        "\n",
        "If you ever want to present ngrams as a unified string, just use string's join method with each of the ngram's list:\n",
        "\n",
        "```\n",
        "def find_ngrams_v2(words, n):\n",
        "  ngrams = zip(*[words[i:] for i in range(n)])\n",
        "  return [\" \".join(ngram) for ngram in ngrams]\n",
        "\n",
        "print(list(find_ngrams_v2(words, 3)))\n",
        "```\n",
        "\n",
        "That was easy !! Take a look at the find_ngrams_v2.\n",
        "\n",
        "At first glance, it may seem impossible to understand but you now have the tools to unpack complex Pythonic code that you will see out in the wild."
      ]
    },
    {
      "cell_type": "code",
      "metadata": {
        "id": "SMkbBVEMjbXv"
      },
      "source": [
        "# type&run the above example/exercise in this cell\n"
      ],
      "execution_count": null,
      "outputs": []
    },
    {
      "cell_type": "markdown",
      "metadata": {
        "id": "SnZeznqgjpc_"
      },
      "source": [
        "## **Review**\n",
        "\n",
        "Before you go, you should know:\n",
        "\n",
        "* What does zip do?\n",
        "\n",
        "* What do you pass into zip?\n",
        "\n",
        "* What is the return type of zip?\n",
        "\n",
        "\n",
        "\n",
        "\n"
      ]
    },
    {
      "cell_type": "markdown",
      "metadata": {
        "id": "rsZqN7SxoSJJ"
      },
      "source": [
        "`## type in your answers to the above review questions ##`"
      ]
    },
    {
      "cell_type": "markdown",
      "metadata": {
        "id": "t1BRzloRoPpj"
      },
      "source": [
        "## **Lesson Assignment:**\n",
        "\n",
        "Be sure to type in all the examples first. For this lesson you will build on find_ngrams_v2.\n",
        "\n",
        "**Create it**\n",
        "\n",
        "Create a function named find_ngrams_bow:\n",
        "\n",
        "* it has 4 parameters (words, n, bow=False, stopwords=[])\n",
        "* words is a list of tokens/words\n",
        "* each word should be converted to lowercase\n",
        "* if bow is True, create ngrams such that order of the ngram words is no longer considered. Hence, each ngram is simply a bag-of-words (BOW). You can implement this by always using the alphabetical order for the words. For example the two ngrams, 'he said fine' and 'fine he said' would be the same ngram in the BOW model.\n",
        "* if stopwords contains words, those words should not be considered part of the text\n",
        "\n",
        "\n",
        "```\n",
        "import Collections\n",
        "def find_ngrams_bow():\n",
        "   return []\n",
        "\n",
        "def simple_test():\n",
        "  text = read_data_file('hp1.txt')\n",
        "  ngrams = find_ngrams_bow(text.split(), 3)\n",
        "  top5 = collections.Counter(ngrams).most_common(5)\n",
        "  print(top5)\n",
        "\n",
        "expected output of simple_test():\n",
        "[('of out the', 63), ('and harry ron', 51), ('end of the', 35), ('of rest the', 34), ('and hermione ron', 32)]\n",
        "```\n"
      ]
    },
    {
      "cell_type": "code",
      "metadata": {
        "id": "c1WyyoCQqXDi"
      },
      "source": [
        "import Collections\n",
        "def find_ngrams_bow():\n",
        "   return []\n",
        "\n",
        "def simple_test():\n",
        "  text = read_data_file('hp1.txt')\n",
        "  ngrams = find_ngrams_bow(text.split(), 3)\n",
        "  top5 = collections.Counter(ngrams).most_common(5)\n",
        "  print(top5)\n",
        "\n",
        "simple_test()"
      ],
      "execution_count": null,
      "outputs": []
    },
    {
      "cell_type": "markdown",
      "metadata": {
        "id": "Bc89ScJ9mKgz"
      },
      "source": [
        "## **Use it**\n",
        "\n",
        "With everything working, you will now use find_ngrams_bow to help support your research: \n",
        "\n",
        "**Question 1: write a function named q1 that takes no parameters.**\n",
        "\n",
        "The function will use find_ngrams_bow to answer the following question:\n",
        "\n",
        "As the n in ngrams increases, would you expect the BOW ngram counts to be higher or lower than non-BOW version?\n",
        "\n",
        "* make sure you understand the question\n",
        "* answer it BEFORE writing any code\n",
        "* now write the code inside q1 that will help you confirm/deny your answer. You can use any method you want (print statements, analytical calculations, etc).\n",
        "* q1 provides evidence to support the truth"
      ]
    },
    {
      "cell_type": "markdown",
      "metadata": {
        "id": "y8GfNPkwm0hC"
      },
      "source": [
        "**Question 2: write a function named q2 that takes no parameters.**\n",
        "\n",
        "The function will use find_ngrams_bow to answer the following question:\n",
        "\n",
        "If you add stopwords, should you see higher or lower counts in your ngrams?\n",
        "\n",
        "* make sure you understand the question\n",
        "* answer it BEFORE writing any code\n",
        "* now write the code inside q2 that will help you confirm/deny your answer. You can use any method you want (print statements, analytical calculations, etc).\n",
        "* q2 provides evidence to support the truth"
      ]
    },
    {
      "cell_type": "markdown",
      "metadata": {
        "id": "bLL5cpOrtq0v"
      },
      "source": [
        "**Steps to submit your work:**\n",
        "\n",
        "\n",
        "1.   Download the notebook from Moodle. It is recommended that you use Google Colab to work on it.\n",
        "2.   Upload any supporting files using file upload option within Google Colab.\n",
        "3.   Complete the exercises and/or assignments\n",
        "4.   Download as .ipynb\n",
        "5.   Name the file as \"lastname_firstname_WeekNumber.ipynb\"\n",
        "6.   After following the above steps, submit the final file in Moodle\n",
        "\n",
        "\n",
        "\n",
        "\n",
        "\n",
        "<h1><center>The End!</center></h1>"
      ]
    }
  ]
}
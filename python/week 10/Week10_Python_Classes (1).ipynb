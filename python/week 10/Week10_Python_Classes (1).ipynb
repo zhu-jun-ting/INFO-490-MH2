{
  "cells": [
    {
      "cell_type": "markdown",
      "metadata": {
        "id": "jQLWIq-AzqKV"
      },
      "source": [
        "#**Python Classes**\n",
        "This series (building classes) starts our journey to learning about creating user defined types (classes) in Python. We have been using classes for a while now (e.g collections.Counter) and have mentioned types several times (e.g. type(['a']), type(1)).\n",
        "\n",
        "At one point in Python's past, there was a difference between types and classes, but they are essentially the same and can be used interchangeably. Almost everything in Python (numbers, lists, strings) is associated with a class. This lesson is about learning to design and create classes.\n",
        "\n",
        "#**Why Classes?**\n",
        "\n",
        "Without classes, we would have to rely on modules (separate files like libraries) and functions. Although this may not sound too bad, in many situations it's easier to model and build a solution using classes."
      ]
    },
    {
      "cell_type": "markdown",
      "metadata": {
        "id": "ADpD_R_iz4ds"
      },
      "source": [
        "##**Classes, Objects, Instances**\n",
        "\n",
        "![](https://drive.google.com/uc?export=view&id=1TWFyOvNtj2E0gwj9mNWs9gwrakWG8Zmu)\n",
        "\n",
        "A class is a blueprint to how to make instances (a.k.a. objects). Instances are a specific instantiation of a class. The python type function lets you know what class an instance belongs to. Each instance of a class (i.e. an object) is located somewhere in memory. The id function in Python, lets you know where in memory an instance is located (stored):"
      ]
    },
    {
      "cell_type": "code",
      "execution_count": 48,
      "metadata": {
        "id": "cPCbWFpRz9gr"
      },
      "outputs": [
        {
          "name": "stdout",
          "output_type": "stream",
          "text": [
            "<class 'int'> 140652408085072 <class 'function'>\n"
          ]
        }
      ],
      "source": [
        "def simple10():\n",
        "  return 10\n",
        "a = 10\n",
        "print(type(a), id(a), type(simple10))"
      ]
    },
    {
      "cell_type": "markdown",
      "metadata": {
        "id": "PjCTFMPK0Ovl"
      },
      "source": [
        "You almost never need to use those functions, but they are super handy for debugging a situation where you need to manage instances. And as you can see even functions have a class in Python.\n",
        "\n",
        "\n",
        "\n",
        "\n",
        "> **Coder's Log:** If you are really curious, see what happens when you do the following print(id(a), id(10), id(simple10())). Python actually reserves memory for some of the constants.\n",
        "\n",
        "A class is simply a container that holds functions and data (a function inside a class is called a method). A class is used to help organize your code. When you build a class, you are usually putting functions (and data) that belong together."
      ]
    },
    {
      "cell_type": "markdown",
      "metadata": {
        "id": "de-7N20i0c0H"
      },
      "source": [
        "##**Encapsulation**\n",
        "\n",
        "Classes are an abstract design to help encapsulate data and functions that work on that data. Encapsulation is the idea of putting items that belong together is a common container. The word data can mean both the internal data the class is 'holding' (think of the collection.Counter) but also properties of the class. Properties are just variables inside a class.\n",
        "\n",
        "If you had a Person class, you might have properties first_name and last_name. Because the data is walled off (you need to use the class/object to access the data), it provides a level of security. We call the bundling of data and the methods that work on that data encapsulation.\n"
      ]
    },
    {
      "cell_type": "markdown",
      "metadata": {
        "id": "1u6Kq2fD0npW"
      },
      "source": [
        "## **World Modeling**\n",
        "\n",
        "Deciding how and when to use classes comes with experience and practice. If you ever have a group of functions that work on the same data, that is a clue that a class can help you. Take a look at the following code. It demonstrates a simple way to calculate the GPA for a student's classes.\n",
        "\n",
        "\n",
        "\n",
        "```\n",
        "def update_name(data):\n",
        "   pass\n",
        "\n",
        "def calculate_gpa(data):\n",
        "   pass\n",
        "\n",
        "def show_classes(data):\n",
        "   pass\n",
        "\n",
        "def build_data():\n",
        "   return {'classes': [{'name': 'info', 'credits':3, 'type': 'fun', 'grade':90.00},\n",
        "                       {'name': 'econ 101', 'credits':4, 'type': ' not fun', 'grade':80.00}]}\n",
        "\n",
        "data= build_data()\n",
        "update_name(data, 'info', 'mh2')\n",
        "calculate_gpa(data)\n",
        "show_classes(data)\n",
        "```\n",
        "\n",
        "###**Family of functions**\n",
        "\n",
        "In the above code, you have a group of functions that all work on the same data. This is a classic case where using a class would be better. Why? All those functions work on the same type of data (it's been passed in as a parameter). Sometimes you see similar code, but work on, gasp , global data. In any case, it's hard to manage those functions as you need to always remember that they 'belong' together. If the structure of the data changes, you would have to remember to update the corresponding functions.\n",
        "\n",
        "###**Architecting a multiple component solution**\n",
        "\n",
        "Another case for using classes is when you need to model a solution that involves different parts or components. For example, if you were building a text analysis engine , you might want to use a class to represent the text, a class to manage building the text class from data, and different classes to manage algorithms to work on that text. The class architecture helps you keep a separation of concerns and build code that can be de-coupled (to some point).\n",
        "\n",
        "\n",
        "\n",
        "\n"
      ]
    },
    {
      "cell_type": "markdown",
      "metadata": {
        "id": "332spu2l1Dqn"
      },
      "source": [
        "#**Building Classes**\n",
        "The standard way in Python is put similar functions in the same file (called a module or library).\n",
        "\n",
        "The functions in the same file/module/library usually have some unifying purpose. Classes are done similarly. You put a class in a file and call that a module. Modules can have more than one class in them. But the standard practice is to have one public class per module. The word public in this context is referring to how you want others to use your class. The public classes are the ones available for others to use. Some classes can be considered private or protected as well -- definitions we will get to later.\n",
        "\n",
        "\n",
        ">  **Coder's Log:** The word package usually refers to a collection of modules. A module is a single file of python code that can be imported.\n",
        "\n",
        "\n",
        "\n",
        "#**Class Syntax**\n",
        "Much like creating a function in Python, creating a class involves using a few special keywords. We will start by building a class the models a 2D point. A 2D point has an x value and a y value.\n",
        "\n",
        "![](https://drive.google.com/uc?export=view&id=1ya_2bjSRxtdo-gSrc1Fd6_r3kn0BYkRf)\n",
        "\n",
        "Here's the syntax for creating the Point2D class:\n",
        "\n",
        "```\n",
        "class Point2D(object):\n",
        "  def __init__(self, xp, yp):\n",
        "      self.x = xp\n",
        "      self.y = yp\n",
        "```\n",
        "\n",
        "Here's how to read that class definition: Let's look at this code line by line:\n",
        "\n",
        "class Point2D(object):\n",
        "* using the keyword class, we define a new class named Point2D\n",
        "* when you create a class in Python you should **Capitalize** the first letter and use *CamelCase*. You can read more about [naming conventions](https://www.python.org/dev/peps/pep-0008/#class-names)\n",
        "* the thing named object inside the () is called the base class. It is optional and we will discuss it in a later lesson. But the Point2D class can do everything the object class can do.\n",
        "* the **:** marks the start of the class implementation\n",
        "\n",
        "def \\__init__(self, xp, yp): \n",
        "* the keyword def is used just like for defining functions.\n",
        "* the name \\__init__ is reserved for classes. The init method (method is the name of a function inside a class) gets called when you create a new object (i.e. an instance of the class). It is called the **constructor method**.\n",
        "* the double underscores __ around the name init signal to the reader that the function is 'private'. Functions with the double underscore are called dunder functions you can [read more](https://www.python.org/dev/peps/pep-0008/) about them\n",
        "* this init method has three arguments: self, xp, yp. The self argument refers to the **specific instance of the class**. All other parameters after the self argument can be given any valid Python variable name. In this case both xp and yp are just the names of the formal parameters.\n",
        "\n",
        "\n",
        "###**An important note about respecting privacy**\n",
        "\n",
        "Those who use your code (including the author -- you), should never call methods that begin with an _ (single or double) outside of the class code. Python won't enforce it, but you will announce to the world that you do not care about conventions, best practices, and building robust code.\n",
        "\n",
        "self.x = xp\n",
        "* this sets the internal variable x (meant to be managed only by the specific instance of Point2D) to the value held in the parameter xp\n",
        "* self.y = yp does the same but with y and yp\n",
        "* both x and y are called attributes (we'll see later how attributes become **properties**).\n",
        "\n",
        "\n",
        "###**An important note to self**\n",
        "\n",
        "The keyword ***self*** is used to refer to the specific memory location where the instance is living. It can only be used inside the class. Other languages use this to denote the same thing. As you will see, when you want to refer to methods, data, properties from inside the class, you need to use self.\n",
        "\n",
        "\n",
        "#**Creating Class Instances**\n",
        "\n",
        "Once the basic class is finished, you can now create instances. You just created the blueprint for what a class instance will 'look' like to Python. Every time you create a new instance, the \\__init__ method is called (also named the class constructor) and the new instance is created.\n",
        "\n",
        "```\n",
        "start = Point2D(4, 5)\n",
        "end = Point2D(10, 8)\n",
        "\n",
        "print(start)\n",
        "```\n",
        "\n",
        "**Exercise: Code it Up**\n",
        "Go ahead and create the class and the two instances (start and end)\n",
        "\n",
        "You can confirm that each instance created is living at a separate memory location.\n",
        "\n",
        "```\n",
        "print(id(start))\n",
        "print(id(end))\n",
        "```"
      ]
    },
    {
      "cell_type": "code",
      "execution_count": 49,
      "metadata": {},
      "outputs": [
        {
          "name": "stdout",
          "output_type": "stream",
          "text": [
            "140652523748080\n",
            "140652523747120\n",
            "x:4.00, y:5.00\n",
            "x:4.00, y:5.00 as point 2d\n"
          ]
        }
      ],
      "source": [
        "from functools import *\n",
        "\n",
        "@total_ordering\n",
        "class Point2D(object):\n",
        "\tdef __init__(self, x, y) -> None:\n",
        "\t\tsuper().__init__()\n",
        "\t\tself.x = x\n",
        "\t\tself.y = y\n",
        "\n",
        "\tdef __str__(self) -> str:\n",
        "\t\treturn super().__str__() + \" as point 2d\"\n",
        "\t\n",
        "\tdef __repr__(self):\n",
        "\t\treturn \"x:{:.2f}, y:{:.2f}\".format(self.x, self.y)\n",
        "\n",
        "\tdef __eq__(self, o: object) -> bool:\n",
        "\t\treturn self.x == o.x and self.y == o.y\n",
        "\t\n",
        "\tdef __gt__(self, o: object) -> bool:\n",
        "\t\treturn self.x > o.x and self.y > o.y\n",
        "\n",
        "start = Point2D(4, 5)\n",
        "end = Point2D(5, 7)\n",
        "\n",
        "print(id(start))\n",
        "print(id(end))\n",
        "print(repr(start))\n",
        "print(str(start))"
      ]
    },
    {
      "cell_type": "markdown",
      "metadata": {
        "id": "VgYbd-le3gKx"
      },
      "source": [
        "#**Adding Methods**\n",
        "###**Better Printing**\n",
        "\n",
        "What happened when you printed the instance start? It wasn't very user-friendly was it? We can fix that by adding a \\__repr__ method to our Point2D class. The repr method gets called by print or anytime you need to convert an instance to a string representation (as a reminder, it's called dunder method due to the (double underscores):\n",
        "\n",
        "```\n",
        "def __repr__(self):\n",
        "   return \"x:{:.2f}, y:{:.2f}\".format(self.x, self.y)\n",
        "```\n",
        "\n",
        "Add that code to the above class and re-run the code cell to see the better printing.\n",
        "\n",
        "> **Coder's Log:** Python also has a \\__str__ method that can be used to get the\n",
        "string version of the object. Informally, \\__str__ is used to get a 'readable' version (\\__repr__ gets the official representation). If you **don't** implement \\__repr__ but the method \\__str__ instead, Python will use that when it needs a string representation of the object.\n",
        "\n",
        "\n",
        "###**Better Equality**\n",
        "\n",
        "Another issue (yet to be seen) is the following:\n",
        "\n",
        "\n"
      ]
    },
    {
      "cell_type": "code",
      "execution_count": 50,
      "metadata": {
        "id": "UKvO8QQE4tg4"
      },
      "outputs": [
        {
          "name": "stdout",
          "output_type": "stream",
          "text": [
            "True\n"
          ]
        }
      ],
      "source": [
        "starta = Point2D(4,5)\n",
        "startb = Point2D(4,5)\n",
        "print(starta == startb)"
      ]
    },
    {
      "cell_type": "markdown",
      "metadata": {
        "id": "526KLB-O4wRr"
      },
      "source": [
        "As a default, Python will use the memory location of an object to determine equality. Two instances are equal if they occupy the same place in memory. However, for many classes, you will want a domain specific version of what it means for two objects/instances to be equal. For us, two points are equal if their x and y attributes are the same. We'll use another double underscore method to implement equality:\n",
        "\n",
        "```\n",
        "def __eq__(self, other):\n",
        "   return other is not None and self.x == other.x and self.y == other.y\n",
        "```\n",
        "\n",
        "Re-run the two point equality test. Also make note that the \\__eq__ implementation guards against a comparison to None.\n",
        "\n",
        "> **Coder's Log:** Another convenient thing Python does is when it sees the == sign (e.g. starta == startb), Python will call the object's dunder method \\__eq__. Python also allows you to define other operators as well.\n",
        "\n",
        "\n",
        "**Distance Between Two Points (2-D)**\n",
        "\n",
        "![](https://drive.google.com/uc?export=view&id=1lkNMW0RXDSeu83jK56mQlSvaejrYp5Ag)\n",
        "\n",
        "The distance between two points is given by:\n",
        "\n",
        "![](https://drive.google.com/uc?export=view&id=1n5NCxWde3uL5o-NcgwbfKHqQmJstQtM7)\n",
        "\n",
        "\n",
        "**Exercise adding distance**\n",
        "\n",
        "Add a method named distance that calculates the distance between itself and another point: \n",
        "* use the math.sqrt to find the square root.\n",
        "* once this is done, the following should work:\n",
        "\n",
        "```\n",
        "start = Point2D(4,5)\n",
        "end = Point2D(10,8)\n",
        "print(start.distance(end))\n",
        "```"
      ]
    },
    {
      "cell_type": "code",
      "execution_count": 51,
      "metadata": {},
      "outputs": [
        {
          "name": "stdout",
          "output_type": "stream",
          "text": [
            "140652524017840\n",
            "140652524018032\n",
            "x:4.00, y:5.00\n",
            "x:4.00, y:5.00 as point 2d\n"
          ]
        },
        {
          "data": {
            "text/plain": [
              "2.23606797749979"
            ]
          },
          "execution_count": 51,
          "metadata": {},
          "output_type": "execute_result"
        }
      ],
      "source": [
        "import math\n",
        "\n",
        "@total_ordering\n",
        "class Point2D(object):\n",
        "\tdef __init__(self, x, y) -> None:\n",
        "\t\tsuper().__init__()\n",
        "\t\tself.x = x\n",
        "\t\tself.y = y\n",
        "\n",
        "\tdef __str__(self) -> str:\n",
        "\t\treturn super().__str__() + \" as point 2d\"\n",
        "\t\n",
        "\tdef __repr__(self):\n",
        "\t\treturn \"x:{:.2f}, y:{:.2f}\".format(self.x, self.y)\n",
        "\n",
        "\tdef __eq__(self, o: object) -> bool:\n",
        "\t\treturn self.x == o.x and self.y == o.y\n",
        "\t\n",
        "\tdef __gt__(self, o: object) -> bool:\n",
        "\t\treturn self.x > o.x and self.y > o.y\n",
        "\n",
        "\tdef distance(self, o: object) -> float:\n",
        "\t\treturn math.sqrt((self.x - o.x)**2 + (self.y - o.y)**2)\n",
        "\n",
        "start = Point2D(4, 5)\n",
        "end = Point2D(5, 7)\n",
        "\n",
        "print(id(start))\n",
        "print(id(end))\n",
        "print(repr(start))\n",
        "print(str(start))\n",
        "start.distance(end)"
      ]
    },
    {
      "cell_type": "markdown",
      "metadata": {
        "id": "060nR1BG5WV7"
      },
      "source": [
        "#**A Dissonance Distance**\n",
        "\n",
        "Perhaps you didn't notice (we are still new at this), but does the function distance belong in the class Point2D?\n",
        "\n",
        "Creating and designing software is filled with these kind of questions and decisions. It's actually not clear at this point. But as you build out your classes, expect some methods and functionality to migrate from one class to another. Also, as the code inside a class grows, you should ask yourself if using another class makes sense as well.\n",
        "\n",
        "At first it may be perfectly fine to keep the distance method in Point2D. However, perhaps it makes more sense to create a Line class that encapsulates the idea of distance between 2 points. Let's do that.\n",
        "\n",
        "Fill in the Line class so the following code works (don't worry about \\__eq__):\n",
        "* the \\__init__ method will take two parameters of type Point2D\n",
        "* add only two attributes to hold the two points\n",
        "* add the method so line instances can be printed (format is up to you) \n",
        "* add the distance method"
      ]
    },
    {
      "cell_type": "code",
      "execution_count": 52,
      "metadata": {
        "id": "zzyZAQo1ISPf"
      },
      "outputs": [
        {
          "name": "stdout",
          "output_type": "stream",
          "text": [
            "<__main__.Line object at 0x7fec37bb2b20> at length 6.71\n",
            "6.708203932499369\n"
          ]
        }
      ],
      "source": [
        "import math\n",
        "\n",
        "@total_ordering\n",
        "class Point2D(object):\n",
        "\tdef __init__(self, x, y) -> None:\n",
        "\t\tsuper().__init__()\n",
        "\t\tself.x = x\n",
        "\t\tself.y = y\n",
        "\n",
        "\tdef __str__(self) -> str:\n",
        "\t\treturn super().__str__() + \" as point 2d\"\n",
        "\t\n",
        "\tdef __repr__(self):\n",
        "\t\treturn \"x:{:.2f}, y:{:.2f}\".format(self.x, self.y)\n",
        "\n",
        "\tdef __eq__(self, o: object) -> bool:\n",
        "\t\treturn self.x == o.x and self.y == o.y\n",
        "\t\n",
        "\tdef __gt__(self, o: object) -> bool:\n",
        "\t\treturn self.x > o.x and self.y > o.y\n",
        "\n",
        "\tdef distance(self, o: object) -> float:\n",
        "\t\treturn math.sqrt((self.x - o.x)**2 + (self.y - o.y)**2)\n",
        "\n",
        "\n",
        "class Line(object):\n",
        "  def __init__(self, start, end) -> None:\n",
        "    super().__init__()\n",
        "    self.start = start\n",
        "    self.end = end\n",
        "\n",
        "  @property\n",
        "  def distance(self) -> float:\n",
        "    return self.start.distance(self.end)\n",
        "  \n",
        "  def __str__(self) -> str:\n",
        "      return super().__str__() + \" at length {:.2f}\".format(self.distance)\n",
        "\n",
        "start = Point2D(4,5)\n",
        "end = Point2D(10,8)\n",
        "\n",
        "# we create a line with 2 points\n",
        "line = Line(start, end)\n",
        "print(line)\n",
        "print(line.distance)"
      ]
    },
    {
      "cell_type": "markdown",
      "metadata": {
        "id": "DJLDm6Ki_YUf"
      },
      "source": [
        "#**Better Lines**\n",
        "Perhaps we are bit rusty on our line geometry and algebra, but you may remember that every line has two features:\n",
        "\n",
        "* a **slope** which signals how fast/slow the line changes (steep/shallow). \n",
        "* a **y intercept** which is a point that crosses the y axis.\n",
        "\n",
        "Let's create methods for both of those line attributes.\n",
        "\n",
        "###**Calculating Slope**\n",
        "\n",
        "Take a close look at the image below to verify you understand the math that is used to calculate the slope using two points (start and end in the image).\n",
        "\n",
        "\n",
        "![](https://drive.google.com/uc?export=view&id=1L9Ov774QA92OwuhXtxU3Pd8zj6fzmX9K)\n",
        "\n",
        "```\n",
        "class Line(object):\n",
        "  def __init__(self, start, end):\n",
        "    self.start = start\n",
        "    self.end = end\n",
        "\n",
        "    self.slope = None # calculate me !!!\n",
        "  \n",
        "  def get_slope(self):\n",
        "    return self.slope\n",
        "\n",
        "  # ... more code\n",
        "```\n",
        "\n",
        "Update the\n",
        "Line\n",
        "class so the following code will work. Note that we are\n",
        "ignoring the issue ofvertical lines where △x is 0 (infinite slope)."
      ]
    },
    {
      "cell_type": "code",
      "execution_count": 53,
      "metadata": {
        "id": "_vQFHrhB_s0G"
      },
      "outputs": [
        {
          "name": "stdout",
          "output_type": "stream",
          "text": [
            "0.5\n",
            "3.0\n"
          ]
        }
      ],
      "source": [
        "\n",
        "class Line(object):\n",
        "\tdef __init__(self, start, end) -> None:\n",
        "\t\tsuper().__init__()\n",
        "\t\tself.start = start\n",
        "\t\tself.end = end\n",
        "\n",
        "\tdef distance(self) -> float:\n",
        "\t\treturn self.start.distance(self.end)\n",
        "  \n",
        "\tdef __str__(self) -> str:\n",
        "\t  return super().__str__() + \" at length {:.2f}\".format(self.distance)\n",
        "\n",
        "\tdef get_slope(self) -> float:\n",
        "\t\treturn (self.end.y - self.start.y) / (self.end.x - self.start.x)\n",
        "\n",
        "\tdef get_y0(self) -> float:\n",
        "\t\treturn self.start.y - self.start.x * self.get_slope()\n",
        "\t\n",
        "\n",
        "\n",
        "\n",
        "# put the entire updated Line class here\n",
        "start = Point2D(4,5)\n",
        "end = Point2D(10,8)\n",
        "line = Line(start, end)\n",
        "print(line.get_slope())\n",
        "print(line.get_y0())"
      ]
    },
    {
      "cell_type": "markdown",
      "metadata": {
        "id": "OTVyP2wtAKsL"
      },
      "source": [
        "###**Calculating y intercept (a.k.a b, y0 )**\n",
        "\n",
        "The next value to calculate is where the line crosses the Y axis. It's called the the y- intercept.\n",
        "\n",
        "\n",
        "![](https://drive.google.com/uc?export=view&id=1qWLYU3zikezmkASYB5ZlyWjOUstartT93u6)\n",
        "\n",
        "In order to find where the line crosses the Y axis, we will start with the basic slope-intercept equation for a line (hopefully, this (perhaps?) looks familiar):\n",
        "\n",
        "              y = mx + b\n",
        "\n",
        "* b is the y intercept\n",
        "* m is the slope\n",
        "* x is independent variable that marks its location on the X axis\n",
        "* y is the calculated value (based on both the slope and y intercept)\n",
        "\n",
        "Let's get our algebra gears going and solve for b:\n",
        "\n",
        "![](https://drive.google.com/uc?export=view&id=1dwQwe-boopu_uGLRuAE6OtctFZmfeZY8)\n",
        "\n",
        "Add the following to your Line class. In the example, we are using y0 for the y intercept.\n",
        "\n",
        "```\n",
        "def __init__(self):\n",
        "  # ... previous\n",
        "  self.y0 = None # do the calculation\n",
        "\n",
        "def get_y0(self):\n",
        "  return self.y0\n",
        "```\n",
        "\n",
        "Once that is done, the following code should work\n",
        "\n",
        "```\n",
        "start = Point2D(4,5)\n",
        "end = Point2D(10,8)\n",
        "line1 = Line(start, end)\n",
        "print(line1.get_slope())\n",
        "print(line1.get_y0())\n",
        "print(line1.distance())\n",
        "```"
      ]
    },
    {
      "cell_type": "markdown",
      "metadata": {
        "id": "w52mqmS8Bs42"
      },
      "source": [
        "#**Plotting Lines**\n",
        "Let's make sure things are working, by plotting the line. You should get a line similar to the images."
      ]
    },
    {
      "cell_type": "code",
      "execution_count": 54,
      "metadata": {
        "id": "6G7okiHhB0nC"
      },
      "outputs": [
        {
          "name": "stdout",
          "output_type": "stream",
          "text": [
            "4 5 10 8\n"
          ]
        },
        {
          "data": {
            "image/png": "[encoded data removed]",
            "text/plain": [
              "<Figure size 432x288 with 1 Axes>"
            ]
          },
          "metadata": {
            "needs_background": "light"
          },
          "output_type": "display_data"
        }
      ],
      "source": [
        "def plot_lines(lines):\n",
        "  import matplotlib.pyplot as plt\n",
        "  from matplotlib.ticker import MaxNLocator\n",
        "\n",
        "  fig,axes = plt.subplots()\n",
        "  colors = ['orange', 'b', 'y', 'b', 'g']\n",
        "  for idx, line in enumerate(lines):\n",
        "    print(line.start.x, line.start.y, line.end.x, line.end.y)\n",
        "    x = [line.start.x, line.end.x]\n",
        "    y = [line.start.y, line.end.y]\n",
        "    axes.plot(x,y, color = colors[idx%len(colors)])\n",
        "  axes.set_ylim(-1,20)\n",
        "  axes.set_xlim(-1,20)\n",
        "  axes.grid()\n",
        "  axes.yaxis.set_major_locator(MaxNLocator(integer=True))\n",
        "  axes.xaxis.set_major_locator(MaxNLocator(integer=True))\n",
        "  \n",
        "\n",
        "\n",
        "plot_lines([line])"
      ]
    },
    {
      "cell_type": "markdown",
      "metadata": {
        "id": "jm56SBqiB3tV"
      },
      "source": [
        "#**Lines in the general form**\n",
        "The previous line equation (called slope-intercept form) can also be written in the general form of a line: Ax + Bx + C = 0.\n",
        "\n",
        "![](https://drive.google.com/uc?export=view&id=1p8cM0--k6WA9d2MhlQ3InqCvzePLSdPx)\n",
        "\n",
        "Through the [magic of algebra](https://www.mathematics-monster.com/lessons/how_to_convert_a_linear_equation_from_general_form_to_slope_intercept_form.html), you can solve for A, B, C if you have two points.\n",
        "\n",
        "The following is a new class that implements the algebra. That is given two points, it calculates the A,B,C coefficients."
      ]
    },
    {
      "cell_type": "code",
      "execution_count": 55,
      "metadata": {
        "id": "nFE00GX7CLtZ"
      },
      "outputs": [],
      "source": [
        "class GeneralLine(object):\n",
        "  def __init__(self, start, end):\n",
        "\n",
        "    self.A     = end.y - start.y\n",
        "    self.B     = -(end.x - start.x)\n",
        "    self.C     = start.y * end.x - start.x * end.y\n",
        "    \n",
        "    self.slope = (-self.A/self.B)\n",
        "    self.y0    = (-self.C/self.B)\n",
        "    \n",
        "    self.start = start\n",
        "    self.end = end\n",
        "  \n",
        "  def get_slope(self):\n",
        "    return self.slope\n",
        "  \n",
        "  def get_y0(self):\n",
        "    return self.y0"
      ]
    },
    {
      "cell_type": "code",
      "execution_count": 56,
      "metadata": {},
      "outputs": [
        {
          "name": "stdout",
          "output_type": "stream",
          "text": [
            "4 5 10 8\n",
            "10 8.0 20 13.0\n"
          ]
        },
        {
          "data": {
            "image/png": "[encoded data removed]",
            "text/plain": [
              "<Figure size 432x288 with 1 Axes>"
            ]
          },
          "metadata": {
            "needs_background": "light"
          },
          "output_type": "display_data"
        }
      ],
      "source": [
        "import random\n",
        "def build_general(line):\n",
        "  random.seed(42) # life itself\n",
        "\n",
        "  # pick a random x between -10, and 20\n",
        "  x1 = random.randint(-10, 20)\n",
        "  # make x2 is 10 x-steps away\n",
        "  x2 = x1 + 10\n",
        "  \n",
        "  # solve for y1, y2 using x1, x2\n",
        "  # y = mx + b\n",
        "  y1 = line.get_slope()*x1 + line.get_y0()\n",
        "  y2 = line.get_slope()*x2 + line.get_y0()\n",
        "  \n",
        "  # create new points\n",
        "  start = Point2D(x1, y1)\n",
        "  end = Point2D(x2, y2)\n",
        "  \n",
        "  return GeneralLine(start, end)\n",
        "\n",
        "g_line = build_general(line)\n",
        "plot_lines([line, g_line])"
      ]
    },
    {
      "cell_type": "markdown",
      "metadata": {
        "id": "FSHChy3YCOSO"
      },
      "source": [
        "Now we can visually confirm that the math is correct by generating 2 random points on the same line:\n",
        "\n",
        "```python\n",
        "import random\n",
        "def build_general(line):\n",
        "  random.seed(42) # life itself\n",
        "\n",
        "  # pick a random x between -10, and 20\n",
        "  x1 = random.randint(-10, 20)\n",
        "  # make x2 is 10 x-steps away\n",
        "  x2 = x1 + 10\n",
        "  \n",
        "  # solve for y1, y2 using x1, x2\n",
        "  # y = mx + b\n",
        "  y1 = line.get_slope()*x1 + line.get_y0()\n",
        "  y2 = line.get_slope()*x2 + line.get_y0()\n",
        "  \n",
        "  # create new points\n",
        "  start = Point2D(x1, y1)\n",
        "  end = Point2D(x2, y2)\n",
        "  \n",
        "  return GeneralLine(start, end)\n",
        "\n",
        "g_line = build_general(line1)\n",
        "plot_lines([line1, g_line])\n",
        "```\n",
        "\n",
        "Be sure to implement all the above code. And confirm that the lines have the same slope."
      ]
    },
    {
      "cell_type": "markdown",
      "metadata": {
        "id": "lJbIv-EECcdW"
      },
      "source": [
        "#**Back to Class**\n",
        "\n",
        "Currently we have built 3 classes: Point2D, Line, GeneralLine. I hope you can see the huge benefits of encapsulating all the data, logic and methods into classes. Without classes, we would have a large set of functions that would require a lot of remembering which functions belong together.\n",
        "\n",
        "**An Issue with Privacy**\n",
        "\n",
        "Let's run the following code and see if we can spot a problem:"
      ]
    },
    {
      "cell_type": "code",
      "execution_count": 57,
      "metadata": {
        "id": "9nmDm-mFC6y2"
      },
      "outputs": [
        {
          "name": "stdout",
          "output_type": "stream",
          "text": [
            "4 5 10 8\n",
            "0.5\n",
            "4 5 -7.4 8\n",
            "-0.2631578947368421\n"
          ]
        },
        {
          "data": {
            "image/png": "[encoded data removed]",
            "text/plain": [
              "<Figure size 432x288 with 1 Axes>"
            ]
          },
          "metadata": {
            "needs_background": "light"
          },
          "output_type": "display_data"
        },
        {
          "data": {
            "image/png": "[encoded data removed]",
            "text/plain": [
              "<Figure size 432x288 with 1 Axes>"
            ]
          },
          "metadata": {
            "needs_background": "light"
          },
          "output_type": "display_data"
        }
      ],
      "source": [
        "start = Point2D(4,5)\n",
        "end = Point2D(10,8)\n",
        "lineA = Line(start, end)\n",
        "plot_lines([lineA])\n",
        "print(lineA.get_slope())\n",
        "\n",
        "end.x = -7.4\n",
        "plot_lines([lineA])\n",
        "print(lineA.get_slope())"
      ]
    },
    {
      "cell_type": "markdown",
      "metadata": {
        "id": "2iNz3IgJC9Zy"
      },
      "source": [
        "What happened? Do you see the issue?\n",
        "\n",
        "We created a line (and plotted it), then the client code (the one that is using the library/module/class changed the x value for a point. This had a strange side effect in that the line changed as well!\n",
        "\n",
        "The user of the Point2D instance, modified the internal data of the instance, but neither the line nor the point instance were able to defend themselves. This is the worst kind of code graffiti.\n",
        "\n",
        "Be sure you understand the issue. It's bad enough that the data for the point instance was modified, but it also affected the line instance.\n",
        "This is a problem and we **need** to fix it.\n",
        "\n",
        "\n",
        "###**Decorating Privacy**\n",
        "\n",
        "The major issue is that a line's slope is based on the x and y values of the points that make up a line. If a point value is changed, ideally, any calculation done that depends on the new value, needs to be updated as well.\n",
        "\n",
        "In most cases, it's easiest just to 'wall off' or prevent such invasions of privacy.\n",
        "\n",
        "\n",
        "Variable visibility is about the access rights to a variable. We have seen function visibility and its local variables. Any variable defined in a function is only visible for that function (i.e. function visibility). For a class, a variable's privacy determines what others can read or write to the attributes.\n",
        "\n",
        "Encapsulation is supposed to help us with this kind of problem. Many object oriented (OO for short) languages (e.g. Java, C++) provide language constructs to mark data with a certain level of privacy.\n",
        "\n",
        "Unfortunately, it requires a bit more work to enforce privacy in Python. There are some general conventions:\n",
        "\n",
        "* name all 'private' attributes with a leading underscore (e.g. self._x) \n",
        "* add getters/setters methods (e.g. get_x(), set_x(new_value))\n",
        "* use a property decorator\n",
        "\n",
        "Let's go over each of the options in detail:\n",
        "\n",
        "**Add a leading _ your attributes**\n",
        "\n",
        "If a variable/attribute has a leading _ it's not meant to be used outside of the class. This is a Python **convention** and it is not enforced; just bad practice to access them:"
      ]
    },
    {
      "cell_type": "code",
      "execution_count": 65,
      "metadata": {
        "id": "nGh0VK-IDjp6"
      },
      "outputs": [
        {
          "name": "stdout",
          "output_type": "stream",
          "text": [
            "x:1000.00, y:20.00\n"
          ]
        }
      ],
      "source": [
        "class Point2D(object):\n",
        "    def __init__(self, x, y):\n",
        "      self._x = x\n",
        "      self._y = y\n",
        "\n",
        "    def __repr__(self):\n",
        "       return \"x:{:.2f}, y:{:.2f}\".format(self._x, self._y)\n",
        "\n",
        "start = Point2D(10,20)\n",
        "start.x = 100   # adds a new data to start instance\n",
        "start._x = 1000 # this works, but goes against Python conventions\n",
        "print(start)"
      ]
    },
    {
      "cell_type": "code",
      "execution_count": null,
      "metadata": {},
      "outputs": [],
      "source": []
    },
    {
      "cell_type": "markdown",
      "metadata": {
        "id": "JlfkteQlDles"
      },
      "source": [
        "As you noted, start.x is allowed, but it's actually adding new data to the instance.\n",
        "\n",
        "**Add getters/setters methods**\n",
        "\n",
        "You can also add methods that get values (for reading) or set values (for writing). This provides a public API to the class that you are offering to those who use your code. The downside is that it requires a bit more code to write."
      ]
    },
    {
      "cell_type": "code",
      "execution_count": 66,
      "metadata": {
        "id": "rwcwEYh8ESfz"
      },
      "outputs": [
        {
          "name": "stdout",
          "output_type": "stream",
          "text": [
            "10\n",
            "x:10.00, y:20.00\n",
            "x:100.00, y:20.00\n"
          ]
        }
      ],
      "source": [
        "class Point2D(object):\n",
        "    def __init__(self, x, y):\n",
        "      self._x = x\n",
        "      self._y = y\n",
        "\n",
        "    def get_x(self):\n",
        "      return self._x\n",
        "    \n",
        "    def set_x(self, x):\n",
        "      self._x = x\n",
        "    \n",
        "    def get_y(self):\n",
        "      return self._y\n",
        "    \n",
        "    def __repr__(self):\n",
        "       return \"x:{:.2f}, y:{:.2f}\".format(self._x, self._y)\n",
        "\n",
        "start = Point2D(10,20)\n",
        "print(start.get_x())\n",
        "start.x = 100  # adds a new data to start instance\n",
        "print(start)\n",
        "start.set_x(100)\n",
        "print(start)"
      ]
    },
    {
      "cell_type": "markdown",
      "metadata": {
        "id": "rx15UVGkEU7f"
      },
      "source": [
        "**Decorating your attributes**\n",
        "\n",
        "The best way to solve this is to use Python decorators. Decorators are a way embellish a class/methods and add functionality but without having to write additional code. In a later lesson, we can learn how to create our own decorators, for now we are just going to use a decorator meant to work with attributes. Decorated attributes are named properties.\n",
        "Classes can set up attributes to be read-only or allow both reading and writing.\n",
        "\n",
        "**Example of read-only properties**\n",
        "\n",
        "The following shows how to set a property to be read-only:\n",
        "\n",
        "```\n",
        "class Point2D(object):\n",
        "    # init method not shown\n",
        "\n",
        "    # y is read only\n",
        "    @property\n",
        "    def y(self):\n",
        "      return self._y\n",
        "    \n",
        "    # allow reading\n",
        "    @property\n",
        "    def x(self):\n",
        "      return self._x\n",
        "\n",
        "```"
      ]
    },
    {
      "cell_type": "markdown",
      "metadata": {
        "id": "Vy26lQ4HEg-w"
      },
      "source": [
        "By using the .setter decorator, you can set up a property to allow writes as well.\n",
        "\n",
        "```\n",
        "class Point2D(object):\n",
        "    # init method not shown\n",
        "    \n",
        "    # allow writing\n",
        "    @x.setter\n",
        "    def x(self, new_x):\n",
        "      self._x = new_x\n",
        "\n",
        "```"
      ]
    },
    {
      "cell_type": "markdown",
      "metadata": {
        "id": "b8q7DSesEoXx"
      },
      "source": [
        "Here's the full example to experiment with:"
      ]
    },
    {
      "cell_type": "code",
      "execution_count": 60,
      "metadata": {
        "id": "LFKFuFVFEuXR"
      },
      "outputs": [
        {
          "name": "stdout",
          "output_type": "stream",
          "text": [
            "x:10.00, y:20.00\n",
            "10\n",
            "x:100.00, y:20.00\n",
            "x:1000.00, y:20.00\n"
          ]
        }
      ],
      "source": [
        "class Point2D(object):\n",
        "    def __init__(self, x, y):\n",
        "      self._x = x\n",
        "      self._y = y\n",
        "\n",
        "    # y is read only\n",
        "    @property\n",
        "    def y(self):\n",
        "      return self._y\n",
        "    \n",
        "    # allow reading\n",
        "    @property\n",
        "    def x(self):\n",
        "      return self._x\n",
        "    \n",
        "    # allow writing\n",
        "    @x.setter\n",
        "    def x(self, new_x):\n",
        "      self._x = new_x\n",
        "    \n",
        "    def __repr__(self):\n",
        "       # self.x is now using the getter\n",
        "       return \"x:{:.2f}, y:{:.2f}\".format(self.x, self.y)\n",
        "\n",
        "start = Point2D(10,20)\n",
        "print(start)\n",
        "print(start.x)  # good to read\n",
        "start.x = 100. # allowed\n",
        "# start.y = 200 # NOT allowed\n",
        "print(start)\n",
        "start._x = 1000 # allowed BUT goes against python conventions\n",
        "print(start)\n",
        "\n",
        "  \n",
        "  "
      ]
    },
    {
      "cell_type": "markdown",
      "metadata": {
        "id": "kKblUIE9E7Yi"
      },
      "source": [
        "There are additional ways to prevent someone from writing to attribute (e.g. start._x = 1000); however, the additional work to do so is usually not done. It's usually buyer beware and a sign of poor programming if someone is messing with an instance's privacy.\n",
        "\n",
        "#**Fixing the Issue**\n",
        "\n",
        "As a reminder, the issue of privacy was introduced using the following example:\n",
        "\n",
        "```\n",
        "start = Point2D(4,5)\n",
        "end = Point2D(10,8)\n",
        "lineA = Line(start, end)\n",
        "plot_lines([lineA])\n",
        "end.x = -7.4\n",
        "```\n",
        "\n",
        "There's a couple of simple (and a few complex) ways to address this issue:\n",
        "\n",
        "* make the Point2D class have read-only attributes (a good idea)\n",
        "* the Line class could copy the points. \n",
        "\n",
        "This is a technical point, but in Python, when you assign an instance to a variable, you are not getting a copy of that instance. Python provides methods to do this but since Point2D is so simple, the Line class could just create new points."
      ]
    },
    {
      "cell_type": "markdown",
      "metadata": {
        "id": "MzrdFJ_3IgWm"
      },
      "source": [
        "#**Multiple Constructors**\n",
        "\n",
        "For the Line class, we created a line (actually a line segment) by using 2 points:\n"
      ]
    },
    {
      "cell_type": "code",
      "execution_count": 61,
      "metadata": {
        "id": "eIBwJ9x-75rq"
      },
      "outputs": [],
      "source": [
        "class Line(object):\n",
        "  def __init__(self, start=None, end=None, slope=None, y0=None):\n",
        "    if start is not None and end is not None:\n",
        "      self.start = start\n",
        "      self.end = end\n",
        "      \n",
        "      self.slope = (self.start.y - self.end.y)/(self.start.x - self.end.x)\n",
        "      self.y0 = self.start.y - self.slope * self.start.x \n",
        "\n",
        "start = Point2D(4,5)\n",
        "end = Point2D(10,8)\n",
        "line = Line(start, end)\n"
      ]
    },
    {
      "cell_type": "markdown",
      "metadata": {
        "id": "1l7Oz1I4IsN7"
      },
      "source": [
        "However, it would be useful to allow a Line to be constructed using a slope and a y intercept as well:\n",
        "\n",
        "```\n",
        "line2 = Line(slope=0.5, y0=3.0)\n",
        "```\n",
        "\n",
        "The easiest way to fix this is to add the necessary named parameters to the \\__init__ method:\n",
        "\n",
        "```\n",
        "\n",
        "def __init__(self, start=None, end=None, slope=None, y0=None):\n",
        "  if start is not None and end is not None:\n",
        "     #  build as usual\n",
        "  elif slope is not None and y0 is not None\n",
        "     # not much to do\n",
        "\n",
        "```\n",
        "\n",
        "You need to add named parameters so that the intent is known when the client (the person using your code) is creating Line objects.\n",
        "\n",
        "\n",
        "#**SO MUCH MORE**\n",
        "\n",
        "We really only scratched the surface: polymorphism, inheritance, composition, scope, class methods (static) design patterns, dependency injection ... (and the list goes on).\n",
        "\n",
        "However, we will start organizing our code using classes (instead of functions) and bring in new ideas as the situation demands. You now know enough to start building robust code.\n",
        "\n"
      ]
    },
    {
      "cell_type": "markdown",
      "metadata": {
        "id": "ETrjl1sfJbPY"
      },
      "source": [
        "#**Lesson Assignment**\n",
        "\n",
        "###**Creating a better line**\n",
        "We will create a new class that will help with finding the distance from points to the line.\n",
        "\n",
        "**BetterGeneralLine**\n",
        "\n",
        "Create the class BetterGeneralLine. It should have the same constructor and methods as GeneralLine. You will add a new method to BetterGeneralLine."
      ]
    },
    {
      "cell_type": "code",
      "execution_count": 62,
      "metadata": {
        "id": "ibjn9_dqOtRz"
      },
      "outputs": [],
      "source": [
        "class BetterGeneralLine(object):\n",
        "   ## fill me in\n",
        "   pass"
      ]
    },
    {
      "cell_type": "markdown",
      "metadata": {
        "id": "1gqmqztISDlh"
      },
      "source": [
        "#**Distance from a point to line.**\n",
        "\n",
        "When we discuss linear regression, the distance from an observed data point to the line (created by the model -- the regression or 'fitted' line) is the typical metric used (each data point has a distance). This distance, d, is shown in the diagram below.\n",
        "\n",
        "\n",
        "![](https://drive.google.com/uc?export=view&id=1TwVbF7MrGA_VhodckfeGFcRZmkAQvHXH)\n",
        "\n",
        "###**distance_to_point**\n",
        "\n",
        "Add a method named distance_to_point to BetterGeneralLine.\n",
        "* Its parameter is a Point2D type\n",
        "* returns the distance. This distance is a straight-forward calculation (the difference in y values between the predicted value and the actual value).\n",
        "\n",
        "###**perpendicular_distance_to_point**\n",
        "\n",
        "However, orthogonal regression (also referred to as Deming regression) can use the perpendicular distance from a point to the line (distance 'o' in the diagram) as its metric. This distance calculation is a bit more involved. The calculation is shown in the image.\n",
        "\n",
        "![](https://drive.google.com/uc?export=view&id=1n83zkEj4591PqY37sfmiwojn5vomYgm1)\n",
        "\n",
        "Add a method named perpendicular_distance_to_point to BetterGeneralLine.\n",
        "* Its parameter is a Point2D type\n",
        "* returns the calculated perpendicular distance to given point. As a learning bonus, you can calculate this value using linear algebra (vector cross products) as [well](https://www.qc.edu.hk/math/Advanced%20Level/Point_to_line.html).\n",
        "\n"
      ]
    },
    {
      "cell_type": "code",
      "execution_count": 115,
      "metadata": {},
      "outputs": [],
      "source": [
        "def cast(cls, to_be_casted_obj):\n",
        "\tcasted_obj = cls()\n",
        "\tcasted_obj.__dict__ = to_be_casted_obj.__dict__\n",
        "\treturn casted_obj"
      ]
    },
    {
      "cell_type": "code",
      "execution_count": 101,
      "metadata": {},
      "outputs": [
        {
          "data": {
            "text/plain": [
              "1"
            ]
          },
          "execution_count": 101,
          "metadata": {},
          "output_type": "execute_result"
        }
      ],
      "source": [
        "class Point2D(object):\n",
        "    def __init__(self, x, y):\n",
        "      self._x = x\n",
        "      self._y = y\n",
        "\n",
        "    # y is read only\n",
        "    @property\n",
        "    def y(self):\n",
        "      return self._y\n",
        "    \n",
        "    # allow reading\n",
        "    @property\n",
        "    def x(self):\n",
        "      return self._x\n",
        "    \n",
        "    # allow writing\n",
        "    @x.setter\n",
        "    def x(self, new_x):\n",
        "      self._x = new_x\n",
        "\n",
        "\t\t# allow writing\n",
        "    @y.setter\n",
        "    def y(self, new_y):\n",
        "      self._y = new_y\n",
        "    \n",
        "    def __repr__(self):\n",
        "       # self.x is now using the getter\n",
        "       return \"x:{:.2f}, y:{:.2f}\".format(self.x, self.y)\n",
        "\n",
        "Point2D(1, 1).x"
      ]
    },
    {
      "cell_type": "code",
      "execution_count": 129,
      "metadata": {},
      "outputs": [
        {
          "name": "stdout",
          "output_type": "stream",
          "text": [
            "y = 0.5x + 3.0\n"
          ]
        },
        {
          "data": {
            "text/plain": [
              "x:2.00, y:4.00"
            ]
          },
          "execution_count": 129,
          "metadata": {},
          "output_type": "execute_result"
        }
      ],
      "source": [
        "class Line(object):\n",
        "\tdef __init__(self, start=None, end=None, slope=None, y0=None):\n",
        "\t\tif start is not None and end is not None:\n",
        "\t\t\tself.start = start\n",
        "\t\t\tself.end = end\n",
        "\n",
        "\t\t\tself.slope = (self.start.y - self.end.y)/(self.start.x - self.end.x)\n",
        "\t\t\tself.y0 = self.start.y - self.slope * self.start.x \n",
        "\n",
        "\t\telif slope is not None and y0 is not None:\n",
        "\t\t\tself.slope = slope\n",
        "\t\t\tself.y0 = y0\n",
        "\n",
        "\t\t\tself.start = None\n",
        "\t\t\tself.end = None\n",
        "\t\t\t\n",
        "\tdef find_point(self, x=None, y=None) -> Point2D:\n",
        "\t\tif x is not None:\n",
        "\t\t\t# slove y = slope * x + y0\n",
        "\t\t\treturn Point2D(x, self.slope * x+ self.y0)\n",
        "\t\telif y is not None:\n",
        "\t\t\treturn Point2D((y - self.y0) / self.slope, y)\n",
        "\n",
        "\t\n",
        "\tdef __str__(self) -> str:\n",
        "\t\treturn \"y = {}x + {}\".format(self.slope, self.y0)\n",
        "\n",
        "start = Point2D(4,5)\n",
        "end = Point2D(10,8)\n",
        "line = Line(start, end)\n",
        "\n",
        "print(str(line))\n",
        "line.find_point(y=4)"
      ]
    },
    {
      "cell_type": "code",
      "execution_count": 93,
      "metadata": {},
      "outputs": [
        {
          "data": {
            "text/plain": [
              "\"<class '__main__.Line'>\""
            ]
          },
          "execution_count": 93,
          "metadata": {},
          "output_type": "execute_result"
        }
      ],
      "source": [
        "class GeneralLine(Line):\n",
        "\tdef __init__(self, start=None, end=None, slope=None, y0=None):\n",
        "\t\tsuper().__init__(start=start, end=end, slope=slope, y0=y0)\n",
        "\n",
        "\t\tif start is not None and end is not None:\n",
        "\t\t\tself.A = end.y - start.y\n",
        "\t\t\tself.B = -(end.x - start.x)\n",
        "\t\t\tself.C = start.y * end.x - start.x * end.y\n",
        "\t\t\n",
        "\t\telif slope is not None and y0 is not None:\n",
        "\t\t\t# y = {slope}x + {y0}\n",
        "\t\t\tself.A = slope\n",
        "\t\t\tself.B = -1\n",
        "\t\t\tself.C = y0\n",
        "\n",
        "\tdef get_slope(self):\n",
        "\t\treturn self.slope\n",
        "\n",
        "\tdef get_y0(self):\n",
        "\t\treturn self.y0\n",
        "\t\n",
        "\tdef __str__(self) -> str:\n",
        "\t\t\treturn \"{}x + {}y + {} = 0\".format(self.A, self.B, self.C)\n",
        "\t\t\n",
        "\t\n",
        "start = Point2D(4,5)\n",
        "end = Point2D(10,8)\n",
        "line = GeneralLine(start, end)\n",
        "line2 = GeneralLine(slope=1, y0=0)\n",
        "\n",
        "str(line2.__class__.__base__)"
      ]
    },
    {
      "cell_type": "code",
      "execution_count": 126,
      "metadata": {},
      "outputs": [
        {
          "data": {
            "text/plain": [
              "1.7888543819998317"
            ]
          },
          "execution_count": 126,
          "metadata": {},
          "output_type": "execute_result"
        }
      ],
      "source": [
        "class BetterGeneralLine(GeneralLine):\n",
        "\n",
        "\tdef __init__(self, start=None, end=None, slope=None, y0=None):\n",
        "\t\tsuper().__init__(start=start, end=end, slope=slope, y0=y0)\n",
        "\t\n",
        "\tdef distance_to_point(self, point:object) -> float:\n",
        "\t\tif not isinstance(point, Point2D):\n",
        "\t\t\tprint(\"unsupported type for point\")\n",
        "\t\t\treturn 0.0\n",
        "\t\treturn abs(point.y - Line.find_point(self=self, x=point.x).y)\n",
        "\t\t# return self.get_slope()\n",
        "\t\n",
        "\tdef perpendicular_distance_to_point(self, point:object) -> float:\n",
        "\t\tif not isinstance(point, Point2D):\n",
        "\t\t\tprint(\"unsupported type for point\")\n",
        "\t\t\treturn 0.0\n",
        "\t\treturn (abs(self.A * point.x + self.B * point.y + self.C)) / math.sqrt(self.A**2 + self.B**2)\n",
        "\t\n",
        "\tdef demo(self):\n",
        "\t\treturn self.start\n",
        "\n",
        "great_line = BetterGeneralLine(start, end)\n",
        "great_point = Point2D(4, 7)\n",
        "great_line.perpendicular_distance_to_point(great_point)"
      ]
    },
    {
      "cell_type": "code",
      "execution_count": 127,
      "metadata": {},
      "outputs": [
        {
          "data": {
            "text/plain": [
              "x:4.00, y:5.00"
            ]
          },
          "execution_count": 127,
          "metadata": {},
          "output_type": "execute_result"
        }
      ],
      "source": [
        "great_line.demo()"
      ]
    },
    {
      "cell_type": "code",
      "execution_count": 121,
      "metadata": {},
      "outputs": [
        {
          "data": {
            "text/plain": [
              "<__main__.Line at 0x7fec37c9c850>"
            ]
          },
          "execution_count": 121,
          "metadata": {},
          "output_type": "execute_result"
        }
      ],
      "source": [
        "cast(Line, great_line)"
      ]
    },
    {
      "cell_type": "markdown",
      "metadata": {
        "id": "1gqmqztISDlh"
      },
      "source": [
        "#**Distance from a point to line.**\n",
        "\n",
        "When we discuss linear regression, the distance from an observed data point to the line (created by the model -- the regression or 'fitted' line) is the typical metric used (each data point has a distance). This distance, d, is shown in the diagram below.\n",
        "\n",
        "\n",
        "![](https://drive.google.com/uc?export=view&id=1TwVbF7MrGA_VhodckfeGFcRZmkAQvHXH)\n",
        "\n",
        "###**distance_to_point**\n",
        "\n",
        "Add a method named distance_to_point to BetterGeneralLine.\n",
        "* Its parameter is a Point2D type\n",
        "* returns the distance. This distance is a straight-forward calculation (the difference in y values between the predicted value and the actual value).\n",
        "\n",
        "###**perpendicular_distance_to_point**\n",
        "\n",
        "However, orthogonal regression (also referred to as Deming regression) can use the perpendicular distance from a point to the line (distance 'o' in the diagram) as its metric. This distance calculation is a bit more involved. The calculation is shown in the image.\n",
        "\n",
        "![](https://drive.google.com/uc?export=view&id=1n83zkEj4591PqY37sfmiwojn5vomYgm1)\n",
        "\n",
        "Add a method named perpendicular_distance_to_point to BetterGeneralLine.\n",
        "* Its parameter is a Point2D type\n",
        "* returns the calculated perpendicular distance to given point. As a learning bonus, you can calculate this value using linear algebra (vector cross products) as [well](https://www.qc.edu.hk/math/Advanced%20Level/Point_to_line.html).\n",
        "\n"
      ]
    },
    {
      "cell_type": "markdown",
      "metadata": {},
      "source": [
        "\n",
        "\n",
        "\n",
        "**Steps to submit your work:**\n",
        "\n",
        "\n",
        "1.   Download the lesson notebook from Moodle.\n",
        "2.   Upload any supporting files using file upload option within Google Colab.\n",
        "3.   Complete the exercises and/or assignments\n",
        "4.   Download as .ipynb\n",
        "5.   Name the file as \"lastname_firstname_WeekNumber.ipynb\"\n",
        "6.   After following the above steps, submit the final file in Moodle\n",
        "\n",
        "\n",
        "\n",
        "\n",
        "\n",
        "<h1><center>The End!</center></h1>"
      ]
    }
  ],
  "metadata": {
    "colab": {
      "collapsed_sections": [],
      "name": "Week10_Python_Classes.ipynb",
      "provenance": []
    },
    "interpreter": {
      "hash": "aee8b7b246df8f9039afb4144a1f6fd8d2ca17a180786b69acc140d282b71a49"
    },
    "kernelspec": {
      "display_name": "Python 3.9.7 64-bit",
      "name": "python3"
    },
    "language_info": {
      "codemirror_mode": {
        "name": "ipython",
        "version": 3
      },
      "file_extension": ".py",
      "mimetype": "text/x-python",
      "name": "python",
      "nbconvert_exporter": "python",
      "pygments_lexer": "ipython3",
      "version": "3.9.7"
    }
  },
  "nbformat": 4,
  "nbformat_minor": 0
}

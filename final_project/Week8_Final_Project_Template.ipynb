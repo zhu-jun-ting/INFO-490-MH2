{
  "nbformat": 4,
  "nbformat_minor": 0,
  "metadata": {
    "colab": {
      "name": "Week8_Final_Project_Template",
      "provenance": [],
      "collapsed_sections": []
    },
    "kernelspec": {
      "name": "python3",
      "display_name": "Python 3"
    }
  },
  "cells": [
    {
      "cell_type": "markdown",
      "metadata": {
        "id": "YiRDbOrkIpLp"
      },
      "source": [
        "# Final Project Template\n",
        "**Notebook Preparation for Lesson**\n",
        "\n",
        "Once you open the notebook:\n",
        "\n",
        "1. Save in on your google drive (copy to drive) and name it DMAP FA21 Final Project\n",
        "2. Share the notebook and copy the share ID to the NOTEBOOK_ID (and re-save the notebook)\n",
        "3. This ID should remain the same for all your milestones\n",
        "4. You will submit a copy of your updated notebook (this file) on Moodle for each milestone\n"
      ]
    },
    {
      "cell_type": "code",
      "metadata": {
        "id": "MPrJ8HLyC-Cd"
      },
      "source": [
        "# Keep this code cell here\n",
        "# Project title will be used by the reviewer\n",
        "PROJECT_TITLE = \"Put your project title here\"\n",
        "NOTEBOOK_ID   = \"REPLACE ME WITH THE NOTEBOOK ID\"\n",
        "VERSION = \"FA21\""
      ],
      "execution_count": null,
      "outputs": []
    },
    {
      "cell_type": "markdown",
      "metadata": {
        "id": "ui5eQuo1DMEI"
      },
      "source": [
        "\n",
        "---\n",
        "# Project Introduction\n",
        "\n",
        "Double click on this cell to see its contents.  We expect you to replace this cell.\n",
        "\n",
        "<img align=\"left\" src=\"http://drive.google.com/uc?export=view&id=1nA9491MchEtFcklvtIGqOnipE63C2FGD\"/>\n",
        "\n",
        "• Describe the **context**, sitution, problem to be solved/explored\n",
        "\n",
        "• Whatever you need to get the reader _involved_\n",
        "\n",
        "• Images can be hosted using google drive (you may need to create a transparent border)\n",
        "\n",
        "• Even formulas when needed: \n",
        "$$e^x = \\sum_{k=0}^{\\infty} \\frac{x^k}{k!}$$\n",
        "\n",
        "• Note that markdown is very whitespace sensitive.\n",
        "• Click on this cell to read comments.\n",
        "\n",
        "<!-- this is a comment -->\n",
        "<!-- \n",
        "\n",
        "   VIDEO INSTRUCTIONS (and data hosting)\n",
        "\n",
        "1. upload to google drive, get the share URL\n",
        "https://drive.google.com/file/d/1yGvY5a0KAqnOKf5kLh5EbbbRY4_LonAX\n",
        "\n",
        "2. convert to export URL:\n",
        "http://drive.google.com/uc?export=download&id=1yGvY5a0KAqnOKf5kLh5EbbbRY4_LonAX\n",
        "\n",
        "3. OR use some other service to host your video:\n",
        "https://storage.googleapis.com/uicourse/videos/dmap/Exact%20Instructions%20Challenge%20-%20THIS%20is%20why%20my%20kids%20hate%20me.%20%20Josh%20Darnit.mp4\n",
        "\n",
        "replace the src=\"YOUR VIDEO URL\" in the <source> tag in the next cell below\n",
        "-->"
      ]
    },
    {
      "cell_type": "code",
      "metadata": {
        "id": "JQo5zhkeEuXL",
        "colab": {
          "base_uri": "https://localhost:8080/",
          "height": 426
        },
        "outputId": "f176ace4-0840-4d42-e061-63178ed46bd4"
      },
      "source": [
        "%%html\n",
        "<!-- this should be the ONLY html cell in the notebook: use markdown -->\n",
        "<div style=\"font-size:36px; max-width:800px; font-family:Times, serif;\">\n",
        " Title Your Video (and update the video URL)\n",
        "<video width=\"600\" controls>\n",
        "  <source src=\"https://drive.google.com/uc?export=download&id=1yGvY5a0KAqnOKf5kLh5EbbbRY4_LonAX\"\n",
        "  type=\"video/mp4\">\n",
        "</video>\n",
        "</div>\n",
        "Note: If your video is too large, you can host it on Vimeo, YouTube, etc and paste the URL here"
      ],
      "execution_count": null,
      "outputs": [
        {
          "output_type": "display_data",
          "data": {
            "text/html": [
              "<!-- this should be the ONLY html cell in the notebook: use markdown -->\n",
              "<div style=\"font-size:36px; max-width:800px; font-family:Times, serif;\">\n",
              " Title Your Video (and update the video URL)\n",
              "<video width=\"600\" controls>\n",
              "  <source src=\"https://drive.google.com/uc?export=download&id=1yGvY5a0KAqnOKf5kLh5EbbbRY4_LonAX\"\n",
              "  type=\"video/mp4\">\n",
              "</video>\n",
              "</div>\n",
              "Note: If your video is too large, you can host it on Vimeo, YouTube, etc and paste the URL here"
            ],
            "text/plain": [
              "<IPython.core.display.HTML object>"
            ]
          },
          "metadata": {}
        }
      ]
    },
    {
      "cell_type": "code",
      "metadata": {
        "id": "4ZK0-f54UAtE"
      },
      "source": [
        "# add your imports here for your entire project\n",
        "import pandas as pd\n",
        "import numpy as np"
      ],
      "execution_count": null,
      "outputs": []
    },
    {
      "cell_type": "markdown",
      "metadata": {
        "id": "AIx7b0ADNgtp"
      },
      "source": [
        "#Project Introduction\n",
        "A detailed description about the problem/ research question(s) you are addressing, goals/expected outcome of the project, a brief introduction to your data, and the techniques you will be using."
      ]
    },
    {
      "cell_type": "markdown",
      "metadata": {
        "id": "GJvmagnZDPjW"
      },
      "source": [
        "# Data Acquisition, Selection, Cleaning\n",
        "Introduce the data here as well as any technical overview that's important that wasn't given in the introduction\n"
      ]
    },
    {
      "cell_type": "markdown",
      "metadata": {
        "id": "cZiK2fxwGz80"
      },
      "source": [
        "# Data Exploration\n",
        "Initial exploration of the dataset, not required, but useful to give the reader a 'view' of the data"
      ]
    },
    {
      "cell_type": "markdown",
      "metadata": {
        "id": "AVqckiHyDUkD"
      },
      "source": [
        "# Data Analysis"
      ]
    },
    {
      "cell_type": "markdown",
      "metadata": {
        "id": "QHgmmT2XDXSu"
      },
      "source": [
        "# Summary"
      ]
    },
    {
      "cell_type": "markdown",
      "metadata": {
        "id": "hv41ElVE5d0K"
      },
      "source": [
        "\n",
        "---\n",
        "# Submission Guidelines (keep this section here)\n",
        "---\n",
        "\n",
        "\n",
        "When you are ready to submit your project, part of the submission process will be to register your notebook for reviewing.  \n",
        "\n",
        "For each milestone, you will submit an updated version of your project notebook (this notebook) with that milestone’s requirements. Your project notebook ID and URL should be the same.\n",
        "\n",
        "You will also receive the links and instructions to do the peer reviews.\n",
        "\n",
        "**Submission for Milestone0:**\n",
        "1. Save a copy of this notebook in your Google drive\n",
        "3. Share the Noetbook and place the Notebook ID in the first code cell\n",
        "4. Download as \"DMAP_FA21_Final_Project_MS0.ipynb\"\n",
        "5. Submit this in Moodle\n"
      ]
    }
  ]
}
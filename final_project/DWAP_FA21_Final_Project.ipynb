{
  "cells": [
    {
      "cell_type": "markdown",
      "metadata": {
        "id": "YiRDbOrkIpLp"
      },
      "source": [
        "# Final Project Template\n",
        "**Notebook Preparation for Lesson**\n",
        "\n",
        "Once you open the notebook:\n",
        "\n",
        "1. Save in on your google drive (copy to drive) and name it DMAP FA21 Final Project\n",
        "2. Share the notebook and copy the share ID to the NOTEBOOK_ID (and re-save the notebook)\n",
        "3. This ID should remain the same for all your milestones\n",
        "4. You will submit a copy of your updated notebook (this file) on Moodle for each milestone\n"
      ]
    },
    {
      "cell_type": "code",
      "execution_count": 1,
      "metadata": {
        "id": "MPrJ8HLyC-Cd"
      },
      "outputs": [],
      "source": [
        "# Keep this code cell here\n",
        "# Project title will be used by the reviewer\n",
        "PROJECT_TITLE = \"Put your project title here\"\n",
        "NOTEBOOK_ID   = \"https://colab.research.google.com/drive/1vzu2LxAkbpaArzj8nkQxfOXVkiTB98gd\"\n",
        "NET_ID = \"junting6\"\n",
        "VERSION = \"FA21\""
      ]
    },
    {
      "cell_type": "markdown",
      "metadata": {
        "id": "ui5eQuo1DMEI"
      },
      "source": [
        "\n",
        "---\n",
        "# Project Introduction\n",
        "\n",
        "Double click on this cell to see its contents.  We expect you to replace this cell.\n",
        "\n",
        "<img align=\"left\" src=\"http://drive.google.com/uc?export=view&id=1nA9491MchEtFcklvtIGqOnipE63C2FGD\"/>\n",
        "\n",
        "• Describe the **context**, sitution, problem to be solved/explored\n",
        "\n",
        "• Whatever you need to get the reader _involved_\n",
        "\n",
        "• Images can be hosted using google drive (you may need to create a transparent border)\n",
        "\n",
        "• Even formulas when needed: \n",
        "$$e^x = \\sum_{k=0}^{\\infty} \\frac{x^k}{k!}$$\n",
        "\n",
        "• Note that markdown is very whitespace sensitive.\n",
        "• Click on this cell to read comments.\n",
        "\n",
        "<!-- this is a comment -->\n",
        "<!-- \n",
        "\n",
        "   VIDEO INSTRUCTIONS (and data hosting)\n",
        "\n",
        "1. upload to google drive, get the share URL\n",
        "https://drive.google.com/file/d/1yGvY5a0KAqnOKf5kLh5EbbbRY4_LonAX\n",
        "\n",
        "2. convert to export URL:\n",
        "http://drive.google.com/uc?export=download&id=1yGvY5a0KAqnOKf5kLh5EbbbRY4_LonAX\n",
        "\n",
        "3. OR use some other service to host your video:\n",
        "https://storage.googleapis.com/uicourse/videos/dmap/Exact%20Instructions%20Challenge%20-%20THIS%20is%20why%20my%20kids%20hate%20me.%20%20Josh%20Darnit.mp4\n",
        "\n",
        "replace the src=\"YOUR VIDEO URL\" in the <source> tag in the next cell below\n",
        "-->"
      ]
    },
    {
      "cell_type": "code",
      "execution_count": 2,
      "metadata": {
        "colab": {
          "base_uri": "https://localhost:8080/",
          "height": 426
        },
        "id": "JQo5zhkeEuXL",
        "outputId": "f176ace4-0840-4d42-e061-63178ed46bd4"
      },
      "outputs": [],
      "source": [
        "# %%html\n",
        "# <!-- this should be the ONLY html cell in the notebook: use markdown -->\n",
        "# <div style=\"font-size:36px; max-width:800px; font-family:Times, serif;\">\n",
        "#  Title Your Video (and update the video URL)\n",
        "# <video width=\"600\" controls>\n",
        "#   <source src=\"https://drive.google.com/uc?export=download&id=1yGvY5a0KAqnOKf5kLh5EbbbRY4_LonAX\"\n",
        "#   type=\"video/mp4\">\n",
        "# </video>\n",
        "# </div>\n",
        "# Note: If your video is too large, you can host it on Vimeo, YouTube, etc and paste the URL here"
      ]
    },
    {
      "cell_type": "code",
      "execution_count": 3,
      "metadata": {
        "id": "4ZK0-f54UAtE"
      },
      "outputs": [],
      "source": [
        "# add your imports here for your entire project\n",
        "import nltk\n",
        "# nltk.download('punkt')\n",
        "from nltk.tokenize import word_tokenize\n",
        "from nltk.corpus import stopwords\n",
        "from nltk.stem import PorterStemmer\n",
        "import matplotlib.pyplot as plt\n",
        "from wordcloud import WordCloud\n",
        "from math import log, sqrt\n",
        "import pandas as pd\n",
        "import numpy as np\n",
        "import re\n",
        "%matplotlib inline"
      ]
    },
    {
      "cell_type": "markdown",
      "metadata": {
        "id": "AIx7b0ADNgtp"
      },
      "source": [
        "# Project: Sentimental Message Probability\n",
        "\n",
        "A detailed description about the problem/ research question(s) you are addressing, goals/expected outcome of the project, a brief introduction to your data, and the techniques you will be using."
      ]
    },
    {
      "cell_type": "markdown",
      "metadata": {},
      "source": [
        "### Introduction\n",
        "\n",
        "Twitter, facebook, wechat etc. are common social media. People always communicate for some reason, either being professional or conveying feelings. As human, we can read and decipher what is the feeling embedded in a excerpt of text and perform corresponding reactions. However, can machine learning algorithms also \"decipher\" the embedded feelings within the text? \n",
        "\n",
        "\n",
        "### About dataset\n",
        "\n",
        "the dataset I am using for this project is the sorted csv for centimental tweets. The source of this dataset can be found [here](https://www.kaggle.com/gargmanas/sentimental-analysis-for-tweets). This dataset labels each tweet with the indentifier as being_semtimental (as 1) and not_semtimental (as 0). \n",
        "\n",
        "the dataset has 3 columns, first one is index, second one is the text string of the message, third one is the identifier of whether this message is considered sentimental.\n",
        "\n",
        "### About goal\n",
        "\n",
        "The goal here I want to address is how to categorize a tweet/message as being semtimental or not. This is useful to find the embedded emotion based on the person's social activities, as well as we can expand this project to our other feelings like anger, joy, bitterness, etc. \n",
        "\n",
        "### What I hope to show and outline\n",
        "\n",
        "I hope to train a model that can \"read\" a line of tweet and then categorize it as being sentimental or not. There are two initial thoughts about how to achieve this:\n",
        "\n",
        "1. calculate the TFIDF of the sentimental corpus and the non sentimental corpus, then compare the words in the tweet with both models to classify this tweet to one of the category\n",
        "2. train the gensim NLP model of the sentimental corpus and the not sentimental corpus, then compare the cosine similarities.\n",
        "3. use supervised machine learning (something not covered yet in our class) to learn the difference of pattern in sentimental and not sentimental tweets, then test the model with incoming tweets.\n",
        "\n"
      ]
    },
    {
      "cell_type": "code",
      "execution_count": 4,
      "metadata": {},
      "outputs": [
        {
          "data": {
            "text/html": [
              "<div>\n",
              "<style scoped>\n",
              "    .dataframe tbody tr th:only-of-type {\n",
              "        vertical-align: middle;\n",
              "    }\n",
              "\n",
              "    .dataframe tbody tr th {\n",
              "        vertical-align: top;\n",
              "    }\n",
              "\n",
              "    .dataframe thead th {\n",
              "        text-align: right;\n",
              "    }\n",
              "</style>\n",
              "<table border=\"1\" class=\"dataframe\">\n",
              "  <thead>\n",
              "    <tr style=\"text-align: right;\">\n",
              "      <th></th>\n",
              "      <th>Index</th>\n",
              "      <th>message to examine</th>\n",
              "      <th>label (depression result)</th>\n",
              "    </tr>\n",
              "  </thead>\n",
              "  <tbody>\n",
              "    <tr>\n",
              "      <th>0</th>\n",
              "      <td>106</td>\n",
              "      <td>just had a real good moment. i missssssssss hi...</td>\n",
              "      <td>0</td>\n",
              "    </tr>\n",
              "    <tr>\n",
              "      <th>1</th>\n",
              "      <td>217</td>\n",
              "      <td>is reading manga  http://plurk.com/p/mzp1e</td>\n",
              "      <td>0</td>\n",
              "    </tr>\n",
              "    <tr>\n",
              "      <th>2</th>\n",
              "      <td>220</td>\n",
              "      <td>@comeagainjen http://twitpic.com/2y2lx - http:...</td>\n",
              "      <td>0</td>\n",
              "    </tr>\n",
              "    <tr>\n",
              "      <th>3</th>\n",
              "      <td>288</td>\n",
              "      <td>@lapcat Need to send 'em to my accountant tomo...</td>\n",
              "      <td>0</td>\n",
              "    </tr>\n",
              "    <tr>\n",
              "      <th>4</th>\n",
              "      <td>540</td>\n",
              "      <td>ADD ME ON MYSPACE!!!  myspace.com/LookThunder</td>\n",
              "      <td>0</td>\n",
              "    </tr>\n",
              "    <tr>\n",
              "      <th>...</th>\n",
              "      <td>...</td>\n",
              "      <td>...</td>\n",
              "      <td>...</td>\n",
              "    </tr>\n",
              "    <tr>\n",
              "      <th>10309</th>\n",
              "      <td>802309</td>\n",
              "      <td>No Depression by G Herbo is my mood from now o...</td>\n",
              "      <td>1</td>\n",
              "    </tr>\n",
              "    <tr>\n",
              "      <th>10310</th>\n",
              "      <td>802310</td>\n",
              "      <td>What do you do when depression succumbs the br...</td>\n",
              "      <td>1</td>\n",
              "    </tr>\n",
              "    <tr>\n",
              "      <th>10311</th>\n",
              "      <td>802311</td>\n",
              "      <td>Ketamine Nasal Spray Shows Promise Against Dep...</td>\n",
              "      <td>1</td>\n",
              "    </tr>\n",
              "    <tr>\n",
              "      <th>10312</th>\n",
              "      <td>802312</td>\n",
              "      <td>dont mistake a bad day with depression! everyo...</td>\n",
              "      <td>1</td>\n",
              "    </tr>\n",
              "    <tr>\n",
              "      <th>10313</th>\n",
              "      <td>802313</td>\n",
              "      <td>0</td>\n",
              "      <td>1</td>\n",
              "    </tr>\n",
              "  </tbody>\n",
              "</table>\n",
              "<p>10314 rows × 3 columns</p>\n",
              "</div>"
            ],
            "text/plain": [
              "        Index                                 message to examine  \\\n",
              "0         106  just had a real good moment. i missssssssss hi...   \n",
              "1         217         is reading manga  http://plurk.com/p/mzp1e   \n",
              "2         220  @comeagainjen http://twitpic.com/2y2lx - http:...   \n",
              "3         288  @lapcat Need to send 'em to my accountant tomo...   \n",
              "4         540      ADD ME ON MYSPACE!!!  myspace.com/LookThunder   \n",
              "...       ...                                                ...   \n",
              "10309  802309  No Depression by G Herbo is my mood from now o...   \n",
              "10310  802310  What do you do when depression succumbs the br...   \n",
              "10311  802311  Ketamine Nasal Spray Shows Promise Against Dep...   \n",
              "10312  802312  dont mistake a bad day with depression! everyo...   \n",
              "10313  802313                                                  0   \n",
              "\n",
              "       label (depression result)  \n",
              "0                              0  \n",
              "1                              0  \n",
              "2                              0  \n",
              "3                              0  \n",
              "4                              0  \n",
              "...                          ...  \n",
              "10309                          1  \n",
              "10310                          1  \n",
              "10311                          1  \n",
              "10312                          1  \n",
              "10313                          1  \n",
              "\n",
              "[10314 rows x 3 columns]"
            ]
          },
          "execution_count": 4,
          "metadata": {},
          "output_type": "execute_result"
        }
      ],
      "source": [
        "df = pd.read_csv(\"https://raw.githubusercontent.com/zhu-jun-ting/INFO-490-MH2/main/final_project/sentiment_tweets3.csv\")\n",
        "\n",
        "df"
      ]
    },
    {
      "cell_type": "markdown",
      "metadata": {
        "id": "GJvmagnZDPjW"
      },
      "source": [
        "# Data Acquisition, Selection, Cleaning\n",
        "Introduce the data here as well as any technical overview that's important that wasn't given in the introduction\n"
      ]
    },
    {
      "cell_type": "markdown",
      "metadata": {
        "id": "cZiK2fxwGz80"
      },
      "source": [
        "# Data Exploration\n",
        "Initial exploration of the dataset, not required, but useful to give the reader a 'view' of the data"
      ]
    },
    {
      "cell_type": "markdown",
      "metadata": {
        "id": "AVqckiHyDUkD"
      },
      "source": [
        "# Data Analysis"
      ]
    },
    {
      "cell_type": "markdown",
      "metadata": {
        "id": "QHgmmT2XDXSu"
      },
      "source": [
        "# Summary"
      ]
    },
    {
      "cell_type": "markdown",
      "metadata": {
        "id": "hv41ElVE5d0K"
      },
      "source": [
        "\n",
        "---\n",
        "# Submission Guidelines (keep this section here)\n",
        "---\n",
        "\n",
        "\n",
        "When you are ready to submit your project, part of the submission process will be to register your notebook for reviewing.  \n",
        "\n",
        "For each milestone, you will submit an updated version of your project notebook (this notebook) with that milestone’s requirements. Your project notebook ID and URL should be the same.\n",
        "\n",
        "You will also receive the links and instructions to do the peer reviews.\n",
        "\n",
        "**Submission for Milestone0:**\n",
        "1. Save a copy of this notebook in your Google drive\n",
        "3. Share the Noetbook and place the Notebook ID in the first code cell\n",
        "4. Download as \"DMAP_FA21_Final_Project_MS0.ipynb\"\n",
        "5. Submit this in Moodle\n"
      ]
    }
  ],
  "metadata": {
    "colab": {
      "collapsed_sections": [],
      "name": "DWAP FA21 Final Project",
      "provenance": []
    },
    "interpreter": {
      "hash": "aee8b7b246df8f9039afb4144a1f6fd8d2ca17a180786b69acc140d282b71a49"
    },
    "kernelspec": {
      "display_name": "Python 3.9.7 64-bit",
      "name": "python3"
    },
    "language_info": {
      "codemirror_mode": {
        "name": "ipython",
        "version": 3
      },
      "file_extension": ".py",
      "mimetype": "text/x-python",
      "name": "python",
      "nbconvert_exporter": "python",
      "pygments_lexer": "ipython3",
      "version": "3.9.7"
    }
  },
  "nbformat": 4,
  "nbformat_minor": 0
}
